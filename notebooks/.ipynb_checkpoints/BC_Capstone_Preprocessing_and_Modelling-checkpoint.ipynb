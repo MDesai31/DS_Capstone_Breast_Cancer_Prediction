{
 "cells": [
  {
   "cell_type": "markdown",
   "id": "e888e016",
   "metadata": {},
   "source": [
    "#### Imports"
   ]
  },
  {
   "cell_type": "code",
   "execution_count": 18,
   "id": "23f88829",
   "metadata": {},
   "outputs": [],
   "source": [
    "import pandas as pd\n",
    "import numpy as np\n",
    "import os\n",
    "import pickle\n",
    "import matplotlib.pyplot as plt\n",
    "import seaborn as sns\n",
    "from sklearn import __version__ as sklearn_version\n",
    "from sklearn.preprocessing import scale\n",
    "from sklearn.model_selection import train_test_split, cross_validate, GridSearchCV, learning_curve\n",
    "from sklearn.preprocessing import StandardScaler, MinMaxScaler\n",
    "from sklearn.linear_model import LogisticRegression\n",
    "from sklearn.ensemble import RandomForestRegressor\n",
    "from sklearn.metrics import classification_report, confusion_matrix, roc_curve, auc\n",
    "from sklearn.pipeline import make_pipeline\n",
    "from sklearn.impute import SimpleImputer\n",
    "from sklearn.feature_selection import SelectKBest, f_regression\n",
    "\n",
    "from library.sb_utils import save_file"
   ]
  },
  {
   "cell_type": "markdown",
   "id": "122ba213",
   "metadata": {},
   "source": [
    "### View, load and modify the data"
   ]
  },
  {
   "cell_type": "code",
   "execution_count": 2,
   "id": "056b4e1c",
   "metadata": {},
   "outputs": [],
   "source": [
    "bc_data = pd.read_csv('../data/bc_data_cleaned.csv')"
   ]
  },
  {
   "cell_type": "code",
   "execution_count": 3,
   "id": "2986613a",
   "metadata": {},
   "outputs": [
    {
     "name": "stdout",
     "output_type": "stream",
     "text": [
      "<class 'pandas.core.frame.DataFrame'>\n",
      "RangeIndex: 39317 entries, 0 to 39316\n",
      "Data columns (total 11 columns):\n",
      " #   Column                 Non-Null Count  Dtype  \n",
      "---  ------                 --------------  -----  \n",
      " 0   id                     39317 non-null  int64  \n",
      " 1   Clump_Thickness        39317 non-null  float64\n",
      " 2   Cell_Size_Uniformity   39317 non-null  float64\n",
      " 3   Cell_Shape_Uniformity  39317 non-null  float64\n",
      " 4   Marginal_Adhesion      39317 non-null  float64\n",
      " 5   Single_Epi_Cell_Size   39317 non-null  float64\n",
      " 6   Bare_Nuclei            39317 non-null  float64\n",
      " 7   Bland_Chromatin        39317 non-null  float64\n",
      " 8   Normal_Nucleoli        39317 non-null  float64\n",
      " 9   Mitoses                39317 non-null  float64\n",
      " 10  Class                  39317 non-null  object \n",
      "dtypes: float64(9), int64(1), object(1)\n",
      "memory usage: 3.3+ MB\n"
     ]
    }
   ],
   "source": [
    "bc_data.info()"
   ]
  },
  {
   "cell_type": "code",
   "execution_count": 4,
   "id": "11e0b1cd",
   "metadata": {},
   "outputs": [
    {
     "data": {
      "text/html": [
       "<div>\n",
       "<style scoped>\n",
       "    .dataframe tbody tr th:only-of-type {\n",
       "        vertical-align: middle;\n",
       "    }\n",
       "\n",
       "    .dataframe tbody tr th {\n",
       "        vertical-align: top;\n",
       "    }\n",
       "\n",
       "    .dataframe thead th {\n",
       "        text-align: right;\n",
       "    }\n",
       "</style>\n",
       "<table border=\"1\" class=\"dataframe\">\n",
       "  <thead>\n",
       "    <tr style=\"text-align: right;\">\n",
       "      <th></th>\n",
       "      <th>Clump_Thickness</th>\n",
       "      <th>Cell_Size_Uniformity</th>\n",
       "      <th>Cell_Shape_Uniformity</th>\n",
       "      <th>Marginal_Adhesion</th>\n",
       "      <th>Single_Epi_Cell_Size</th>\n",
       "      <th>Bare_Nuclei</th>\n",
       "      <th>Bland_Chromatin</th>\n",
       "      <th>Normal_Nucleoli</th>\n",
       "      <th>Mitoses</th>\n",
       "      <th>Class</th>\n",
       "    </tr>\n",
       "    <tr>\n",
       "      <th>id</th>\n",
       "      <th></th>\n",
       "      <th></th>\n",
       "      <th></th>\n",
       "      <th></th>\n",
       "      <th></th>\n",
       "      <th></th>\n",
       "      <th></th>\n",
       "      <th></th>\n",
       "      <th></th>\n",
       "      <th></th>\n",
       "    </tr>\n",
       "  </thead>\n",
       "  <tbody>\n",
       "    <tr>\n",
       "      <th>1</th>\n",
       "      <td>7.581819</td>\n",
       "      <td>9.745087</td>\n",
       "      <td>1.000000</td>\n",
       "      <td>4.503410</td>\n",
       "      <td>7.039930</td>\n",
       "      <td>10.000000</td>\n",
       "      <td>4.412282</td>\n",
       "      <td>10.000000</td>\n",
       "      <td>5.055266</td>\n",
       "      <td>malignant</td>\n",
       "    </tr>\n",
       "    <tr>\n",
       "      <th>2</th>\n",
       "      <td>5.210921</td>\n",
       "      <td>8.169596</td>\n",
       "      <td>7.841875</td>\n",
       "      <td>6.033275</td>\n",
       "      <td>4.269619</td>\n",
       "      <td>10.000000</td>\n",
       "      <td>4.236312</td>\n",
       "      <td>4.845350</td>\n",
       "      <td>1.000000</td>\n",
       "      <td>malignant</td>\n",
       "    </tr>\n",
       "    <tr>\n",
       "      <th>3</th>\n",
       "      <td>4.000000</td>\n",
       "      <td>4.594296</td>\n",
       "      <td>2.330380</td>\n",
       "      <td>2.000000</td>\n",
       "      <td>3.000000</td>\n",
       "      <td>1.000000</td>\n",
       "      <td>10.701823</td>\n",
       "      <td>1.101305</td>\n",
       "      <td>1.000000</td>\n",
       "      <td>benign</td>\n",
       "    </tr>\n",
       "    <tr>\n",
       "      <th>4</th>\n",
       "      <td>2.428871</td>\n",
       "      <td>1.000000</td>\n",
       "      <td>1.000000</td>\n",
       "      <td>1.000000</td>\n",
       "      <td>4.099291</td>\n",
       "      <td>1.000000</td>\n",
       "      <td>2.000000</td>\n",
       "      <td>1.000000</td>\n",
       "      <td>1.000000</td>\n",
       "      <td>benign</td>\n",
       "    </tr>\n",
       "    <tr>\n",
       "      <th>5</th>\n",
       "      <td>8.855971</td>\n",
       "      <td>2.697539</td>\n",
       "      <td>6.047068</td>\n",
       "      <td>3.301891</td>\n",
       "      <td>3.000000</td>\n",
       "      <td>1.000000</td>\n",
       "      <td>5.297592</td>\n",
       "      <td>4.104791</td>\n",
       "      <td>3.115741</td>\n",
       "      <td>malignant</td>\n",
       "    </tr>\n",
       "    <tr>\n",
       "      <th>...</th>\n",
       "      <td>...</td>\n",
       "      <td>...</td>\n",
       "      <td>...</td>\n",
       "      <td>...</td>\n",
       "      <td>...</td>\n",
       "      <td>...</td>\n",
       "      <td>...</td>\n",
       "      <td>...</td>\n",
       "      <td>...</td>\n",
       "      <td>...</td>\n",
       "    </tr>\n",
       "    <tr>\n",
       "      <th>39362</th>\n",
       "      <td>9.927819</td>\n",
       "      <td>9.356578</td>\n",
       "      <td>8.735863</td>\n",
       "      <td>9.857325</td>\n",
       "      <td>7.899676</td>\n",
       "      <td>10.000000</td>\n",
       "      <td>2.000000</td>\n",
       "      <td>7.783836</td>\n",
       "      <td>3.000000</td>\n",
       "      <td>malignant</td>\n",
       "    </tr>\n",
       "    <tr>\n",
       "      <th>39363</th>\n",
       "      <td>4.781275</td>\n",
       "      <td>1.000000</td>\n",
       "      <td>1.000000</td>\n",
       "      <td>1.000000</td>\n",
       "      <td>2.000000</td>\n",
       "      <td>1.000000</td>\n",
       "      <td>3.000000</td>\n",
       "      <td>1.000000</td>\n",
       "      <td>1.000000</td>\n",
       "      <td>benign</td>\n",
       "    </tr>\n",
       "    <tr>\n",
       "      <th>39364</th>\n",
       "      <td>5.479501</td>\n",
       "      <td>9.688672</td>\n",
       "      <td>2.000000</td>\n",
       "      <td>3.415991</td>\n",
       "      <td>5.915206</td>\n",
       "      <td>10.000000</td>\n",
       "      <td>7.930997</td>\n",
       "      <td>5.689254</td>\n",
       "      <td>5.650542</td>\n",
       "      <td>malignant</td>\n",
       "    </tr>\n",
       "    <tr>\n",
       "      <th>39365</th>\n",
       "      <td>4.000000</td>\n",
       "      <td>1.000000</td>\n",
       "      <td>1.000000</td>\n",
       "      <td>1.000000</td>\n",
       "      <td>2.000000</td>\n",
       "      <td>2.071265</td>\n",
       "      <td>3.000000</td>\n",
       "      <td>1.000000</td>\n",
       "      <td>1.000000</td>\n",
       "      <td>benign</td>\n",
       "    </tr>\n",
       "    <tr>\n",
       "      <th>39366</th>\n",
       "      <td>9.761903</td>\n",
       "      <td>9.817482</td>\n",
       "      <td>4.279460</td>\n",
       "      <td>9.337890</td>\n",
       "      <td>10.617945</td>\n",
       "      <td>5.960952</td>\n",
       "      <td>7.666130</td>\n",
       "      <td>10.000000</td>\n",
       "      <td>1.000000</td>\n",
       "      <td>malignant</td>\n",
       "    </tr>\n",
       "  </tbody>\n",
       "</table>\n",
       "<p>39317 rows × 10 columns</p>\n",
       "</div>"
      ],
      "text/plain": [
       "       Clump_Thickness  Cell_Size_Uniformity  Cell_Shape_Uniformity  \\\n",
       "id                                                                    \n",
       "1             7.581819              9.745087               1.000000   \n",
       "2             5.210921              8.169596               7.841875   \n",
       "3             4.000000              4.594296               2.330380   \n",
       "4             2.428871              1.000000               1.000000   \n",
       "5             8.855971              2.697539               6.047068   \n",
       "...                ...                   ...                    ...   \n",
       "39362         9.927819              9.356578               8.735863   \n",
       "39363         4.781275              1.000000               1.000000   \n",
       "39364         5.479501              9.688672               2.000000   \n",
       "39365         4.000000              1.000000               1.000000   \n",
       "39366         9.761903              9.817482               4.279460   \n",
       "\n",
       "       Marginal_Adhesion  Single_Epi_Cell_Size  Bare_Nuclei  Bland_Chromatin  \\\n",
       "id                                                                             \n",
       "1               4.503410              7.039930    10.000000         4.412282   \n",
       "2               6.033275              4.269619    10.000000         4.236312   \n",
       "3               2.000000              3.000000     1.000000        10.701823   \n",
       "4               1.000000              4.099291     1.000000         2.000000   \n",
       "5               3.301891              3.000000     1.000000         5.297592   \n",
       "...                  ...                   ...          ...              ...   \n",
       "39362           9.857325              7.899676    10.000000         2.000000   \n",
       "39363           1.000000              2.000000     1.000000         3.000000   \n",
       "39364           3.415991              5.915206    10.000000         7.930997   \n",
       "39365           1.000000              2.000000     2.071265         3.000000   \n",
       "39366           9.337890             10.617945     5.960952         7.666130   \n",
       "\n",
       "       Normal_Nucleoli   Mitoses      Class  \n",
       "id                                           \n",
       "1            10.000000  5.055266  malignant  \n",
       "2             4.845350  1.000000  malignant  \n",
       "3             1.101305  1.000000     benign  \n",
       "4             1.000000  1.000000     benign  \n",
       "5             4.104791  3.115741  malignant  \n",
       "...                ...       ...        ...  \n",
       "39362         7.783836  3.000000  malignant  \n",
       "39363         1.000000  1.000000     benign  \n",
       "39364         5.689254  5.650542  malignant  \n",
       "39365         1.000000  1.000000     benign  \n",
       "39366        10.000000  1.000000  malignant  \n",
       "\n",
       "[39317 rows x 10 columns]"
      ]
     },
     "execution_count": 4,
     "metadata": {},
     "output_type": "execute_result"
    }
   ],
   "source": [
    "bc_data.set_index('id')"
   ]
  },
  {
   "cell_type": "code",
   "execution_count": 5,
   "id": "e08fa94e",
   "metadata": {},
   "outputs": [
    {
     "data": {
      "text/plain": [
       "benign       25796\n",
       "malignant    13521\n",
       "Name: Class, dtype: int64"
      ]
     },
     "execution_count": 5,
     "metadata": {},
     "output_type": "execute_result"
    }
   ],
   "source": [
    "bc_data['Class'].value_counts()"
   ]
  },
  {
   "cell_type": "code",
   "execution_count": 6,
   "id": "f09e5d40",
   "metadata": {},
   "outputs": [
    {
     "data": {
      "text/html": [
       "<div>\n",
       "<style scoped>\n",
       "    .dataframe tbody tr th:only-of-type {\n",
       "        vertical-align: middle;\n",
       "    }\n",
       "\n",
       "    .dataframe tbody tr th {\n",
       "        vertical-align: top;\n",
       "    }\n",
       "\n",
       "    .dataframe thead th {\n",
       "        text-align: right;\n",
       "    }\n",
       "</style>\n",
       "<table border=\"1\" class=\"dataframe\">\n",
       "  <thead>\n",
       "    <tr style=\"text-align: right;\">\n",
       "      <th></th>\n",
       "      <th>id</th>\n",
       "      <th>Clump_Thickness</th>\n",
       "      <th>Cell_Size_Uniformity</th>\n",
       "      <th>Cell_Shape_Uniformity</th>\n",
       "      <th>Marginal_Adhesion</th>\n",
       "      <th>Single_Epi_Cell_Size</th>\n",
       "      <th>Bare_Nuclei</th>\n",
       "      <th>Bland_Chromatin</th>\n",
       "      <th>Normal_Nucleoli</th>\n",
       "      <th>Mitoses</th>\n",
       "      <th>Class</th>\n",
       "    </tr>\n",
       "  </thead>\n",
       "  <tbody>\n",
       "    <tr>\n",
       "      <th>0</th>\n",
       "      <td>1</td>\n",
       "      <td>7.581819</td>\n",
       "      <td>9.745087</td>\n",
       "      <td>1.000000</td>\n",
       "      <td>4.503410</td>\n",
       "      <td>7.039930</td>\n",
       "      <td>10.0</td>\n",
       "      <td>4.412282</td>\n",
       "      <td>10.000000</td>\n",
       "      <td>5.055266</td>\n",
       "      <td>1</td>\n",
       "    </tr>\n",
       "    <tr>\n",
       "      <th>1</th>\n",
       "      <td>2</td>\n",
       "      <td>5.210921</td>\n",
       "      <td>8.169596</td>\n",
       "      <td>7.841875</td>\n",
       "      <td>6.033275</td>\n",
       "      <td>4.269619</td>\n",
       "      <td>10.0</td>\n",
       "      <td>4.236312</td>\n",
       "      <td>4.845350</td>\n",
       "      <td>1.000000</td>\n",
       "      <td>1</td>\n",
       "    </tr>\n",
       "    <tr>\n",
       "      <th>2</th>\n",
       "      <td>3</td>\n",
       "      <td>4.000000</td>\n",
       "      <td>4.594296</td>\n",
       "      <td>2.330380</td>\n",
       "      <td>2.000000</td>\n",
       "      <td>3.000000</td>\n",
       "      <td>1.0</td>\n",
       "      <td>10.701823</td>\n",
       "      <td>1.101305</td>\n",
       "      <td>1.000000</td>\n",
       "      <td>0</td>\n",
       "    </tr>\n",
       "    <tr>\n",
       "      <th>3</th>\n",
       "      <td>4</td>\n",
       "      <td>2.428871</td>\n",
       "      <td>1.000000</td>\n",
       "      <td>1.000000</td>\n",
       "      <td>1.000000</td>\n",
       "      <td>4.099291</td>\n",
       "      <td>1.0</td>\n",
       "      <td>2.000000</td>\n",
       "      <td>1.000000</td>\n",
       "      <td>1.000000</td>\n",
       "      <td>0</td>\n",
       "    </tr>\n",
       "    <tr>\n",
       "      <th>4</th>\n",
       "      <td>5</td>\n",
       "      <td>8.855971</td>\n",
       "      <td>2.697539</td>\n",
       "      <td>6.047068</td>\n",
       "      <td>3.301891</td>\n",
       "      <td>3.000000</td>\n",
       "      <td>1.0</td>\n",
       "      <td>5.297592</td>\n",
       "      <td>4.104791</td>\n",
       "      <td>3.115741</td>\n",
       "      <td>1</td>\n",
       "    </tr>\n",
       "  </tbody>\n",
       "</table>\n",
       "</div>"
      ],
      "text/plain": [
       "   id  Clump_Thickness  Cell_Size_Uniformity  Cell_Shape_Uniformity  \\\n",
       "0   1         7.581819              9.745087               1.000000   \n",
       "1   2         5.210921              8.169596               7.841875   \n",
       "2   3         4.000000              4.594296               2.330380   \n",
       "3   4         2.428871              1.000000               1.000000   \n",
       "4   5         8.855971              2.697539               6.047068   \n",
       "\n",
       "   Marginal_Adhesion  Single_Epi_Cell_Size  Bare_Nuclei  Bland_Chromatin  \\\n",
       "0           4.503410              7.039930         10.0         4.412282   \n",
       "1           6.033275              4.269619         10.0         4.236312   \n",
       "2           2.000000              3.000000          1.0        10.701823   \n",
       "3           1.000000              4.099291          1.0         2.000000   \n",
       "4           3.301891              3.000000          1.0         5.297592   \n",
       "\n",
       "   Normal_Nucleoli   Mitoses  Class  \n",
       "0        10.000000  5.055266      1  \n",
       "1         4.845350  1.000000      1  \n",
       "2         1.101305  1.000000      0  \n",
       "3         1.000000  1.000000      0  \n",
       "4         4.104791  3.115741      1  "
      ]
     },
     "execution_count": 6,
     "metadata": {},
     "output_type": "execute_result"
    }
   ],
   "source": [
    "#convert Class value columns to 0: benign, 1: malignant\n",
    "bc_data['Class'] = bc_data['Class'].map({'malignant': 1, 'benign': 0})\n",
    "bc_data.head()"
   ]
  },
  {
   "cell_type": "markdown",
   "id": "85459282",
   "metadata": {},
   "source": [
    "### Train/test split"
   ]
  },
  {
   "cell_type": "code",
   "execution_count": 7,
   "id": "6c482584",
   "metadata": {},
   "outputs": [],
   "source": [
    "X = bc_data.drop('Class', axis=1)\n",
    "y = bc_data['Class']\n",
    "X_train, X_test, y_train, y_test = train_test_split(X, y, test_size=0.25, random_state=100)"
   ]
  },
  {
   "cell_type": "code",
   "execution_count": 8,
   "id": "686265cb",
   "metadata": {},
   "outputs": [
    {
     "data": {
      "text/plain": [
       "((29487, 10), (9830, 10))"
      ]
     },
     "execution_count": 8,
     "metadata": {},
     "output_type": "execute_result"
    }
   ],
   "source": [
    "X_train.shape, X_test.shape"
   ]
  },
  {
   "cell_type": "code",
   "execution_count": 9,
   "id": "81d3f38c",
   "metadata": {},
   "outputs": [
    {
     "data": {
      "text/plain": [
       "((29487,), (9830,))"
      ]
     },
     "execution_count": 9,
     "metadata": {},
     "output_type": "execute_result"
    }
   ],
   "source": [
    "y_train.shape, y_test.shape"
   ]
  },
  {
   "cell_type": "markdown",
   "id": "d5f4b9a2",
   "metadata": {},
   "source": [
    "### First Model: Logistic Regression"
   ]
  },
  {
   "cell_type": "code",
   "execution_count": 10,
   "id": "14680b53",
   "metadata": {},
   "outputs": [
    {
     "name": "stderr",
     "output_type": "stream",
     "text": [
      "C:\\Users\\manth\\anaconda3\\lib\\site-packages\\sklearn\\linear_model\\_logistic.py:458: ConvergenceWarning: lbfgs failed to converge (status=1):\n",
      "STOP: TOTAL NO. of ITERATIONS REACHED LIMIT.\n",
      "\n",
      "Increase the number of iterations (max_iter) or scale the data as shown in:\n",
      "    https://scikit-learn.org/stable/modules/preprocessing.html\n",
      "Please also refer to the documentation for alternative solver options:\n",
      "    https://scikit-learn.org/stable/modules/linear_model.html#logistic-regression\n",
      "  n_iter_i = _check_optimize_result(\n"
     ]
    }
   ],
   "source": [
    "log_model = LogisticRegression().fit(X_train,y_train)"
   ]
  },
  {
   "cell_type": "code",
   "execution_count": 11,
   "id": "d68d66f6",
   "metadata": {},
   "outputs": [],
   "source": [
    "y_train_preds = log_model.predict(X_train)\n",
    "y_test_preds = log_model.predict(X_test)"
   ]
  },
  {
   "cell_type": "markdown",
   "id": "ff80f01d",
   "metadata": {},
   "source": [
    "#### Assess model performance"
   ]
  },
  {
   "cell_type": "code",
   "execution_count": 16,
   "id": "c96349b5",
   "metadata": {},
   "outputs": [
    {
     "name": "stdout",
     "output_type": "stream",
     "text": [
      "Accuracy score (training): 0.921\n",
      "Accuracy score (validation): 0.922\n"
     ]
    }
   ],
   "source": [
    "#accuracy\n",
    "print(\"Accuracy score (training): {0:.3f}\".format(log_model.score(X_train, y_train)))\n",
    "print(\"Accuracy score (validation): {0:.3f}\".format(log_model.score(X_test, y_test)))"
   ]
  },
  {
   "cell_type": "code",
   "execution_count": 21,
   "id": "934d9f44",
   "metadata": {},
   "outputs": [
    {
     "name": "stdout",
     "output_type": "stream",
     "text": [
      "Classification Report (training)\n",
      "              precision    recall  f1-score   support\n",
      "\n",
      "           0       0.93      0.95      0.94     19373\n",
      "           1       0.90      0.87      0.88     10114\n",
      "\n",
      "    accuracy                           0.92     29487\n",
      "   macro avg       0.92      0.91      0.91     29487\n",
      "weighted avg       0.92      0.92      0.92     29487\n",
      "\n",
      "Classification Report (validation)\n",
      "              precision    recall  f1-score   support\n",
      "\n",
      "           0       0.93      0.95      0.94      6423\n",
      "           1       0.90      0.87      0.89      3407\n",
      "\n",
      "    accuracy                           0.92      9830\n",
      "   macro avg       0.92      0.91      0.91      9830\n",
      "weighted avg       0.92      0.92      0.92      9830\n",
      "\n"
     ]
    }
   ],
   "source": [
    "#classification score\n",
    "print('Classification Report (training)')\n",
    "print(classification_report(y_train,y_train_preds))\n",
    "print('Classification Report (validation)')\n",
    "print(classification_report(y_test,y_test_preds))"
   ]
  },
  {
   "cell_type": "code",
   "execution_count": 23,
   "id": "798d0553",
   "metadata": {},
   "outputs": [
    {
     "name": "stdout",
     "output_type": "stream",
     "text": [
      "Roc Curve (training)\n",
      "(array([0.        , 0.05192794, 1.        ]), array([0.        , 0.86919122, 1.        ]), array([2, 1, 0], dtype=int64))\n",
      "Roc Curve (validation)\n",
      "(array([0.        , 0.05200062, 1.        ]), array([0.        , 0.87378926, 1.        ]), array([2, 1, 0], dtype=int64))\n"
     ]
    }
   ],
   "source": [
    "#roc\n",
    "print('Roc Curve (training)')\n",
    "print(roc_curve(y_train,y_train_preds))\n",
    "print('Roc Curve (validation)')\n",
    "print(roc_curve(y_test,y_test_preds))"
   ]
  }
 ],
 "metadata": {
  "kernelspec": {
   "display_name": "Python 3 (ipykernel)",
   "language": "python",
   "name": "python3"
  },
  "language_info": {
   "codemirror_mode": {
    "name": "ipython",
    "version": 3
   },
   "file_extension": ".py",
   "mimetype": "text/x-python",
   "name": "python",
   "nbconvert_exporter": "python",
   "pygments_lexer": "ipython3",
   "version": "3.9.7"
  }
 },
 "nbformat": 4,
 "nbformat_minor": 5
}
