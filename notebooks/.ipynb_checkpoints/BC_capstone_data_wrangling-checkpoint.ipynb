{
 "cells": [
  {
   "cell_type": "markdown",
   "id": "2992b72a",
   "metadata": {},
   "source": [
    "### Imports"
   ]
  },
  {
   "cell_type": "code",
   "execution_count": 2,
   "id": "75182bd7",
   "metadata": {},
   "outputs": [],
   "source": [
    "import pandas as pd\n",
    "import numpy as np\n",
    "import matplotlib.pyplot as plt\n",
    "import seaborn as sns\n",
    "\n",
    "from library.sb_utils import save_file"
   ]
  },
  {
   "cell_type": "markdown",
   "id": "93839874",
   "metadata": {},
   "source": [
    "## 1. Data Collection"
   ]
  },
  {
   "cell_type": "code",
   "execution_count": 3,
   "id": "e1cbc113",
   "metadata": {},
   "outputs": [],
   "source": [
    "bc_data = pd.read_csv('../raw_data/breast_cancer_dataset.csv')"
   ]
  },
  {
   "cell_type": "code",
   "execution_count": 4,
   "id": "b93b448b",
   "metadata": {},
   "outputs": [
    {
     "data": {
      "text/html": [
       "<div>\n",
       "<style scoped>\n",
       "    .dataframe tbody tr th:only-of-type {\n",
       "        vertical-align: middle;\n",
       "    }\n",
       "\n",
       "    .dataframe tbody tr th {\n",
       "        vertical-align: top;\n",
       "    }\n",
       "\n",
       "    .dataframe thead th {\n",
       "        text-align: right;\n",
       "    }\n",
       "</style>\n",
       "<table border=\"1\" class=\"dataframe\">\n",
       "  <thead>\n",
       "    <tr style=\"text-align: right;\">\n",
       "      <th></th>\n",
       "      <th>id</th>\n",
       "      <th>Clump_Thickness</th>\n",
       "      <th>Cell_Size_Uniformity</th>\n",
       "      <th>Cell_Shape_Uniformity</th>\n",
       "      <th>Marginal_Adhesion</th>\n",
       "      <th>Single_Epi_Cell_Size</th>\n",
       "      <th>Bare_Nuclei</th>\n",
       "      <th>Bland_Chromatin</th>\n",
       "      <th>Normal_Nucleoli</th>\n",
       "      <th>Mitoses</th>\n",
       "      <th>Class</th>\n",
       "    </tr>\n",
       "  </thead>\n",
       "  <tbody>\n",
       "    <tr>\n",
       "      <th>0</th>\n",
       "      <td>1</td>\n",
       "      <td>7.581819</td>\n",
       "      <td>9.745087</td>\n",
       "      <td>1.000000</td>\n",
       "      <td>4.503410</td>\n",
       "      <td>7.039930</td>\n",
       "      <td>10.0</td>\n",
       "      <td>4.412282</td>\n",
       "      <td>10.000000</td>\n",
       "      <td>5.055266</td>\n",
       "      <td>malignant</td>\n",
       "    </tr>\n",
       "    <tr>\n",
       "      <th>1</th>\n",
       "      <td>2</td>\n",
       "      <td>5.210921</td>\n",
       "      <td>8.169596</td>\n",
       "      <td>7.841875</td>\n",
       "      <td>6.033275</td>\n",
       "      <td>4.269619</td>\n",
       "      <td>10.0</td>\n",
       "      <td>4.236312</td>\n",
       "      <td>4.845350</td>\n",
       "      <td>1.000000</td>\n",
       "      <td>malignant</td>\n",
       "    </tr>\n",
       "    <tr>\n",
       "      <th>2</th>\n",
       "      <td>3</td>\n",
       "      <td>4.000000</td>\n",
       "      <td>4.594296</td>\n",
       "      <td>2.330380</td>\n",
       "      <td>2.000000</td>\n",
       "      <td>3.000000</td>\n",
       "      <td>1.0</td>\n",
       "      <td>10.701823</td>\n",
       "      <td>1.101305</td>\n",
       "      <td>1.000000</td>\n",
       "      <td>benign</td>\n",
       "    </tr>\n",
       "    <tr>\n",
       "      <th>3</th>\n",
       "      <td>4</td>\n",
       "      <td>2.428871</td>\n",
       "      <td>1.000000</td>\n",
       "      <td>1.000000</td>\n",
       "      <td>1.000000</td>\n",
       "      <td>4.099291</td>\n",
       "      <td>1.0</td>\n",
       "      <td>2.000000</td>\n",
       "      <td>1.000000</td>\n",
       "      <td>1.000000</td>\n",
       "      <td>benign</td>\n",
       "    </tr>\n",
       "    <tr>\n",
       "      <th>4</th>\n",
       "      <td>5</td>\n",
       "      <td>8.855971</td>\n",
       "      <td>2.697539</td>\n",
       "      <td>6.047068</td>\n",
       "      <td>3.301891</td>\n",
       "      <td>3.000000</td>\n",
       "      <td>1.0</td>\n",
       "      <td>5.297592</td>\n",
       "      <td>4.104791</td>\n",
       "      <td>3.115741</td>\n",
       "      <td>malignant</td>\n",
       "    </tr>\n",
       "  </tbody>\n",
       "</table>\n",
       "</div>"
      ],
      "text/plain": [
       "   id  Clump_Thickness  Cell_Size_Uniformity  Cell_Shape_Uniformity  \\\n",
       "0   1         7.581819              9.745087               1.000000   \n",
       "1   2         5.210921              8.169596               7.841875   \n",
       "2   3         4.000000              4.594296               2.330380   \n",
       "3   4         2.428871              1.000000               1.000000   \n",
       "4   5         8.855971              2.697539               6.047068   \n",
       "\n",
       "   Marginal_Adhesion  Single_Epi_Cell_Size  Bare_Nuclei  Bland_Chromatin  \\\n",
       "0           4.503410              7.039930         10.0         4.412282   \n",
       "1           6.033275              4.269619         10.0         4.236312   \n",
       "2           2.000000              3.000000          1.0        10.701823   \n",
       "3           1.000000              4.099291          1.0         2.000000   \n",
       "4           3.301891              3.000000          1.0         5.297592   \n",
       "\n",
       "   Normal_Nucleoli   Mitoses      Class  \n",
       "0        10.000000  5.055266  malignant  \n",
       "1         4.845350  1.000000  malignant  \n",
       "2         1.101305  1.000000     benign  \n",
       "3         1.000000  1.000000     benign  \n",
       "4         4.104791  3.115741  malignant  "
      ]
     },
     "execution_count": 4,
     "metadata": {},
     "output_type": "execute_result"
    }
   ],
   "source": [
    "bc_data.head()"
   ]
  },
  {
   "cell_type": "code",
   "execution_count": 5,
   "id": "e5424cd1",
   "metadata": {},
   "outputs": [
    {
     "data": {
      "text/plain": [
       "<bound method DataFrame.info of           id  Clump_Thickness  Cell_Size_Uniformity  Cell_Shape_Uniformity  \\\n",
       "0          1         7.581819              9.745087               1.000000   \n",
       "1          2         5.210921              8.169596               7.841875   \n",
       "2          3         4.000000              4.594296               2.330380   \n",
       "3          4         2.428871              1.000000               1.000000   \n",
       "4          5         8.855971              2.697539               6.047068   \n",
       "...      ...              ...                   ...                    ...   \n",
       "39361  39362         9.927819              9.356578               8.735863   \n",
       "39362  39363         4.781275              1.000000               1.000000   \n",
       "39363  39364         5.479501              9.688672               2.000000   \n",
       "39364  39365         4.000000              1.000000               1.000000   \n",
       "39365  39366         9.761903              9.817482               4.279460   \n",
       "\n",
       "       Marginal_Adhesion  Single_Epi_Cell_Size  Bare_Nuclei  Bland_Chromatin  \\\n",
       "0               4.503410              7.039930    10.000000         4.412282   \n",
       "1               6.033275              4.269619    10.000000         4.236312   \n",
       "2               2.000000              3.000000     1.000000        10.701823   \n",
       "3               1.000000              4.099291     1.000000         2.000000   \n",
       "4               3.301891              3.000000     1.000000         5.297592   \n",
       "...                  ...                   ...          ...              ...   \n",
       "39361           9.857325              7.899676    10.000000         2.000000   \n",
       "39362           1.000000              2.000000     1.000000         3.000000   \n",
       "39363           3.415991              5.915206    10.000000         7.930997   \n",
       "39364           1.000000              2.000000     2.071265         3.000000   \n",
       "39365           9.337890             10.617945     5.960952         7.666130   \n",
       "\n",
       "       Normal_Nucleoli   Mitoses      Class  \n",
       "0            10.000000  5.055266  malignant  \n",
       "1             4.845350  1.000000  malignant  \n",
       "2             1.101305  1.000000     benign  \n",
       "3             1.000000  1.000000     benign  \n",
       "4             4.104791  3.115741  malignant  \n",
       "...                ...       ...        ...  \n",
       "39361         7.783836  3.000000  malignant  \n",
       "39362         1.000000  1.000000     benign  \n",
       "39363         5.689254  5.650542  malignant  \n",
       "39364         1.000000  1.000000     benign  \n",
       "39365        10.000000  1.000000  malignant  \n",
       "\n",
       "[39366 rows x 11 columns]>"
      ]
     },
     "execution_count": 5,
     "metadata": {},
     "output_type": "execute_result"
    }
   ],
   "source": [
    "bc_data.info"
   ]
  },
  {
   "cell_type": "markdown",
   "id": "3bde0e2d",
   "metadata": {},
   "source": [
    "## 2. Data Definition"
   ]
  },
  {
   "cell_type": "code",
   "execution_count": 6,
   "id": "17320bad",
   "metadata": {},
   "outputs": [
    {
     "data": {
      "text/plain": [
       "Index(['id', 'Clump_Thickness', 'Cell_Size_Uniformity',\n",
       "       'Cell_Shape_Uniformity', 'Marginal_Adhesion', 'Single_Epi_Cell_Size',\n",
       "       'Bare_Nuclei', 'Bland_Chromatin', 'Normal_Nucleoli', 'Mitoses',\n",
       "       'Class'],\n",
       "      dtype='object')"
      ]
     },
     "execution_count": 6,
     "metadata": {},
     "output_type": "execute_result"
    }
   ],
   "source": [
    "bc_data.columns"
   ]
  },
  {
   "cell_type": "code",
   "execution_count": 7,
   "id": "4e2de3c9",
   "metadata": {},
   "outputs": [
    {
     "data": {
      "text/plain": [
       "id                         int64\n",
       "Clump_Thickness          float64\n",
       "Cell_Size_Uniformity     float64\n",
       "Cell_Shape_Uniformity    float64\n",
       "Marginal_Adhesion        float64\n",
       "Single_Epi_Cell_Size     float64\n",
       "Bare_Nuclei              float64\n",
       "Bland_Chromatin          float64\n",
       "Normal_Nucleoli          float64\n",
       "Mitoses                  float64\n",
       "Class                     object\n",
       "dtype: object"
      ]
     },
     "execution_count": 7,
     "metadata": {},
     "output_type": "execute_result"
    }
   ],
   "source": [
    "bc_data.dtypes"
   ]
  },
  {
   "cell_type": "code",
   "execution_count": 8,
   "id": "31c40a75",
   "metadata": {},
   "outputs": [
    {
     "data": {
      "text/html": [
       "<div>\n",
       "<style scoped>\n",
       "    .dataframe tbody tr th:only-of-type {\n",
       "        vertical-align: middle;\n",
       "    }\n",
       "\n",
       "    .dataframe tbody tr th {\n",
       "        vertical-align: top;\n",
       "    }\n",
       "\n",
       "    .dataframe thead th {\n",
       "        text-align: right;\n",
       "    }\n",
       "</style>\n",
       "<table border=\"1\" class=\"dataframe\">\n",
       "  <thead>\n",
       "    <tr style=\"text-align: right;\">\n",
       "      <th></th>\n",
       "      <th>id</th>\n",
       "      <th>Clump_Thickness</th>\n",
       "      <th>Cell_Size_Uniformity</th>\n",
       "      <th>Cell_Shape_Uniformity</th>\n",
       "      <th>Marginal_Adhesion</th>\n",
       "      <th>Single_Epi_Cell_Size</th>\n",
       "      <th>Bare_Nuclei</th>\n",
       "      <th>Bland_Chromatin</th>\n",
       "      <th>Normal_Nucleoli</th>\n",
       "      <th>Mitoses</th>\n",
       "    </tr>\n",
       "  </thead>\n",
       "  <tbody>\n",
       "    <tr>\n",
       "      <th>count</th>\n",
       "      <td>39366.000000</td>\n",
       "      <td>39366.000000</td>\n",
       "      <td>39366.000000</td>\n",
       "      <td>39366.000000</td>\n",
       "      <td>39366.000000</td>\n",
       "      <td>39366.000000</td>\n",
       "      <td>39366.000000</td>\n",
       "      <td>39366.000000</td>\n",
       "      <td>39366.000000</td>\n",
       "      <td>39366.000000</td>\n",
       "    </tr>\n",
       "    <tr>\n",
       "      <th>mean</th>\n",
       "      <td>19683.500000</td>\n",
       "      <td>4.394013</td>\n",
       "      <td>3.130070</td>\n",
       "      <td>3.203657</td>\n",
       "      <td>2.827221</td>\n",
       "      <td>3.209844</td>\n",
       "      <td>3.497453</td>\n",
       "      <td>3.409142</td>\n",
       "      <td>2.894595</td>\n",
       "      <td>1.591809</td>\n",
       "    </tr>\n",
       "    <tr>\n",
       "      <th>std</th>\n",
       "      <td>11364.129685</td>\n",
       "      <td>2.812104</td>\n",
       "      <td>3.039493</td>\n",
       "      <td>2.975983</td>\n",
       "      <td>2.872543</td>\n",
       "      <td>2.220422</td>\n",
       "      <td>3.619992</td>\n",
       "      <td>2.422371</td>\n",
       "      <td>3.069489</td>\n",
       "      <td>1.706766</td>\n",
       "    </tr>\n",
       "    <tr>\n",
       "      <th>min</th>\n",
       "      <td>1.000000</td>\n",
       "      <td>0.735460</td>\n",
       "      <td>0.564014</td>\n",
       "      <td>1.000000</td>\n",
       "      <td>1.000000</td>\n",
       "      <td>1.000000</td>\n",
       "      <td>-0.117818</td>\n",
       "      <td>1.000000</td>\n",
       "      <td>0.758343</td>\n",
       "      <td>1.000000</td>\n",
       "    </tr>\n",
       "    <tr>\n",
       "      <th>25%</th>\n",
       "      <td>9842.250000</td>\n",
       "      <td>2.243989</td>\n",
       "      <td>1.000000</td>\n",
       "      <td>1.000000</td>\n",
       "      <td>1.000000</td>\n",
       "      <td>2.000000</td>\n",
       "      <td>1.000000</td>\n",
       "      <td>2.000000</td>\n",
       "      <td>1.000000</td>\n",
       "      <td>1.000000</td>\n",
       "    </tr>\n",
       "    <tr>\n",
       "      <th>50%</th>\n",
       "      <td>19683.500000</td>\n",
       "      <td>4.000000</td>\n",
       "      <td>1.000000</td>\n",
       "      <td>1.000000</td>\n",
       "      <td>1.000000</td>\n",
       "      <td>2.000000</td>\n",
       "      <td>1.000000</td>\n",
       "      <td>3.000000</td>\n",
       "      <td>1.000000</td>\n",
       "      <td>1.000000</td>\n",
       "    </tr>\n",
       "    <tr>\n",
       "      <th>75%</th>\n",
       "      <td>29524.750000</td>\n",
       "      <td>5.630522</td>\n",
       "      <td>4.553797</td>\n",
       "      <td>4.966335</td>\n",
       "      <td>3.551935</td>\n",
       "      <td>4.003072</td>\n",
       "      <td>6.333434</td>\n",
       "      <td>4.561324</td>\n",
       "      <td>3.797023</td>\n",
       "      <td>1.000000</td>\n",
       "    </tr>\n",
       "    <tr>\n",
       "      <th>max</th>\n",
       "      <td>39366.000000</td>\n",
       "      <td>13.717991</td>\n",
       "      <td>10.933095</td>\n",
       "      <td>12.604289</td>\n",
       "      <td>11.158505</td>\n",
       "      <td>14.414889</td>\n",
       "      <td>13.160789</td>\n",
       "      <td>12.005376</td>\n",
       "      <td>10.700432</td>\n",
       "      <td>12.044924</td>\n",
       "    </tr>\n",
       "  </tbody>\n",
       "</table>\n",
       "</div>"
      ],
      "text/plain": [
       "                 id  Clump_Thickness  Cell_Size_Uniformity  \\\n",
       "count  39366.000000     39366.000000          39366.000000   \n",
       "mean   19683.500000         4.394013              3.130070   \n",
       "std    11364.129685         2.812104              3.039493   \n",
       "min        1.000000         0.735460              0.564014   \n",
       "25%     9842.250000         2.243989              1.000000   \n",
       "50%    19683.500000         4.000000              1.000000   \n",
       "75%    29524.750000         5.630522              4.553797   \n",
       "max    39366.000000        13.717991             10.933095   \n",
       "\n",
       "       Cell_Shape_Uniformity  Marginal_Adhesion  Single_Epi_Cell_Size  \\\n",
       "count           39366.000000       39366.000000          39366.000000   \n",
       "mean                3.203657           2.827221              3.209844   \n",
       "std                 2.975983           2.872543              2.220422   \n",
       "min                 1.000000           1.000000              1.000000   \n",
       "25%                 1.000000           1.000000              2.000000   \n",
       "50%                 1.000000           1.000000              2.000000   \n",
       "75%                 4.966335           3.551935              4.003072   \n",
       "max                12.604289          11.158505             14.414889   \n",
       "\n",
       "        Bare_Nuclei  Bland_Chromatin  Normal_Nucleoli       Mitoses  \n",
       "count  39366.000000     39366.000000     39366.000000  39366.000000  \n",
       "mean       3.497453         3.409142         2.894595      1.591809  \n",
       "std        3.619992         2.422371         3.069489      1.706766  \n",
       "min       -0.117818         1.000000         0.758343      1.000000  \n",
       "25%        1.000000         2.000000         1.000000      1.000000  \n",
       "50%        1.000000         3.000000         1.000000      1.000000  \n",
       "75%        6.333434         4.561324         3.797023      1.000000  \n",
       "max       13.160789        12.005376        10.700432     12.044924  "
      ]
     },
     "execution_count": 8,
     "metadata": {},
     "output_type": "execute_result"
    }
   ],
   "source": [
    "bc_data.describe()"
   ]
  },
  {
   "cell_type": "code",
   "execution_count": 9,
   "id": "5b074a12",
   "metadata": {},
   "outputs": [
    {
     "data": {
      "text/plain": [
       "id                       39366\n",
       "Clump_Thickness          26387\n",
       "Cell_Size_Uniformity     17780\n",
       "Cell_Shape_Uniformity    16030\n",
       "Marginal_Adhesion        13232\n",
       "Single_Epi_Cell_Size     10910\n",
       "Bare_Nuclei               8561\n",
       "Bland_Chromatin          11991\n",
       "Normal_Nucleoli          11095\n",
       "Mitoses                   2988\n",
       "Class                        2\n",
       "dtype: int64"
      ]
     },
     "execution_count": 9,
     "metadata": {},
     "output_type": "execute_result"
    }
   ],
   "source": [
    "bc_data.nunique()"
   ]
  },
  {
   "cell_type": "markdown",
   "id": "aff25252",
   "metadata": {},
   "source": [
    "## 3. Data Cleaning"
   ]
  },
  {
   "cell_type": "code",
   "execution_count": 10,
   "id": "b380fb77",
   "metadata": {},
   "outputs": [
    {
     "data": {
      "text/plain": [
       "id                       0\n",
       "Clump_Thickness          0\n",
       "Cell_Size_Uniformity     0\n",
       "Cell_Shape_Uniformity    0\n",
       "Marginal_Adhesion        0\n",
       "Single_Epi_Cell_Size     0\n",
       "Bare_Nuclei              0\n",
       "Bland_Chromatin          0\n",
       "Normal_Nucleoli          0\n",
       "Mitoses                  0\n",
       "Class                    0\n",
       "dtype: int64"
      ]
     },
     "execution_count": 10,
     "metadata": {},
     "output_type": "execute_result"
    }
   ],
   "source": [
    "bc_data.isnull().sum()"
   ]
  },
  {
   "cell_type": "markdown",
   "id": "26714523",
   "metadata": {},
   "source": [
    "### Check for outliers: "
   ]
  },
  {
   "cell_type": "markdown",
   "id": "d1c67d3e",
   "metadata": {},
   "source": [
    "Additional Information provided with the dataset indicates that the domains of 'Clump_Thickness', 'Cell_Size_Uniformity', 'Cell_Shape_Uniformity', 'Marginal_Adhesion', 'Single_Epi_Cell_Size', 'Bare_Nuclei', 'Bland_Chromatin', 'Normal_Nucleoli', 'Mitoses' are between 1-10. Below, I take a look at the dataset and identify whether values above 10 or below 1 for theses columns need to be removed."
   ]
  },
  {
   "cell_type": "code",
   "execution_count": 11,
   "id": "cb65ef14",
   "metadata": {},
   "outputs": [],
   "source": [
    "def check_min_outlier(column_name):\n",
    "    return len(bc_data[bc_data[column_name]<1])"
   ]
  },
  {
   "cell_type": "code",
   "execution_count": 12,
   "id": "6668e7b2",
   "metadata": {},
   "outputs": [
    {
     "name": "stdout",
     "output_type": "stream",
     "text": [
      "Number of min outliers in Clump_Thickness:  3\n",
      "Number of min outliers in Cell_Size_Uniformity:  8\n",
      "Number of min outliers in Cell_Shape_Uniformity:  0\n",
      "Number of min outliers in Marginal_Adhesion:  0\n",
      "Number of min outliers in Single_Epi_Cell_Size:  0\n",
      "Number of min outliers in Bare_Nuclei:  35\n",
      "Number of min outliers in Bland_Chromatin:  0\n",
      "Number of min outliers in Normal_Nucleoli:  3\n",
      "Number of min outliers in Mitoses:  0\n"
     ]
    }
   ],
   "source": [
    "print('Number of min outliers in Clump_Thickness: ', check_min_outlier('Clump_Thickness'))\n",
    "print('Number of min outliers in Cell_Size_Uniformity: ', check_min_outlier('Cell_Size_Uniformity'))\n",
    "print('Number of min outliers in Cell_Shape_Uniformity: ', check_min_outlier('Cell_Shape_Uniformity'))\n",
    "print('Number of min outliers in Marginal_Adhesion: ', check_min_outlier('Marginal_Adhesion'))\n",
    "print('Number of min outliers in Single_Epi_Cell_Size: ', check_min_outlier('Single_Epi_Cell_Size'))\n",
    "print('Number of min outliers in Bare_Nuclei: ', check_min_outlier('Bare_Nuclei'))\n",
    "print('Number of min outliers in Bland_Chromatin: ', check_min_outlier('Bland_Chromatin'))\n",
    "print('Number of min outliers in Normal_Nucleoli: ', check_min_outlier('Normal_Nucleoli'))\n",
    "print('Number of min outliers in Mitoses: ', check_min_outlier('Mitoses'))"
   ]
  },
  {
   "cell_type": "code",
   "execution_count": 13,
   "id": "6dacfba1",
   "metadata": {},
   "outputs": [],
   "source": [
    "def check_max_outlier(column_name):\n",
    "    return len(bc_data[bc_data[column_name]>10])"
   ]
  },
  {
   "cell_type": "code",
   "execution_count": 14,
   "id": "82dcb06a",
   "metadata": {},
   "outputs": [
    {
     "name": "stdout",
     "output_type": "stream",
     "text": [
      "Number of max outliers in Clump_Thickness:  1329\n",
      "Number of max outliers in Cell_Size_Uniformity:  1597\n",
      "Number of max outliers in Cell_Shape_Uniformity:  1212\n",
      "Number of max outliers in Marginal_Adhesion:  1343\n",
      "Number of max outliers in Single_Epi_Cell_Size:  510\n",
      "Number of max outliers in Bare_Nuclei:  69\n",
      "Number of max outliers in Bland_Chromatin:  184\n",
      "Number of max outliers in Normal_Nucleoli:  11\n",
      "Number of max outliers in Mitoses:  261\n"
     ]
    }
   ],
   "source": [
    "print('Number of max outliers in Clump_Thickness: ', check_max_outlier('Clump_Thickness'))\n",
    "print('Number of max outliers in Cell_Size_Uniformity: ', check_max_outlier('Cell_Size_Uniformity'))\n",
    "print('Number of max outliers in Cell_Shape_Uniformity: ', check_max_outlier('Cell_Shape_Uniformity'))\n",
    "print('Number of max outliers in Marginal_Adhesion: ', check_max_outlier('Marginal_Adhesion'))\n",
    "print('Number of max outliers in Single_Epi_Cell_Size: ', check_max_outlier('Single_Epi_Cell_Size'))\n",
    "print('Number of max outliers in Bare_Nuclei: ', check_max_outlier('Bare_Nuclei'))\n",
    "print('Number of max outliers in Bland_Chromatin: ', check_max_outlier('Bland_Chromatin'))\n",
    "print('Number of max outliers in Normal_Nucleoli: ', check_max_outlier('Normal_Nucleoli'))\n",
    "print('Number of max outliers in Mitoses: ', check_max_outlier('Mitoses'))"
   ]
  },
  {
   "cell_type": "markdown",
   "id": "8c8dcc82",
   "metadata": {},
   "source": [
    "Based on the results of these queries, it seems that there is a signficant subset of dataset with max outliers so they can't be removed, however the min outliers are not as significant and can be removed. "
   ]
  },
  {
   "cell_type": "code",
   "execution_count": 15,
   "id": "a752b31b",
   "metadata": {},
   "outputs": [],
   "source": [
    "def remove_min_outliers(column_name):\n",
    "    return (bc_data[bc_data[column_name]>=1])"
   ]
  },
  {
   "cell_type": "code",
   "execution_count": 16,
   "id": "7d3d3ed2",
   "metadata": {},
   "outputs": [],
   "source": [
    "bc_data = remove_min_outliers('Clump_Thickness')\n",
    "bc_data = remove_min_outliers('Cell_Size_Uniformity')\n",
    "bc_data = remove_min_outliers('Cell_Shape_Uniformity')\n",
    "bc_data = remove_min_outliers('Marginal_Adhesion')\n",
    "bc_data = remove_min_outliers('Single_Epi_Cell_Size')\n",
    "bc_data = remove_min_outliers('Bare_Nuclei')\n",
    "bc_data = remove_min_outliers('Bland_Chromatin')\n",
    "bc_data = remove_min_outliers('Normal_Nucleoli')\n",
    "bc_data = remove_min_outliers('Mitoses')"
   ]
  },
  {
   "cell_type": "code",
   "execution_count": 17,
   "id": "2671af98",
   "metadata": {},
   "outputs": [
    {
     "name": "stdout",
     "output_type": "stream",
     "text": [
      "Number of min outliers in Clump_Thickness:  0\n",
      "Number of min outliers in Cell_Size_Uniformity:  0\n",
      "Number of min outliers in Cell_Shape_Uniformity:  0\n",
      "Number of min outliers in Marginal_Adhesion:  0\n",
      "Number of min outliers in Single_Epi_Cell_Size:  0\n",
      "Number of min outliers in Bare_Nuclei:  0\n",
      "Number of min outliers in Bland_Chromatin:  0\n",
      "Number of min outliers in Normal_Nucleoli:  0\n",
      "Number of min outliers in Mitoses:  0\n"
     ]
    }
   ],
   "source": [
    "print('Number of min outliers in Clump_Thickness: ', check_min_outlier('Clump_Thickness'))\n",
    "print('Number of min outliers in Cell_Size_Uniformity: ', check_min_outlier('Cell_Size_Uniformity'))\n",
    "print('Number of min outliers in Cell_Shape_Uniformity: ', check_min_outlier('Cell_Shape_Uniformity'))\n",
    "print('Number of min outliers in Marginal_Adhesion: ', check_min_outlier('Marginal_Adhesion'))\n",
    "print('Number of min outliers in Single_Epi_Cell_Size: ', check_min_outlier('Single_Epi_Cell_Size'))\n",
    "print('Number of min outliers in Bare_Nuclei: ', check_min_outlier('Bare_Nuclei'))\n",
    "print('Number of min outliers in Bland_Chromatin: ', check_min_outlier('Bland_Chromatin'))\n",
    "print('Number of min outliers in Normal_Nucleoli: ', check_min_outlier('Normal_Nucleoli'))\n",
    "print('Number of min outliers in Mitoses: ', check_min_outlier('Mitoses'))"
   ]
  },
  {
   "cell_type": "code",
   "execution_count": 18,
   "id": "5bd39bf2",
   "metadata": {},
   "outputs": [
    {
     "data": {
      "text/html": [
       "<div>\n",
       "<style scoped>\n",
       "    .dataframe tbody tr th:only-of-type {\n",
       "        vertical-align: middle;\n",
       "    }\n",
       "\n",
       "    .dataframe tbody tr th {\n",
       "        vertical-align: top;\n",
       "    }\n",
       "\n",
       "    .dataframe thead th {\n",
       "        text-align: right;\n",
       "    }\n",
       "</style>\n",
       "<table border=\"1\" class=\"dataframe\">\n",
       "  <thead>\n",
       "    <tr style=\"text-align: right;\">\n",
       "      <th></th>\n",
       "      <th>id</th>\n",
       "      <th>Clump_Thickness</th>\n",
       "      <th>Cell_Size_Uniformity</th>\n",
       "      <th>Cell_Shape_Uniformity</th>\n",
       "      <th>Marginal_Adhesion</th>\n",
       "      <th>Single_Epi_Cell_Size</th>\n",
       "      <th>Bare_Nuclei</th>\n",
       "      <th>Bland_Chromatin</th>\n",
       "      <th>Normal_Nucleoli</th>\n",
       "      <th>Mitoses</th>\n",
       "    </tr>\n",
       "  </thead>\n",
       "  <tbody>\n",
       "    <tr>\n",
       "      <th>count</th>\n",
       "      <td>39317.000000</td>\n",
       "      <td>39317.000000</td>\n",
       "      <td>39317.000000</td>\n",
       "      <td>39317.000000</td>\n",
       "      <td>39317.000000</td>\n",
       "      <td>39317.000000</td>\n",
       "      <td>39317.000000</td>\n",
       "      <td>39317.000000</td>\n",
       "      <td>39317.000000</td>\n",
       "      <td>39317.000000</td>\n",
       "    </tr>\n",
       "    <tr>\n",
       "      <th>mean</th>\n",
       "      <td>19680.358649</td>\n",
       "      <td>4.393465</td>\n",
       "      <td>3.129445</td>\n",
       "      <td>3.203115</td>\n",
       "      <td>2.826947</td>\n",
       "      <td>3.209550</td>\n",
       "      <td>3.500404</td>\n",
       "      <td>3.408230</td>\n",
       "      <td>2.894197</td>\n",
       "      <td>1.591045</td>\n",
       "    </tr>\n",
       "    <tr>\n",
       "      <th>std</th>\n",
       "      <td>11363.605788</td>\n",
       "      <td>2.811865</td>\n",
       "      <td>3.039286</td>\n",
       "      <td>2.975756</td>\n",
       "      <td>2.872436</td>\n",
       "      <td>2.220396</td>\n",
       "      <td>3.620691</td>\n",
       "      <td>2.421583</td>\n",
       "      <td>3.069320</td>\n",
       "      <td>1.705605</td>\n",
       "    </tr>\n",
       "    <tr>\n",
       "      <th>min</th>\n",
       "      <td>1.000000</td>\n",
       "      <td>1.000000</td>\n",
       "      <td>1.000000</td>\n",
       "      <td>1.000000</td>\n",
       "      <td>1.000000</td>\n",
       "      <td>1.000000</td>\n",
       "      <td>1.000000</td>\n",
       "      <td>1.000000</td>\n",
       "      <td>1.000000</td>\n",
       "      <td>1.000000</td>\n",
       "    </tr>\n",
       "    <tr>\n",
       "      <th>25%</th>\n",
       "      <td>9839.000000</td>\n",
       "      <td>2.244085</td>\n",
       "      <td>1.000000</td>\n",
       "      <td>1.000000</td>\n",
       "      <td>1.000000</td>\n",
       "      <td>2.000000</td>\n",
       "      <td>1.000000</td>\n",
       "      <td>2.000000</td>\n",
       "      <td>1.000000</td>\n",
       "      <td>1.000000</td>\n",
       "    </tr>\n",
       "    <tr>\n",
       "      <th>50%</th>\n",
       "      <td>19679.000000</td>\n",
       "      <td>4.000000</td>\n",
       "      <td>1.000000</td>\n",
       "      <td>1.000000</td>\n",
       "      <td>1.000000</td>\n",
       "      <td>2.000000</td>\n",
       "      <td>1.000000</td>\n",
       "      <td>3.000000</td>\n",
       "      <td>1.000000</td>\n",
       "      <td>1.000000</td>\n",
       "    </tr>\n",
       "    <tr>\n",
       "      <th>75%</th>\n",
       "      <td>29520.000000</td>\n",
       "      <td>5.629741</td>\n",
       "      <td>4.553463</td>\n",
       "      <td>4.965623</td>\n",
       "      <td>3.551612</td>\n",
       "      <td>4.002653</td>\n",
       "      <td>6.338096</td>\n",
       "      <td>4.559898</td>\n",
       "      <td>3.793476</td>\n",
       "      <td>1.000000</td>\n",
       "    </tr>\n",
       "    <tr>\n",
       "      <th>max</th>\n",
       "      <td>39366.000000</td>\n",
       "      <td>13.717991</td>\n",
       "      <td>10.933095</td>\n",
       "      <td>12.604289</td>\n",
       "      <td>11.158505</td>\n",
       "      <td>14.414889</td>\n",
       "      <td>13.160789</td>\n",
       "      <td>12.005376</td>\n",
       "      <td>10.700432</td>\n",
       "      <td>12.044924</td>\n",
       "    </tr>\n",
       "  </tbody>\n",
       "</table>\n",
       "</div>"
      ],
      "text/plain": [
       "                 id  Clump_Thickness  Cell_Size_Uniformity  \\\n",
       "count  39317.000000     39317.000000          39317.000000   \n",
       "mean   19680.358649         4.393465              3.129445   \n",
       "std    11363.605788         2.811865              3.039286   \n",
       "min        1.000000         1.000000              1.000000   \n",
       "25%     9839.000000         2.244085              1.000000   \n",
       "50%    19679.000000         4.000000              1.000000   \n",
       "75%    29520.000000         5.629741              4.553463   \n",
       "max    39366.000000        13.717991             10.933095   \n",
       "\n",
       "       Cell_Shape_Uniformity  Marginal_Adhesion  Single_Epi_Cell_Size  \\\n",
       "count           39317.000000       39317.000000          39317.000000   \n",
       "mean                3.203115           2.826947              3.209550   \n",
       "std                 2.975756           2.872436              2.220396   \n",
       "min                 1.000000           1.000000              1.000000   \n",
       "25%                 1.000000           1.000000              2.000000   \n",
       "50%                 1.000000           1.000000              2.000000   \n",
       "75%                 4.965623           3.551612              4.002653   \n",
       "max                12.604289          11.158505             14.414889   \n",
       "\n",
       "        Bare_Nuclei  Bland_Chromatin  Normal_Nucleoli       Mitoses  \n",
       "count  39317.000000     39317.000000     39317.000000  39317.000000  \n",
       "mean       3.500404         3.408230         2.894197      1.591045  \n",
       "std        3.620691         2.421583         3.069320      1.705605  \n",
       "min        1.000000         1.000000         1.000000      1.000000  \n",
       "25%        1.000000         2.000000         1.000000      1.000000  \n",
       "50%        1.000000         3.000000         1.000000      1.000000  \n",
       "75%        6.338096         4.559898         3.793476      1.000000  \n",
       "max       13.160789        12.005376        10.700432     12.044924  "
      ]
     },
     "execution_count": 18,
     "metadata": {},
     "output_type": "execute_result"
    }
   ],
   "source": [
    "bc_data.describe()"
   ]
  },
  {
   "cell_type": "code",
   "execution_count": 19,
   "id": "e389cb96",
   "metadata": {},
   "outputs": [
    {
     "name": "stdout",
     "output_type": "stream",
     "text": [
      "A file already exists with this name.\n",
      "\n",
      "Do you want to overwrite? (Y/N)n\n",
      "\n",
      "Please re-run this cell with a new filename.\n"
     ]
    }
   ],
   "source": [
    "datapath = '../data'\n",
    "save_file(bc_data, 'bc_data_cleaned.csv', datapath)"
   ]
  },
  {
   "cell_type": "code",
   "execution_count": 20,
   "id": "11ae4492",
   "metadata": {},
   "outputs": [
    {
     "data": {
      "text/plain": [
       "0.04056769336419361"
      ]
     },
     "execution_count": 20,
     "metadata": {},
     "output_type": "execute_result"
    }
   ],
   "source": [
    "check_max_outlier('Cell_Size_Uniformity')/39317"
   ]
  },
  {
   "cell_type": "code",
   "execution_count": null,
   "id": "1cbc60c0",
   "metadata": {},
   "outputs": [],
   "source": []
  }
 ],
 "metadata": {
  "kernelspec": {
   "display_name": "Python 3 (ipykernel)",
   "language": "python",
   "name": "python3"
  },
  "language_info": {
   "codemirror_mode": {
    "name": "ipython",
    "version": 3
   },
   "file_extension": ".py",
   "mimetype": "text/x-python",
   "name": "python",
   "nbconvert_exporter": "python",
   "pygments_lexer": "ipython3",
   "version": "3.9.7"
  }
 },
 "nbformat": 4,
 "nbformat_minor": 5
}
