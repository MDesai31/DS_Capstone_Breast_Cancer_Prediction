{
 "cells": [
  {
   "cell_type": "markdown",
   "id": "725176de",
   "metadata": {},
   "source": [
    "## Imports"
   ]
  },
  {
   "cell_type": "code",
   "execution_count": 1,
   "id": "0218c7b3",
   "metadata": {},
   "outputs": [],
   "source": [
    "import pandas as pd\n",
    "import numpy as np\n",
    "import os\n",
    "import matplotlib.pyplot as plt\n",
    "import seaborn as sns"
   ]
  },
  {
   "cell_type": "markdown",
   "id": "ef923987",
   "metadata": {},
   "source": [
    "### Load and view breast cancer data"
   ]
  },
  {
   "cell_type": "code",
   "execution_count": 2,
   "id": "2252a7e3",
   "metadata": {},
   "outputs": [],
   "source": [
    "bc_data = pd.read_csv('../data/bc_data_cleaned.csv')"
   ]
  },
  {
   "cell_type": "code",
   "execution_count": 3,
   "id": "cd911759",
   "metadata": {},
   "outputs": [
    {
     "name": "stdout",
     "output_type": "stream",
     "text": [
      "<class 'pandas.core.frame.DataFrame'>\n",
      "RangeIndex: 39317 entries, 0 to 39316\n",
      "Data columns (total 11 columns):\n",
      " #   Column                 Non-Null Count  Dtype  \n",
      "---  ------                 --------------  -----  \n",
      " 0   id                     39317 non-null  int64  \n",
      " 1   Clump_Thickness        39317 non-null  float64\n",
      " 2   Cell_Size_Uniformity   39317 non-null  float64\n",
      " 3   Cell_Shape_Uniformity  39317 non-null  float64\n",
      " 4   Marginal_Adhesion      39317 non-null  float64\n",
      " 5   Single_Epi_Cell_Size   39317 non-null  float64\n",
      " 6   Bare_Nuclei            39317 non-null  float64\n",
      " 7   Bland_Chromatin        39317 non-null  float64\n",
      " 8   Normal_Nucleoli        39317 non-null  float64\n",
      " 9   Mitoses                39317 non-null  float64\n",
      " 10  Class                  39317 non-null  object \n",
      "dtypes: float64(9), int64(1), object(1)\n",
      "memory usage: 3.3+ MB\n"
     ]
    }
   ],
   "source": [
    "bc_data.info()"
   ]
  },
  {
   "cell_type": "code",
   "execution_count": 4,
   "id": "8a5b34a3",
   "metadata": {},
   "outputs": [
    {
     "data": {
      "text/html": [
       "<div>\n",
       "<style scoped>\n",
       "    .dataframe tbody tr th:only-of-type {\n",
       "        vertical-align: middle;\n",
       "    }\n",
       "\n",
       "    .dataframe tbody tr th {\n",
       "        vertical-align: top;\n",
       "    }\n",
       "\n",
       "    .dataframe thead th {\n",
       "        text-align: right;\n",
       "    }\n",
       "</style>\n",
       "<table border=\"1\" class=\"dataframe\">\n",
       "  <thead>\n",
       "    <tr style=\"text-align: right;\">\n",
       "      <th></th>\n",
       "      <th>id</th>\n",
       "      <th>Clump_Thickness</th>\n",
       "      <th>Cell_Size_Uniformity</th>\n",
       "      <th>Cell_Shape_Uniformity</th>\n",
       "      <th>Marginal_Adhesion</th>\n",
       "      <th>Single_Epi_Cell_Size</th>\n",
       "      <th>Bare_Nuclei</th>\n",
       "      <th>Bland_Chromatin</th>\n",
       "      <th>Normal_Nucleoli</th>\n",
       "      <th>Mitoses</th>\n",
       "      <th>Class</th>\n",
       "    </tr>\n",
       "  </thead>\n",
       "  <tbody>\n",
       "    <tr>\n",
       "      <th>0</th>\n",
       "      <td>1</td>\n",
       "      <td>7.581819</td>\n",
       "      <td>9.745087</td>\n",
       "      <td>1.000000</td>\n",
       "      <td>4.503410</td>\n",
       "      <td>7.039930</td>\n",
       "      <td>10.0</td>\n",
       "      <td>4.412282</td>\n",
       "      <td>10.000000</td>\n",
       "      <td>5.055266</td>\n",
       "      <td>malignant</td>\n",
       "    </tr>\n",
       "    <tr>\n",
       "      <th>1</th>\n",
       "      <td>2</td>\n",
       "      <td>5.210921</td>\n",
       "      <td>8.169596</td>\n",
       "      <td>7.841875</td>\n",
       "      <td>6.033275</td>\n",
       "      <td>4.269619</td>\n",
       "      <td>10.0</td>\n",
       "      <td>4.236312</td>\n",
       "      <td>4.845350</td>\n",
       "      <td>1.000000</td>\n",
       "      <td>malignant</td>\n",
       "    </tr>\n",
       "    <tr>\n",
       "      <th>2</th>\n",
       "      <td>3</td>\n",
       "      <td>4.000000</td>\n",
       "      <td>4.594296</td>\n",
       "      <td>2.330380</td>\n",
       "      <td>2.000000</td>\n",
       "      <td>3.000000</td>\n",
       "      <td>1.0</td>\n",
       "      <td>10.701823</td>\n",
       "      <td>1.101305</td>\n",
       "      <td>1.000000</td>\n",
       "      <td>benign</td>\n",
       "    </tr>\n",
       "    <tr>\n",
       "      <th>3</th>\n",
       "      <td>4</td>\n",
       "      <td>2.428871</td>\n",
       "      <td>1.000000</td>\n",
       "      <td>1.000000</td>\n",
       "      <td>1.000000</td>\n",
       "      <td>4.099291</td>\n",
       "      <td>1.0</td>\n",
       "      <td>2.000000</td>\n",
       "      <td>1.000000</td>\n",
       "      <td>1.000000</td>\n",
       "      <td>benign</td>\n",
       "    </tr>\n",
       "    <tr>\n",
       "      <th>4</th>\n",
       "      <td>5</td>\n",
       "      <td>8.855971</td>\n",
       "      <td>2.697539</td>\n",
       "      <td>6.047068</td>\n",
       "      <td>3.301891</td>\n",
       "      <td>3.000000</td>\n",
       "      <td>1.0</td>\n",
       "      <td>5.297592</td>\n",
       "      <td>4.104791</td>\n",
       "      <td>3.115741</td>\n",
       "      <td>malignant</td>\n",
       "    </tr>\n",
       "  </tbody>\n",
       "</table>\n",
       "</div>"
      ],
      "text/plain": [
       "   id  Clump_Thickness  Cell_Size_Uniformity  Cell_Shape_Uniformity  \\\n",
       "0   1         7.581819              9.745087               1.000000   \n",
       "1   2         5.210921              8.169596               7.841875   \n",
       "2   3         4.000000              4.594296               2.330380   \n",
       "3   4         2.428871              1.000000               1.000000   \n",
       "4   5         8.855971              2.697539               6.047068   \n",
       "\n",
       "   Marginal_Adhesion  Single_Epi_Cell_Size  Bare_Nuclei  Bland_Chromatin  \\\n",
       "0           4.503410              7.039930         10.0         4.412282   \n",
       "1           6.033275              4.269619         10.0         4.236312   \n",
       "2           2.000000              3.000000          1.0        10.701823   \n",
       "3           1.000000              4.099291          1.0         2.000000   \n",
       "4           3.301891              3.000000          1.0         5.297592   \n",
       "\n",
       "   Normal_Nucleoli   Mitoses      Class  \n",
       "0        10.000000  5.055266  malignant  \n",
       "1         4.845350  1.000000  malignant  \n",
       "2         1.101305  1.000000     benign  \n",
       "3         1.000000  1.000000     benign  \n",
       "4         4.104791  3.115741  malignant  "
      ]
     },
     "execution_count": 4,
     "metadata": {},
     "output_type": "execute_result"
    }
   ],
   "source": [
    "bc_data.head()"
   ]
  },
  {
   "cell_type": "markdown",
   "id": "761501b9",
   "metadata": {},
   "source": [
    "## Data Exploration"
   ]
  },
  {
   "cell_type": "code",
   "execution_count": 5,
   "id": "3bed00a4",
   "metadata": {},
   "outputs": [
    {
     "data": {
      "text/plain": [
       "benign       25796\n",
       "malignant    13521\n",
       "Name: Class, dtype: int64"
      ]
     },
     "execution_count": 5,
     "metadata": {},
     "output_type": "execute_result"
    }
   ],
   "source": [
    "class_counts = bc_data['Class'].value_counts()\n",
    "class_counts"
   ]
  },
  {
   "cell_type": "code",
   "execution_count": 6,
   "id": "e05c64e4",
   "metadata": {},
   "outputs": [
    {
     "data": {
      "text/plain": [
       "0    65.610296\n",
       "1    34.389704\n",
       "dtype: float64"
      ]
     },
     "execution_count": 6,
     "metadata": {},
     "output_type": "execute_result"
    }
   ],
   "source": [
    "class_percentages = pd.Series([(x / bc_data.shape[0]) * 100.00 for x in class_counts])\n",
    "class_percentages"
   ]
  },
  {
   "cell_type": "code",
   "execution_count": 7,
   "id": "2e827eca",
   "metadata": {},
   "outputs": [
    {
     "data": {
      "image/png": "[encoded data removed]",
      "text/plain": [
       "<Figure size 640x480 with 1 Axes>"
      ]
     },
     "metadata": {},
     "output_type": "display_data"
    }
   ],
   "source": [
    "fig, ax = plt.subplots()\n",
    "ax.bar(class_counts.index, class_counts)\n",
    "ax.set_xticks([0, 1])\n",
    "ax.set_xticklabels(class_percentages.index.astype(str) + '\\n' + ' ' +\n",
    "                   class_percentages.round(0).astype(str) + '%')\n",
    "ax.set_ylabel('# of observations')\n",
    "ax.set_xlabel('Tumor Type')\n",
    "ax.set_title('Tumor class distribution\\nwhere 1 means presence of malignant tumor',\n",
    "              fontsize = 10)\n",
    "plt.show()"
   ]
  },
  {
   "cell_type": "markdown",
   "id": "6c873188",
   "metadata": {},
   "source": [
    "The data is imbalanced with respect to the class labels since there are about 2x as many benign cases as malignant."
   ]
  },
  {
   "cell_type": "markdown",
   "id": "4a802d7d",
   "metadata": {},
   "source": [
    "### 1. Clump_Thickness"
   ]
  },
  {
   "cell_type": "code",
   "execution_count": 8,
   "id": "4ec98886",
   "metadata": {},
   "outputs": [
    {
     "data": {
      "text/plain": [
       "count    39317.000000\n",
       "mean         4.393465\n",
       "std          2.811865\n",
       "min          1.000000\n",
       "25%          2.244085\n",
       "50%          4.000000\n",
       "75%          5.629741\n",
       "max         13.717991\n",
       "Name: Clump_Thickness, dtype: float64"
      ]
     },
     "execution_count": 8,
     "metadata": {},
     "output_type": "execute_result"
    }
   ],
   "source": [
    "bc_data['Clump_Thickness'].describe()"
   ]
  },
  {
   "cell_type": "code",
   "execution_count": 9,
   "id": "d0ba356d",
   "metadata": {},
   "outputs": [
    {
     "data": {
      "image/png": "[encoded data removed]",
      "text/plain": [
       "<Figure size 640x480 with 1 Axes>"
      ]
     },
     "metadata": {},
     "output_type": "display_data"
    }
   ],
   "source": [
    "fig, ax = plt.subplots()\n",
    "ax.hist(bc_data[\"Clump_Thickness\"])\n",
    "ax.set_xlabel(\"Clump Thickness\")\n",
    "ax.set_ylabel(\"# of observations\")\n",
    "plt.show()"
   ]
  },
  {
   "cell_type": "markdown",
   "id": "618c12e2",
   "metadata": {},
   "source": [
    "#### Relationship between Clump Thickness and Tumor Class"
   ]
  },
  {
   "cell_type": "code",
   "execution_count": 10,
   "id": "be9c32a5",
   "metadata": {},
   "outputs": [
    {
     "data": {
      "text/html": [
       "<div>\n",
       "<style scoped>\n",
       "    .dataframe tbody tr th:only-of-type {\n",
       "        vertical-align: middle;\n",
       "    }\n",
       "\n",
       "    .dataframe tbody tr th {\n",
       "        vertical-align: top;\n",
       "    }\n",
       "\n",
       "    .dataframe thead th {\n",
       "        text-align: right;\n",
       "    }\n",
       "</style>\n",
       "<table border=\"1\" class=\"dataframe\">\n",
       "  <thead>\n",
       "    <tr style=\"text-align: right;\">\n",
       "      <th></th>\n",
       "      <th>count</th>\n",
       "      <th>mean</th>\n",
       "      <th>std</th>\n",
       "      <th>min</th>\n",
       "      <th>25%</th>\n",
       "      <th>50%</th>\n",
       "      <th>75%</th>\n",
       "      <th>max</th>\n",
       "    </tr>\n",
       "    <tr>\n",
       "      <th>Class</th>\n",
       "      <th></th>\n",
       "      <th></th>\n",
       "      <th></th>\n",
       "      <th></th>\n",
       "      <th></th>\n",
       "      <th></th>\n",
       "      <th></th>\n",
       "      <th></th>\n",
       "    </tr>\n",
       "  </thead>\n",
       "  <tbody>\n",
       "    <tr>\n",
       "      <th>benign</th>\n",
       "      <td>25796.0</td>\n",
       "      <td>2.964377</td>\n",
       "      <td>1.734934</td>\n",
       "      <td>1.0</td>\n",
       "      <td>1.000000</td>\n",
       "      <td>2.796686</td>\n",
       "      <td>4.000000</td>\n",
       "      <td>12.168337</td>\n",
       "    </tr>\n",
       "    <tr>\n",
       "      <th>malignant</th>\n",
       "      <td>13521.0</td>\n",
       "      <td>7.119947</td>\n",
       "      <td>2.432799</td>\n",
       "      <td>1.0</td>\n",
       "      <td>5.161661</td>\n",
       "      <td>7.735933</td>\n",
       "      <td>9.108889</td>\n",
       "      <td>13.717991</td>\n",
       "    </tr>\n",
       "  </tbody>\n",
       "</table>\n",
       "</div>"
      ],
      "text/plain": [
       "             count      mean       std  min       25%       50%       75%  \\\n",
       "Class                                                                       \n",
       "benign     25796.0  2.964377  1.734934  1.0  1.000000  2.796686  4.000000   \n",
       "malignant  13521.0  7.119947  2.432799  1.0  5.161661  7.735933  9.108889   \n",
       "\n",
       "                 max  \n",
       "Class                 \n",
       "benign     12.168337  \n",
       "malignant  13.717991  "
      ]
     },
     "execution_count": 10,
     "metadata": {},
     "output_type": "execute_result"
    }
   ],
   "source": [
    "bc_data.groupby('Class')['Clump_Thickness'].describe()"
   ]
  },
  {
   "cell_type": "code",
   "execution_count": 11,
   "id": "1c322c9c",
   "metadata": {},
   "outputs": [
    {
     "data": {
      "text/plain": [
       "<seaborn.axisgrid.FacetGrid at 0x24b3bdee9a0>"
      ]
     },
     "execution_count": 11,
     "metadata": {},
     "output_type": "execute_result"
    },
    {
     "data": {
      "image/png": "[encoded data removed]",
      "text/plain": [
       "<Figure size 500x500 with 1 Axes>"
      ]
     },
     "metadata": {},
     "output_type": "display_data"
    }
   ],
   "source": [
    "sns.catplot(x=\"Class\", y=\"Clump_Thickness\", data=bc_data, kind=\"box\")"
   ]
  },
  {
   "cell_type": "markdown",
   "id": "723d0cc5",
   "metadata": {},
   "source": [
    "### 2. Cell Shape Uniformity"
   ]
  },
  {
   "cell_type": "code",
   "execution_count": 12,
   "id": "722c614d",
   "metadata": {},
   "outputs": [
    {
     "data": {
      "text/plain": [
       "count    39317.000000\n",
       "mean         3.203115\n",
       "std          2.975756\n",
       "min          1.000000\n",
       "25%          1.000000\n",
       "50%          1.000000\n",
       "75%          4.965623\n",
       "max         12.604289\n",
       "Name: Cell_Shape_Uniformity, dtype: float64"
      ]
     },
     "execution_count": 12,
     "metadata": {},
     "output_type": "execute_result"
    }
   ],
   "source": [
    "bc_data['Cell_Shape_Uniformity'].describe()"
   ]
  },
  {
   "cell_type": "code",
   "execution_count": 13,
   "id": "3b245cf3",
   "metadata": {},
   "outputs": [
    {
     "data": {
      "image/png": "[encoded data removed]",
      "text/plain": [
       "<Figure size 640x480 with 1 Axes>"
      ]
     },
     "metadata": {},
     "output_type": "display_data"
    }
   ],
   "source": [
    "fig, ax = plt.subplots()\n",
    "ax.hist(bc_data[\"Cell_Shape_Uniformity\"])\n",
    "ax.set_xlabel(\"Cell Shape Uniformity\")\n",
    "ax.set_ylabel(\"# of observations\")\n",
    "plt.show()"
   ]
  },
  {
   "cell_type": "markdown",
   "id": "e2f22dc1",
   "metadata": {},
   "source": [
    "#### Relationship between Cell Shape Uniformity and Tumor Class"
   ]
  },
  {
   "cell_type": "code",
   "execution_count": 14,
   "id": "237ed369",
   "metadata": {},
   "outputs": [
    {
     "data": {
      "text/html": [
       "<div>\n",
       "<style scoped>\n",
       "    .dataframe tbody tr th:only-of-type {\n",
       "        vertical-align: middle;\n",
       "    }\n",
       "\n",
       "    .dataframe tbody tr th {\n",
       "        vertical-align: top;\n",
       "    }\n",
       "\n",
       "    .dataframe thead th {\n",
       "        text-align: right;\n",
       "    }\n",
       "</style>\n",
       "<table border=\"1\" class=\"dataframe\">\n",
       "  <thead>\n",
       "    <tr style=\"text-align: right;\">\n",
       "      <th></th>\n",
       "      <th>count</th>\n",
       "      <th>mean</th>\n",
       "      <th>std</th>\n",
       "      <th>min</th>\n",
       "      <th>25%</th>\n",
       "      <th>50%</th>\n",
       "      <th>75%</th>\n",
       "      <th>max</th>\n",
       "    </tr>\n",
       "    <tr>\n",
       "      <th>Class</th>\n",
       "      <th></th>\n",
       "      <th></th>\n",
       "      <th></th>\n",
       "      <th></th>\n",
       "      <th></th>\n",
       "      <th></th>\n",
       "      <th></th>\n",
       "      <th></th>\n",
       "    </tr>\n",
       "  </thead>\n",
       "  <tbody>\n",
       "    <tr>\n",
       "      <th>benign</th>\n",
       "      <td>25796.0</td>\n",
       "      <td>1.501537</td>\n",
       "      <td>1.179085</td>\n",
       "      <td>1.0</td>\n",
       "      <td>1.000000</td>\n",
       "      <td>1.000000</td>\n",
       "      <td>1.000000</td>\n",
       "      <td>11.612375</td>\n",
       "    </tr>\n",
       "    <tr>\n",
       "      <th>malignant</th>\n",
       "      <td>13521.0</td>\n",
       "      <td>6.449466</td>\n",
       "      <td>2.652211</td>\n",
       "      <td>1.0</td>\n",
       "      <td>4.037602</td>\n",
       "      <td>6.265192</td>\n",
       "      <td>8.954846</td>\n",
       "      <td>12.604289</td>\n",
       "    </tr>\n",
       "  </tbody>\n",
       "</table>\n",
       "</div>"
      ],
      "text/plain": [
       "             count      mean       std  min       25%       50%       75%  \\\n",
       "Class                                                                       \n",
       "benign     25796.0  1.501537  1.179085  1.0  1.000000  1.000000  1.000000   \n",
       "malignant  13521.0  6.449466  2.652211  1.0  4.037602  6.265192  8.954846   \n",
       "\n",
       "                 max  \n",
       "Class                 \n",
       "benign     11.612375  \n",
       "malignant  12.604289  "
      ]
     },
     "execution_count": 14,
     "metadata": {},
     "output_type": "execute_result"
    }
   ],
   "source": [
    "bc_data.groupby('Class')['Cell_Shape_Uniformity'].describe()"
   ]
  },
  {
   "cell_type": "code",
   "execution_count": 15,
   "id": "75f9a9ff",
   "metadata": {},
   "outputs": [
    {
     "data": {
      "text/plain": [
       "<seaborn.axisgrid.FacetGrid at 0x24b3bea94c0>"
      ]
     },
     "execution_count": 15,
     "metadata": {},
     "output_type": "execute_result"
    },
    {
     "data": {
      "image/png": "[encoded data removed]",
      "text/plain": [
       "<Figure size 500x500 with 1 Axes>"
      ]
     },
     "metadata": {},
     "output_type": "display_data"
    }
   ],
   "source": [
    "sns.catplot(x=\"Class\", y=\"Cell_Shape_Uniformity\", data=bc_data, kind=\"box\")"
   ]
  },
  {
   "cell_type": "markdown",
   "id": "bf6912d6",
   "metadata": {},
   "source": [
    "### 3. Cell Size Uniformity"
   ]
  },
  {
   "cell_type": "code",
   "execution_count": 16,
   "id": "9ad0aa32",
   "metadata": {},
   "outputs": [
    {
     "data": {
      "text/plain": [
       "count    39317.000000\n",
       "mean         3.129445\n",
       "std          3.039286\n",
       "min          1.000000\n",
       "25%          1.000000\n",
       "50%          1.000000\n",
       "75%          4.553463\n",
       "max         10.933095\n",
       "Name: Cell_Size_Uniformity, dtype: float64"
      ]
     },
     "execution_count": 16,
     "metadata": {},
     "output_type": "execute_result"
    }
   ],
   "source": [
    "bc_data['Cell_Size_Uniformity'].describe()"
   ]
  },
  {
   "cell_type": "code",
   "execution_count": 17,
   "id": "b93afafa",
   "metadata": {},
   "outputs": [
    {
     "data": {
      "image/png": "[encoded data removed]",
      "text/plain": [
       "<Figure size 640x480 with 1 Axes>"
      ]
     },
     "metadata": {},
     "output_type": "display_data"
    }
   ],
   "source": [
    "fig, ax = plt.subplots()\n",
    "ax.hist(bc_data[\"Cell_Size_Uniformity\"])\n",
    "ax.set_xlabel(\"Cell Size Uniformity\")\n",
    "ax.set_ylabel(\"# of observations\")\n",
    "plt.show()"
   ]
  },
  {
   "cell_type": "markdown",
   "id": "5ba84bb8",
   "metadata": {},
   "source": [
    "#### Relationship between Cell Size Uniformity and Tumor Class"
   ]
  },
  {
   "cell_type": "code",
   "execution_count": 18,
   "id": "8858b2e9",
   "metadata": {},
   "outputs": [
    {
     "data": {
      "text/html": [
       "<div>\n",
       "<style scoped>\n",
       "    .dataframe tbody tr th:only-of-type {\n",
       "        vertical-align: middle;\n",
       "    }\n",
       "\n",
       "    .dataframe tbody tr th {\n",
       "        vertical-align: top;\n",
       "    }\n",
       "\n",
       "    .dataframe thead th {\n",
       "        text-align: right;\n",
       "    }\n",
       "</style>\n",
       "<table border=\"1\" class=\"dataframe\">\n",
       "  <thead>\n",
       "    <tr style=\"text-align: right;\">\n",
       "      <th></th>\n",
       "      <th>count</th>\n",
       "      <th>mean</th>\n",
       "      <th>std</th>\n",
       "      <th>min</th>\n",
       "      <th>25%</th>\n",
       "      <th>50%</th>\n",
       "      <th>75%</th>\n",
       "      <th>max</th>\n",
       "    </tr>\n",
       "    <tr>\n",
       "      <th>Class</th>\n",
       "      <th></th>\n",
       "      <th></th>\n",
       "      <th></th>\n",
       "      <th></th>\n",
       "      <th></th>\n",
       "      <th></th>\n",
       "      <th></th>\n",
       "      <th></th>\n",
       "    </tr>\n",
       "  </thead>\n",
       "  <tbody>\n",
       "    <tr>\n",
       "      <th>benign</th>\n",
       "      <td>25796.0</td>\n",
       "      <td>1.376817</td>\n",
       "      <td>1.056733</td>\n",
       "      <td>1.0</td>\n",
       "      <td>1.00000</td>\n",
       "      <td>1.000000</td>\n",
       "      <td>1.000000</td>\n",
       "      <td>10.476795</td>\n",
       "    </tr>\n",
       "    <tr>\n",
       "      <th>malignant</th>\n",
       "      <td>13521.0</td>\n",
       "      <td>6.473193</td>\n",
       "      <td>2.772911</td>\n",
       "      <td>1.0</td>\n",
       "      <td>4.24346</td>\n",
       "      <td>6.539356</td>\n",
       "      <td>9.631673</td>\n",
       "      <td>10.933095</td>\n",
       "    </tr>\n",
       "  </tbody>\n",
       "</table>\n",
       "</div>"
      ],
      "text/plain": [
       "             count      mean       std  min      25%       50%       75%  \\\n",
       "Class                                                                      \n",
       "benign     25796.0  1.376817  1.056733  1.0  1.00000  1.000000  1.000000   \n",
       "malignant  13521.0  6.473193  2.772911  1.0  4.24346  6.539356  9.631673   \n",
       "\n",
       "                 max  \n",
       "Class                 \n",
       "benign     10.476795  \n",
       "malignant  10.933095  "
      ]
     },
     "execution_count": 18,
     "metadata": {},
     "output_type": "execute_result"
    }
   ],
   "source": [
    "bc_data.groupby('Class')['Cell_Size_Uniformity'].describe()"
   ]
  },
  {
   "cell_type": "code",
   "execution_count": 19,
   "id": "d42ec748",
   "metadata": {},
   "outputs": [
    {
     "data": {
      "text/plain": [
       "<seaborn.axisgrid.FacetGrid at 0x24b3be9f820>"
      ]
     },
     "execution_count": 19,
     "metadata": {},
     "output_type": "execute_result"
    },
    {
     "data": {
      "image/png": "[encoded data removed]",
      "text/plain": [
       "<Figure size 500x500 with 1 Axes>"
      ]
     },
     "metadata": {},
     "output_type": "display_data"
    }
   ],
   "source": [
    "sns.catplot(x=\"Class\", y=\"Cell_Size_Uniformity\", data=bc_data, kind=\"box\")"
   ]
  },
  {
   "cell_type": "markdown",
   "id": "f39bc39f",
   "metadata": {},
   "source": [
    "### 4. Marginal Adhesion"
   ]
  },
  {
   "cell_type": "code",
   "execution_count": 20,
   "id": "153430de",
   "metadata": {},
   "outputs": [
    {
     "data": {
      "text/plain": [
       "count    39317.000000\n",
       "mean         2.826947\n",
       "std          2.872436\n",
       "min          1.000000\n",
       "25%          1.000000\n",
       "50%          1.000000\n",
       "75%          3.551612\n",
       "max         11.158505\n",
       "Name: Marginal_Adhesion, dtype: float64"
      ]
     },
     "execution_count": 20,
     "metadata": {},
     "output_type": "execute_result"
    }
   ],
   "source": [
    "bc_data['Marginal_Adhesion'].describe()"
   ]
  },
  {
   "cell_type": "code",
   "execution_count": 21,
   "id": "490f0e26",
   "metadata": {},
   "outputs": [
    {
     "data": {
      "image/png": "[encoded data removed]",
      "text/plain": [
       "<Figure size 640x480 with 1 Axes>"
      ]
     },
     "metadata": {},
     "output_type": "display_data"
    }
   ],
   "source": [
    "fig, ax = plt.subplots()\n",
    "ax.hist(bc_data[\"Marginal_Adhesion\"])\n",
    "ax.set_xlabel(\"Marginal Adhesion\")\n",
    "ax.set_ylabel(\"# of observations\")\n",
    "plt.show()"
   ]
  },
  {
   "cell_type": "markdown",
   "id": "523eca2c",
   "metadata": {},
   "source": [
    "#### Relationship between Marginal Adhesion and Tumor Class"
   ]
  },
  {
   "cell_type": "code",
   "execution_count": 22,
   "id": "aac02c8a",
   "metadata": {},
   "outputs": [
    {
     "data": {
      "text/html": [
       "<div>\n",
       "<style scoped>\n",
       "    .dataframe tbody tr th:only-of-type {\n",
       "        vertical-align: middle;\n",
       "    }\n",
       "\n",
       "    .dataframe tbody tr th {\n",
       "        vertical-align: top;\n",
       "    }\n",
       "\n",
       "    .dataframe thead th {\n",
       "        text-align: right;\n",
       "    }\n",
       "</style>\n",
       "<table border=\"1\" class=\"dataframe\">\n",
       "  <thead>\n",
       "    <tr style=\"text-align: right;\">\n",
       "      <th></th>\n",
       "      <th>count</th>\n",
       "      <th>mean</th>\n",
       "      <th>std</th>\n",
       "      <th>min</th>\n",
       "      <th>25%</th>\n",
       "      <th>50%</th>\n",
       "      <th>75%</th>\n",
       "      <th>max</th>\n",
       "    </tr>\n",
       "    <tr>\n",
       "      <th>Class</th>\n",
       "      <th></th>\n",
       "      <th></th>\n",
       "      <th></th>\n",
       "      <th></th>\n",
       "      <th></th>\n",
       "      <th></th>\n",
       "      <th></th>\n",
       "      <th></th>\n",
       "    </tr>\n",
       "  </thead>\n",
       "  <tbody>\n",
       "    <tr>\n",
       "      <th>benign</th>\n",
       "      <td>25796.0</td>\n",
       "      <td>1.448758</td>\n",
       "      <td>1.262084</td>\n",
       "      <td>1.0</td>\n",
       "      <td>1.000000</td>\n",
       "      <td>1.000000</td>\n",
       "      <td>1.000000</td>\n",
       "      <td>10.739371</td>\n",
       "    </tr>\n",
       "    <tr>\n",
       "      <th>malignant</th>\n",
       "      <td>13521.0</td>\n",
       "      <td>5.456320</td>\n",
       "      <td>3.227429</td>\n",
       "      <td>1.0</td>\n",
       "      <td>2.738283</td>\n",
       "      <td>5.290517</td>\n",
       "      <td>8.755671</td>\n",
       "      <td>11.158505</td>\n",
       "    </tr>\n",
       "  </tbody>\n",
       "</table>\n",
       "</div>"
      ],
      "text/plain": [
       "             count      mean       std  min       25%       50%       75%  \\\n",
       "Class                                                                       \n",
       "benign     25796.0  1.448758  1.262084  1.0  1.000000  1.000000  1.000000   \n",
       "malignant  13521.0  5.456320  3.227429  1.0  2.738283  5.290517  8.755671   \n",
       "\n",
       "                 max  \n",
       "Class                 \n",
       "benign     10.739371  \n",
       "malignant  11.158505  "
      ]
     },
     "execution_count": 22,
     "metadata": {},
     "output_type": "execute_result"
    }
   ],
   "source": [
    "bc_data.groupby('Class')['Marginal_Adhesion'].describe()"
   ]
  },
  {
   "cell_type": "code",
   "execution_count": 23,
   "id": "f575ecad",
   "metadata": {},
   "outputs": [
    {
     "data": {
      "text/plain": [
       "<seaborn.axisgrid.FacetGrid at 0x24b3bdee7c0>"
      ]
     },
     "execution_count": 23,
     "metadata": {},
     "output_type": "execute_result"
    },
    {
     "data": {
      "image/png": "[encoded data removed]",
      "text/plain": [
       "<Figure size 500x500 with 1 Axes>"
      ]
     },
     "metadata": {},
     "output_type": "display_data"
    }
   ],
   "source": [
    "sns.catplot(x=\"Class\", y=\"Marginal_Adhesion\", data=bc_data, kind=\"box\")"
   ]
  },
  {
   "cell_type": "markdown",
   "id": "46bdb7fc",
   "metadata": {},
   "source": [
    "### 5. Single_Epi_Cell_Size"
   ]
  },
  {
   "cell_type": "code",
   "execution_count": 24,
   "id": "d1e8c0b8",
   "metadata": {},
   "outputs": [
    {
     "data": {
      "text/plain": [
       "count    39317.000000\n",
       "mean         3.209550\n",
       "std          2.220396\n",
       "min          1.000000\n",
       "25%          2.000000\n",
       "50%          2.000000\n",
       "75%          4.002653\n",
       "max         14.414889\n",
       "Name: Single_Epi_Cell_Size, dtype: float64"
      ]
     },
     "execution_count": 24,
     "metadata": {},
     "output_type": "execute_result"
    }
   ],
   "source": [
    "bc_data['Single_Epi_Cell_Size'].describe()"
   ]
  },
  {
   "cell_type": "code",
   "execution_count": 25,
   "id": "7815ece7",
   "metadata": {
    "scrolled": true
   },
   "outputs": [
    {
     "data": {
      "image/png": "[encoded data removed]",
      "text/plain": [
       "<Figure size 640x480 with 1 Axes>"
      ]
     },
     "metadata": {},
     "output_type": "display_data"
    }
   ],
   "source": [
    "fig, ax = plt.subplots()\n",
    "ax.hist(bc_data[\"Single_Epi_Cell_Size\"])\n",
    "ax.set_xlabel(\"Single Epi Cell Size\")\n",
    "ax.set_ylabel(\"# of observations\")\n",
    "plt.show()"
   ]
  },
  {
   "cell_type": "markdown",
   "id": "92ba4103",
   "metadata": {},
   "source": [
    "#### Relationship between Single Epi Cell Size and Tumor Class"
   ]
  },
  {
   "cell_type": "code",
   "execution_count": 26,
   "id": "2085d716",
   "metadata": {},
   "outputs": [
    {
     "data": {
      "text/html": [
       "<div>\n",
       "<style scoped>\n",
       "    .dataframe tbody tr th:only-of-type {\n",
       "        vertical-align: middle;\n",
       "    }\n",
       "\n",
       "    .dataframe tbody tr th {\n",
       "        vertical-align: top;\n",
       "    }\n",
       "\n",
       "    .dataframe thead th {\n",
       "        text-align: right;\n",
       "    }\n",
       "</style>\n",
       "<table border=\"1\" class=\"dataframe\">\n",
       "  <thead>\n",
       "    <tr style=\"text-align: right;\">\n",
       "      <th></th>\n",
       "      <th>count</th>\n",
       "      <th>mean</th>\n",
       "      <th>std</th>\n",
       "      <th>min</th>\n",
       "      <th>25%</th>\n",
       "      <th>50%</th>\n",
       "      <th>75%</th>\n",
       "      <th>max</th>\n",
       "    </tr>\n",
       "    <tr>\n",
       "      <th>Class</th>\n",
       "      <th></th>\n",
       "      <th></th>\n",
       "      <th></th>\n",
       "      <th></th>\n",
       "      <th></th>\n",
       "      <th></th>\n",
       "      <th></th>\n",
       "      <th></th>\n",
       "    </tr>\n",
       "  </thead>\n",
       "  <tbody>\n",
       "    <tr>\n",
       "      <th>benign</th>\n",
       "      <td>25796.0</td>\n",
       "      <td>2.149564</td>\n",
       "      <td>1.038839</td>\n",
       "      <td>1.0</td>\n",
       "      <td>2.0</td>\n",
       "      <td>2.000000</td>\n",
       "      <td>2.000000</td>\n",
       "      <td>12.909913</td>\n",
       "    </tr>\n",
       "    <tr>\n",
       "      <th>malignant</th>\n",
       "      <td>13521.0</td>\n",
       "      <td>5.231843</td>\n",
       "      <td>2.458479</td>\n",
       "      <td>1.0</td>\n",
       "      <td>3.0</td>\n",
       "      <td>4.637064</td>\n",
       "      <td>7.193412</td>\n",
       "      <td>14.414889</td>\n",
       "    </tr>\n",
       "  </tbody>\n",
       "</table>\n",
       "</div>"
      ],
      "text/plain": [
       "             count      mean       std  min  25%       50%       75%  \\\n",
       "Class                                                                  \n",
       "benign     25796.0  2.149564  1.038839  1.0  2.0  2.000000  2.000000   \n",
       "malignant  13521.0  5.231843  2.458479  1.0  3.0  4.637064  7.193412   \n",
       "\n",
       "                 max  \n",
       "Class                 \n",
       "benign     12.909913  \n",
       "malignant  14.414889  "
      ]
     },
     "execution_count": 26,
     "metadata": {},
     "output_type": "execute_result"
    }
   ],
   "source": [
    "bc_data.groupby('Class')['Single_Epi_Cell_Size'].describe()"
   ]
  },
  {
   "cell_type": "code",
   "execution_count": 27,
   "id": "7a2852ce",
   "metadata": {},
   "outputs": [
    {
     "data": {
      "text/plain": [
       "<seaborn.axisgrid.FacetGrid at 0x24b3bfdc970>"
      ]
     },
     "execution_count": 27,
     "metadata": {},
     "output_type": "execute_result"
    },
    {
     "data": {
      "image/png": "[encoded data removed]",
      "text/plain": [
       "<Figure size 500x500 with 1 Axes>"
      ]
     },
     "metadata": {},
     "output_type": "display_data"
    }
   ],
   "source": [
    "sns.catplot(x=\"Class\", y=\"Single_Epi_Cell_Size\", data=bc_data, kind=\"box\")"
   ]
  },
  {
   "cell_type": "markdown",
   "id": "0cd58b05",
   "metadata": {},
   "source": [
    "### 6. Bare Nuclei"
   ]
  },
  {
   "cell_type": "code",
   "execution_count": 28,
   "id": "093ba5b6",
   "metadata": {},
   "outputs": [
    {
     "data": {
      "text/plain": [
       "count    39317.000000\n",
       "mean         3.500404\n",
       "std          3.620691\n",
       "min          1.000000\n",
       "25%          1.000000\n",
       "50%          1.000000\n",
       "75%          6.338096\n",
       "max         13.160789\n",
       "Name: Bare_Nuclei, dtype: float64"
      ]
     },
     "execution_count": 28,
     "metadata": {},
     "output_type": "execute_result"
    }
   ],
   "source": [
    "bc_data['Bare_Nuclei'].describe()"
   ]
  },
  {
   "cell_type": "code",
   "execution_count": 29,
   "id": "856f8fc5",
   "metadata": {
    "scrolled": true
   },
   "outputs": [
    {
     "data": {
      "image/png": "[encoded data removed]",
      "text/plain": [
       "<Figure size 640x480 with 1 Axes>"
      ]
     },
     "metadata": {},
     "output_type": "display_data"
    }
   ],
   "source": [
    "fig, ax = plt.subplots()\n",
    "ax.hist(bc_data[\"Bare_Nuclei\"])\n",
    "ax.set_xlabel(\"Bare Nuclei\")\n",
    "ax.set_ylabel(\"# of observations\")\n",
    "plt.show()"
   ]
  },
  {
   "cell_type": "markdown",
   "id": "c710c2b5",
   "metadata": {},
   "source": [
    "#### Relationship between Bare Nuclei and Tumor Class"
   ]
  },
  {
   "cell_type": "code",
   "execution_count": 30,
   "id": "421da2e4",
   "metadata": {},
   "outputs": [
    {
     "data": {
      "text/html": [
       "<div>\n",
       "<style scoped>\n",
       "    .dataframe tbody tr th:only-of-type {\n",
       "        vertical-align: middle;\n",
       "    }\n",
       "\n",
       "    .dataframe tbody tr th {\n",
       "        vertical-align: top;\n",
       "    }\n",
       "\n",
       "    .dataframe thead th {\n",
       "        text-align: right;\n",
       "    }\n",
       "</style>\n",
       "<table border=\"1\" class=\"dataframe\">\n",
       "  <thead>\n",
       "    <tr style=\"text-align: right;\">\n",
       "      <th></th>\n",
       "      <th>count</th>\n",
       "      <th>mean</th>\n",
       "      <th>std</th>\n",
       "      <th>min</th>\n",
       "      <th>25%</th>\n",
       "      <th>50%</th>\n",
       "      <th>75%</th>\n",
       "      <th>max</th>\n",
       "    </tr>\n",
       "    <tr>\n",
       "      <th>Class</th>\n",
       "      <th></th>\n",
       "      <th></th>\n",
       "      <th></th>\n",
       "      <th></th>\n",
       "      <th></th>\n",
       "      <th></th>\n",
       "      <th></th>\n",
       "      <th></th>\n",
       "    </tr>\n",
       "  </thead>\n",
       "  <tbody>\n",
       "    <tr>\n",
       "      <th>benign</th>\n",
       "      <td>25796.0</td>\n",
       "      <td>1.457808</td>\n",
       "      <td>1.492338</td>\n",
       "      <td>1.0</td>\n",
       "      <td>1.000000</td>\n",
       "      <td>1.0</td>\n",
       "      <td>1.0</td>\n",
       "      <td>11.986848</td>\n",
       "    </tr>\n",
       "    <tr>\n",
       "      <th>malignant</th>\n",
       "      <td>13521.0</td>\n",
       "      <td>7.397366</td>\n",
       "      <td>3.274901</td>\n",
       "      <td>1.0</td>\n",
       "      <td>4.493839</td>\n",
       "      <td>10.0</td>\n",
       "      <td>10.0</td>\n",
       "      <td>13.160789</td>\n",
       "    </tr>\n",
       "  </tbody>\n",
       "</table>\n",
       "</div>"
      ],
      "text/plain": [
       "             count      mean       std  min       25%   50%   75%        max\n",
       "Class                                                                       \n",
       "benign     25796.0  1.457808  1.492338  1.0  1.000000   1.0   1.0  11.986848\n",
       "malignant  13521.0  7.397366  3.274901  1.0  4.493839  10.0  10.0  13.160789"
      ]
     },
     "execution_count": 30,
     "metadata": {},
     "output_type": "execute_result"
    }
   ],
   "source": [
    "bc_data.groupby('Class')['Bare_Nuclei'].describe()"
   ]
  },
  {
   "cell_type": "code",
   "execution_count": 31,
   "id": "e9223295",
   "metadata": {},
   "outputs": [
    {
     "data": {
      "text/plain": [
       "<seaborn.axisgrid.FacetGrid at 0x24b3bfdcac0>"
      ]
     },
     "execution_count": 31,
     "metadata": {},
     "output_type": "execute_result"
    },
    {
     "data": {
      "image/png": "[encoded data removed]",
      "text/plain": [
       "<Figure size 500x500 with 1 Axes>"
      ]
     },
     "metadata": {},
     "output_type": "display_data"
    }
   ],
   "source": [
    "sns.catplot(x=\"Class\", y=\"Bare_Nuclei\", data=bc_data, kind=\"box\")"
   ]
  },
  {
   "cell_type": "markdown",
   "id": "6dd7954d",
   "metadata": {},
   "source": [
    "### 7. Bland_Chromatin"
   ]
  },
  {
   "cell_type": "code",
   "execution_count": 32,
   "id": "6bd140f4",
   "metadata": {},
   "outputs": [
    {
     "data": {
      "text/plain": [
       "count    39317.000000\n",
       "mean         3.408230\n",
       "std          2.421583\n",
       "min          1.000000\n",
       "25%          2.000000\n",
       "50%          3.000000\n",
       "75%          4.559898\n",
       "max         12.005376\n",
       "Name: Bland_Chromatin, dtype: float64"
      ]
     },
     "execution_count": 32,
     "metadata": {},
     "output_type": "execute_result"
    }
   ],
   "source": [
    "bc_data['Bland_Chromatin'].describe()"
   ]
  },
  {
   "cell_type": "code",
   "execution_count": 33,
   "id": "e6143884",
   "metadata": {},
   "outputs": [
    {
     "data": {
      "image/png": "[encoded data removed]",
      "text/plain": [
       "<Figure size 640x480 with 1 Axes>"
      ]
     },
     "metadata": {},
     "output_type": "display_data"
    }
   ],
   "source": [
    "fig, ax = plt.subplots()\n",
    "ax.hist(bc_data[\"Bland_Chromatin\"])\n",
    "ax.set_xlabel(\"Bland Chromatin\")\n",
    "ax.set_ylabel(\"# of observations\")\n",
    "plt.show()"
   ]
  },
  {
   "cell_type": "markdown",
   "id": "cd50d1fe",
   "metadata": {},
   "source": [
    "#### Relationship between Bland Chromatin and Tumor Class"
   ]
  },
  {
   "cell_type": "code",
   "execution_count": 34,
   "id": "837923e7",
   "metadata": {},
   "outputs": [
    {
     "data": {
      "text/html": [
       "<div>\n",
       "<style scoped>\n",
       "    .dataframe tbody tr th:only-of-type {\n",
       "        vertical-align: middle;\n",
       "    }\n",
       "\n",
       "    .dataframe tbody tr th {\n",
       "        vertical-align: top;\n",
       "    }\n",
       "\n",
       "    .dataframe thead th {\n",
       "        text-align: right;\n",
       "    }\n",
       "</style>\n",
       "<table border=\"1\" class=\"dataframe\">\n",
       "  <thead>\n",
       "    <tr style=\"text-align: right;\">\n",
       "      <th></th>\n",
       "      <th>count</th>\n",
       "      <th>mean</th>\n",
       "      <th>std</th>\n",
       "      <th>min</th>\n",
       "      <th>25%</th>\n",
       "      <th>50%</th>\n",
       "      <th>75%</th>\n",
       "      <th>max</th>\n",
       "    </tr>\n",
       "    <tr>\n",
       "      <th>Class</th>\n",
       "      <th></th>\n",
       "      <th></th>\n",
       "      <th></th>\n",
       "      <th></th>\n",
       "      <th></th>\n",
       "      <th></th>\n",
       "      <th></th>\n",
       "      <th></th>\n",
       "    </tr>\n",
       "  </thead>\n",
       "  <tbody>\n",
       "    <tr>\n",
       "      <th>benign</th>\n",
       "      <td>25796.0</td>\n",
       "      <td>2.138867</td>\n",
       "      <td>1.203021</td>\n",
       "      <td>1.0</td>\n",
       "      <td>1.000000</td>\n",
       "      <td>2.000000</td>\n",
       "      <td>3.000000</td>\n",
       "      <td>11.606380</td>\n",
       "    </tr>\n",
       "    <tr>\n",
       "      <th>malignant</th>\n",
       "      <td>13521.0</td>\n",
       "      <td>5.829980</td>\n",
       "      <td>2.313391</td>\n",
       "      <td>1.0</td>\n",
       "      <td>3.936017</td>\n",
       "      <td>5.764783</td>\n",
       "      <td>7.833928</td>\n",
       "      <td>12.005376</td>\n",
       "    </tr>\n",
       "  </tbody>\n",
       "</table>\n",
       "</div>"
      ],
      "text/plain": [
       "             count      mean       std  min       25%       50%       75%  \\\n",
       "Class                                                                       \n",
       "benign     25796.0  2.138867  1.203021  1.0  1.000000  2.000000  3.000000   \n",
       "malignant  13521.0  5.829980  2.313391  1.0  3.936017  5.764783  7.833928   \n",
       "\n",
       "                 max  \n",
       "Class                 \n",
       "benign     11.606380  \n",
       "malignant  12.005376  "
      ]
     },
     "execution_count": 34,
     "metadata": {},
     "output_type": "execute_result"
    }
   ],
   "source": [
    "bc_data.groupby('Class')['Bland_Chromatin'].describe()"
   ]
  },
  {
   "cell_type": "code",
   "execution_count": 35,
   "id": "94c98789",
   "metadata": {},
   "outputs": [
    {
     "data": {
      "text/plain": [
       "<seaborn.axisgrid.FacetGrid at 0x24b41b29970>"
      ]
     },
     "execution_count": 35,
     "metadata": {},
     "output_type": "execute_result"
    },
    {
     "data": {
      "image/png": "[encoded data removed]",
      "text/plain": [
       "<Figure size 500x500 with 1 Axes>"
      ]
     },
     "metadata": {},
     "output_type": "display_data"
    }
   ],
   "source": [
    "sns.catplot(x=\"Class\", y=\"Bland_Chromatin\", data=bc_data, kind=\"box\")"
   ]
  },
  {
   "cell_type": "markdown",
   "id": "50afa119",
   "metadata": {},
   "source": [
    "### 8. Normal Nucleoli"
   ]
  },
  {
   "cell_type": "code",
   "execution_count": 36,
   "id": "c791f627",
   "metadata": {},
   "outputs": [
    {
     "data": {
      "text/plain": [
       "count    39317.000000\n",
       "mean         2.894197\n",
       "std          3.069320\n",
       "min          1.000000\n",
       "25%          1.000000\n",
       "50%          1.000000\n",
       "75%          3.793476\n",
       "max         10.700432\n",
       "Name: Normal_Nucleoli, dtype: float64"
      ]
     },
     "execution_count": 36,
     "metadata": {},
     "output_type": "execute_result"
    }
   ],
   "source": [
    "bc_data['Normal_Nucleoli'].describe()"
   ]
  },
  {
   "cell_type": "code",
   "execution_count": 37,
   "id": "635342d5",
   "metadata": {},
   "outputs": [
    {
     "data": {
      "image/png": "[encoded data removed]",
      "text/plain": [
       "<Figure size 640x480 with 1 Axes>"
      ]
     },
     "metadata": {},
     "output_type": "display_data"
    }
   ],
   "source": [
    "fig, ax = plt.subplots()\n",
    "ax.hist(bc_data[\"Normal_Nucleoli\"])\n",
    "ax.set_xlabel(\"Normal Nucleoli\")\n",
    "ax.set_ylabel(\"# of observations\")\n",
    "plt.show()"
   ]
  },
  {
   "cell_type": "markdown",
   "id": "40d271c2",
   "metadata": {},
   "source": [
    "#### Relationship between Normal_Nucleoli and Tumor Class"
   ]
  },
  {
   "cell_type": "code",
   "execution_count": 38,
   "id": "85f3745f",
   "metadata": {},
   "outputs": [
    {
     "data": {
      "text/html": [
       "<div>\n",
       "<style scoped>\n",
       "    .dataframe tbody tr th:only-of-type {\n",
       "        vertical-align: middle;\n",
       "    }\n",
       "\n",
       "    .dataframe tbody tr th {\n",
       "        vertical-align: top;\n",
       "    }\n",
       "\n",
       "    .dataframe thead th {\n",
       "        text-align: right;\n",
       "    }\n",
       "</style>\n",
       "<table border=\"1\" class=\"dataframe\">\n",
       "  <thead>\n",
       "    <tr style=\"text-align: right;\">\n",
       "      <th></th>\n",
       "      <th>count</th>\n",
       "      <th>mean</th>\n",
       "      <th>std</th>\n",
       "      <th>min</th>\n",
       "      <th>25%</th>\n",
       "      <th>50%</th>\n",
       "      <th>75%</th>\n",
       "      <th>max</th>\n",
       "    </tr>\n",
       "    <tr>\n",
       "      <th>Class</th>\n",
       "      <th></th>\n",
       "      <th></th>\n",
       "      <th></th>\n",
       "      <th></th>\n",
       "      <th></th>\n",
       "      <th></th>\n",
       "      <th></th>\n",
       "      <th></th>\n",
       "    </tr>\n",
       "  </thead>\n",
       "  <tbody>\n",
       "    <tr>\n",
       "      <th>benign</th>\n",
       "      <td>25796.0</td>\n",
       "      <td>1.379709</td>\n",
       "      <td>1.289569</td>\n",
       "      <td>1.0</td>\n",
       "      <td>1.000000</td>\n",
       "      <td>1.000000</td>\n",
       "      <td>1.0</td>\n",
       "      <td>10.700432</td>\n",
       "    </tr>\n",
       "    <tr>\n",
       "      <th>malignant</th>\n",
       "      <td>13521.0</td>\n",
       "      <td>5.783609</td>\n",
       "      <td>3.390706</td>\n",
       "      <td>1.0</td>\n",
       "      <td>2.540388</td>\n",
       "      <td>5.656777</td>\n",
       "      <td>10.0</td>\n",
       "      <td>10.564738</td>\n",
       "    </tr>\n",
       "  </tbody>\n",
       "</table>\n",
       "</div>"
      ],
      "text/plain": [
       "             count      mean       std  min       25%       50%   75%  \\\n",
       "Class                                                                   \n",
       "benign     25796.0  1.379709  1.289569  1.0  1.000000  1.000000   1.0   \n",
       "malignant  13521.0  5.783609  3.390706  1.0  2.540388  5.656777  10.0   \n",
       "\n",
       "                 max  \n",
       "Class                 \n",
       "benign     10.700432  \n",
       "malignant  10.564738  "
      ]
     },
     "execution_count": 38,
     "metadata": {},
     "output_type": "execute_result"
    }
   ],
   "source": [
    "bc_data.groupby('Class')['Normal_Nucleoli'].describe()"
   ]
  },
  {
   "cell_type": "code",
   "execution_count": 39,
   "id": "27ebbbdf",
   "metadata": {},
   "outputs": [
    {
     "data": {
      "text/plain": [
       "<seaborn.axisgrid.FacetGrid at 0x24b3e54c5e0>"
      ]
     },
     "execution_count": 39,
     "metadata": {},
     "output_type": "execute_result"
    },
    {
     "data": {
      "image/png": "[encoded data removed]",
      "text/plain": [
       "<Figure size 500x500 with 1 Axes>"
      ]
     },
     "metadata": {},
     "output_type": "display_data"
    }
   ],
   "source": [
    "sns.catplot(x=\"Class\", y=\"Normal_Nucleoli\", data=bc_data, kind=\"box\")"
   ]
  },
  {
   "cell_type": "markdown",
   "id": "d1ddbe06",
   "metadata": {},
   "source": [
    "### 9. Mitoses"
   ]
  },
  {
   "cell_type": "code",
   "execution_count": 40,
   "id": "cfccbbe1",
   "metadata": {},
   "outputs": [
    {
     "data": {
      "text/plain": [
       "count    39317.000000\n",
       "mean         1.591045\n",
       "std          1.705605\n",
       "min          1.000000\n",
       "25%          1.000000\n",
       "50%          1.000000\n",
       "75%          1.000000\n",
       "max         12.044924\n",
       "Name: Mitoses, dtype: float64"
      ]
     },
     "execution_count": 40,
     "metadata": {},
     "output_type": "execute_result"
    }
   ],
   "source": [
    "bc_data['Mitoses'].describe()"
   ]
  },
  {
   "cell_type": "code",
   "execution_count": 41,
   "id": "a4ba7749",
   "metadata": {},
   "outputs": [
    {
     "data": {
      "image/png": "[encoded data removed]",
      "text/plain": [
       "<Figure size 640x480 with 1 Axes>"
      ]
     },
     "metadata": {},
     "output_type": "display_data"
    }
   ],
   "source": [
    "fig, ax = plt.subplots()\n",
    "ax.hist(bc_data[\"Mitoses\"])\n",
    "ax.set_xlabel(\"Mitoses\")\n",
    "ax.set_ylabel(\"# of observations\")\n",
    "plt.show()"
   ]
  },
  {
   "cell_type": "markdown",
   "id": "2955cd22",
   "metadata": {},
   "source": [
    "#### Relationship between Mitoses and Tumor labels"
   ]
  },
  {
   "cell_type": "code",
   "execution_count": 42,
   "id": "b720176f",
   "metadata": {},
   "outputs": [
    {
     "data": {
      "text/html": [
       "<div>\n",
       "<style scoped>\n",
       "    .dataframe tbody tr th:only-of-type {\n",
       "        vertical-align: middle;\n",
       "    }\n",
       "\n",
       "    .dataframe tbody tr th {\n",
       "        vertical-align: top;\n",
       "    }\n",
       "\n",
       "    .dataframe thead th {\n",
       "        text-align: right;\n",
       "    }\n",
       "</style>\n",
       "<table border=\"1\" class=\"dataframe\">\n",
       "  <thead>\n",
       "    <tr style=\"text-align: right;\">\n",
       "      <th></th>\n",
       "      <th>count</th>\n",
       "      <th>mean</th>\n",
       "      <th>std</th>\n",
       "      <th>min</th>\n",
       "      <th>25%</th>\n",
       "      <th>50%</th>\n",
       "      <th>75%</th>\n",
       "      <th>max</th>\n",
       "    </tr>\n",
       "    <tr>\n",
       "      <th>Class</th>\n",
       "      <th></th>\n",
       "      <th></th>\n",
       "      <th></th>\n",
       "      <th></th>\n",
       "      <th></th>\n",
       "      <th></th>\n",
       "      <th></th>\n",
       "      <th></th>\n",
       "    </tr>\n",
       "  </thead>\n",
       "  <tbody>\n",
       "    <tr>\n",
       "      <th>benign</th>\n",
       "      <td>25796.0</td>\n",
       "      <td>1.080427</td>\n",
       "      <td>0.625913</td>\n",
       "      <td>1.0</td>\n",
       "      <td>1.0</td>\n",
       "      <td>1.0</td>\n",
       "      <td>1.0</td>\n",
       "      <td>11.300649</td>\n",
       "    </tr>\n",
       "    <tr>\n",
       "      <th>malignant</th>\n",
       "      <td>13521.0</td>\n",
       "      <td>2.565228</td>\n",
       "      <td>2.503110</td>\n",
       "      <td>1.0</td>\n",
       "      <td>1.0</td>\n",
       "      <td>1.0</td>\n",
       "      <td>3.0</td>\n",
       "      <td>12.044924</td>\n",
       "    </tr>\n",
       "  </tbody>\n",
       "</table>\n",
       "</div>"
      ],
      "text/plain": [
       "             count      mean       std  min  25%  50%  75%        max\n",
       "Class                                                                \n",
       "benign     25796.0  1.080427  0.625913  1.0  1.0  1.0  1.0  11.300649\n",
       "malignant  13521.0  2.565228  2.503110  1.0  1.0  1.0  3.0  12.044924"
      ]
     },
     "execution_count": 42,
     "metadata": {},
     "output_type": "execute_result"
    }
   ],
   "source": [
    "bc_data.groupby('Class')['Mitoses'].describe()"
   ]
  },
  {
   "cell_type": "code",
   "execution_count": 43,
   "id": "caf6ed11",
   "metadata": {},
   "outputs": [
    {
     "data": {
      "text/plain": [
       "<seaborn.axisgrid.FacetGrid at 0x24b3be1d190>"
      ]
     },
     "execution_count": 43,
     "metadata": {},
     "output_type": "execute_result"
    },
    {
     "data": {
      "image/png": "[encoded data removed]",
      "text/plain": [
       "<Figure size 500x500 with 1 Axes>"
      ]
     },
     "metadata": {},
     "output_type": "display_data"
    }
   ],
   "source": [
    "sns.catplot(x=\"Class\", y=\"Mitoses\", data=bc_data, kind=\"box\")"
   ]
  },
  {
   "cell_type": "markdown",
   "id": "88a57736",
   "metadata": {},
   "source": [
    "### Relationship between the features"
   ]
  },
  {
   "cell_type": "code",
   "execution_count": 44,
   "id": "53fa4280",
   "metadata": {},
   "outputs": [
    {
     "name": "stderr",
     "output_type": "stream",
     "text": [
      "C:\\Users\\manth\\AppData\\Local\\Temp\\ipykernel_13824\\1712833149.py:3: FutureWarning: The default value of numeric_only in DataFrame.corr is deprecated. In a future version, it will default to False. Select only valid columns or specify the value of numeric_only to silence this warning.\n",
      "  sns.heatmap(bc_data.drop('id',axis=1).corr());\n"
     ]
    },
    {
     "data": {
      "image/png": "[encoded data removed]",
      "text/plain": [
       "<Figure size 1200x1000 with 2 Axes>"
      ]
     },
     "metadata": {},
     "output_type": "display_data"
    }
   ],
   "source": [
    "#correlation heatmap\n",
    "plt.subplots(figsize=(12,10))\n",
    "sns.heatmap(bc_data.drop('id',axis=1).corr());"
   ]
  },
  {
   "cell_type": "code",
   "execution_count": 45,
   "id": "45bbd620",
   "metadata": {},
   "outputs": [
    {
     "name": "stderr",
     "output_type": "stream",
     "text": [
      "C:\\Users\\manth\\AppData\\Local\\Temp\\ipykernel_13824\\4115673857.py:2: FutureWarning: The default value of numeric_only in DataFrame.cov is deprecated. In a future version, it will default to False. Select only valid columns or specify the value of numeric_only to silence this warning.\n",
      "  bc_data.drop('id',axis=1).cov()\n"
     ]
    },
    {
     "data": {
      "text/html": [
       "<div>\n",
       "<style scoped>\n",
       "    .dataframe tbody tr th:only-of-type {\n",
       "        vertical-align: middle;\n",
       "    }\n",
       "\n",
       "    .dataframe tbody tr th {\n",
       "        vertical-align: top;\n",
       "    }\n",
       "\n",
       "    .dataframe thead th {\n",
       "        text-align: right;\n",
       "    }\n",
       "</style>\n",
       "<table border=\"1\" class=\"dataframe\">\n",
       "  <thead>\n",
       "    <tr style=\"text-align: right;\">\n",
       "      <th></th>\n",
       "      <th>Clump_Thickness</th>\n",
       "      <th>Cell_Size_Uniformity</th>\n",
       "      <th>Cell_Shape_Uniformity</th>\n",
       "      <th>Marginal_Adhesion</th>\n",
       "      <th>Single_Epi_Cell_Size</th>\n",
       "      <th>Bare_Nuclei</th>\n",
       "      <th>Bland_Chromatin</th>\n",
       "      <th>Normal_Nucleoli</th>\n",
       "      <th>Mitoses</th>\n",
       "    </tr>\n",
       "  </thead>\n",
       "  <tbody>\n",
       "    <tr>\n",
       "      <th>Clump_Thickness</th>\n",
       "      <td>7.906583</td>\n",
       "      <td>4.789613</td>\n",
       "      <td>4.664482</td>\n",
       "      <td>3.762944</td>\n",
       "      <td>2.901838</td>\n",
       "      <td>5.628302</td>\n",
       "      <td>3.482323</td>\n",
       "      <td>4.176530</td>\n",
       "      <td>1.391650</td>\n",
       "    </tr>\n",
       "    <tr>\n",
       "      <th>Cell_Size_Uniformity</th>\n",
       "      <td>4.789613</td>\n",
       "      <td>9.237257</td>\n",
       "      <td>7.608172</td>\n",
       "      <td>5.839281</td>\n",
       "      <td>4.780862</td>\n",
       "      <td>7.239891</td>\n",
       "      <td>5.133039</td>\n",
       "      <td>6.509977</td>\n",
       "      <td>1.712905</td>\n",
       "    </tr>\n",
       "    <tr>\n",
       "      <th>Cell_Shape_Uniformity</th>\n",
       "      <td>4.664482</td>\n",
       "      <td>7.608172</td>\n",
       "      <td>8.855122</td>\n",
       "      <td>5.206598</td>\n",
       "      <td>4.172742</td>\n",
       "      <td>6.817931</td>\n",
       "      <td>4.698327</td>\n",
       "      <td>5.801433</td>\n",
       "      <td>1.664281</td>\n",
       "    </tr>\n",
       "    <tr>\n",
       "      <th>Marginal_Adhesion</th>\n",
       "      <td>3.762944</td>\n",
       "      <td>5.839281</td>\n",
       "      <td>5.206598</td>\n",
       "      <td>8.250888</td>\n",
       "      <td>3.258397</td>\n",
       "      <td>6.592957</td>\n",
       "      <td>3.727048</td>\n",
       "      <td>4.513841</td>\n",
       "      <td>1.306119</td>\n",
       "    </tr>\n",
       "    <tr>\n",
       "      <th>Single_Epi_Cell_Size</th>\n",
       "      <td>2.901838</td>\n",
       "      <td>4.780862</td>\n",
       "      <td>4.172742</td>\n",
       "      <td>3.258397</td>\n",
       "      <td>4.930160</td>\n",
       "      <td>4.268245</td>\n",
       "      <td>2.944598</td>\n",
       "      <td>3.661983</td>\n",
       "      <td>1.063081</td>\n",
       "    </tr>\n",
       "    <tr>\n",
       "      <th>Bare_Nuclei</th>\n",
       "      <td>5.628302</td>\n",
       "      <td>7.239891</td>\n",
       "      <td>6.817931</td>\n",
       "      <td>6.592957</td>\n",
       "      <td>4.268245</td>\n",
       "      <td>13.109400</td>\n",
       "      <td>5.112042</td>\n",
       "      <td>6.075472</td>\n",
       "      <td>1.980346</td>\n",
       "    </tr>\n",
       "    <tr>\n",
       "      <th>Bland_Chromatin</th>\n",
       "      <td>3.482323</td>\n",
       "      <td>5.133039</td>\n",
       "      <td>4.698327</td>\n",
       "      <td>3.727048</td>\n",
       "      <td>2.944598</td>\n",
       "      <td>5.112042</td>\n",
       "      <td>5.864066</td>\n",
       "      <td>4.080528</td>\n",
       "      <td>1.257359</td>\n",
       "    </tr>\n",
       "    <tr>\n",
       "      <th>Normal_Nucleoli</th>\n",
       "      <td>4.176530</td>\n",
       "      <td>6.509977</td>\n",
       "      <td>5.801433</td>\n",
       "      <td>4.513841</td>\n",
       "      <td>3.661983</td>\n",
       "      <td>6.075472</td>\n",
       "      <td>4.080528</td>\n",
       "      <td>9.420723</td>\n",
       "      <td>1.469531</td>\n",
       "    </tr>\n",
       "    <tr>\n",
       "      <th>Mitoses</th>\n",
       "      <td>1.391650</td>\n",
       "      <td>1.712905</td>\n",
       "      <td>1.664281</td>\n",
       "      <td>1.306119</td>\n",
       "      <td>1.063081</td>\n",
       "      <td>1.980346</td>\n",
       "      <td>1.257359</td>\n",
       "      <td>1.469531</td>\n",
       "      <td>2.909088</td>\n",
       "    </tr>\n",
       "  </tbody>\n",
       "</table>\n",
       "</div>"
      ],
      "text/plain": [
       "                       Clump_Thickness  Cell_Size_Uniformity  \\\n",
       "Clump_Thickness               7.906583              4.789613   \n",
       "Cell_Size_Uniformity          4.789613              9.237257   \n",
       "Cell_Shape_Uniformity         4.664482              7.608172   \n",
       "Marginal_Adhesion             3.762944              5.839281   \n",
       "Single_Epi_Cell_Size          2.901838              4.780862   \n",
       "Bare_Nuclei                   5.628302              7.239891   \n",
       "Bland_Chromatin               3.482323              5.133039   \n",
       "Normal_Nucleoli               4.176530              6.509977   \n",
       "Mitoses                       1.391650              1.712905   \n",
       "\n",
       "                       Cell_Shape_Uniformity  Marginal_Adhesion  \\\n",
       "Clump_Thickness                     4.664482           3.762944   \n",
       "Cell_Size_Uniformity                7.608172           5.839281   \n",
       "Cell_Shape_Uniformity               8.855122           5.206598   \n",
       "Marginal_Adhesion                   5.206598           8.250888   \n",
       "Single_Epi_Cell_Size                4.172742           3.258397   \n",
       "Bare_Nuclei                         6.817931           6.592957   \n",
       "Bland_Chromatin                     4.698327           3.727048   \n",
       "Normal_Nucleoli                     5.801433           4.513841   \n",
       "Mitoses                             1.664281           1.306119   \n",
       "\n",
       "                       Single_Epi_Cell_Size  Bare_Nuclei  Bland_Chromatin  \\\n",
       "Clump_Thickness                    2.901838     5.628302         3.482323   \n",
       "Cell_Size_Uniformity               4.780862     7.239891         5.133039   \n",
       "Cell_Shape_Uniformity              4.172742     6.817931         4.698327   \n",
       "Marginal_Adhesion                  3.258397     6.592957         3.727048   \n",
       "Single_Epi_Cell_Size               4.930160     4.268245         2.944598   \n",
       "Bare_Nuclei                        4.268245    13.109400         5.112042   \n",
       "Bland_Chromatin                    2.944598     5.112042         5.864066   \n",
       "Normal_Nucleoli                    3.661983     6.075472         4.080528   \n",
       "Mitoses                            1.063081     1.980346         1.257359   \n",
       "\n",
       "                       Normal_Nucleoli   Mitoses  \n",
       "Clump_Thickness               4.176530  1.391650  \n",
       "Cell_Size_Uniformity          6.509977  1.712905  \n",
       "Cell_Shape_Uniformity         5.801433  1.664281  \n",
       "Marginal_Adhesion             4.513841  1.306119  \n",
       "Single_Epi_Cell_Size          3.661983  1.063081  \n",
       "Bare_Nuclei                   6.075472  1.980346  \n",
       "Bland_Chromatin               4.080528  1.257359  \n",
       "Normal_Nucleoli               9.420723  1.469531  \n",
       "Mitoses                       1.469531  2.909088  "
      ]
     },
     "execution_count": 45,
     "metadata": {},
     "output_type": "execute_result"
    }
   ],
   "source": [
    "#feature covariance matrix\n",
    "bc_data.drop('id',axis=1).cov()"
   ]
  },
  {
   "cell_type": "code",
   "execution_count": 46,
   "id": "2270c3f8",
   "metadata": {},
   "outputs": [
    {
     "name": "stderr",
     "output_type": "stream",
     "text": [
      "C:\\Users\\manth\\AppData\\Local\\Temp\\ipykernel_13824\\82463161.py:2: FutureWarning: The default value of numeric_only in DataFrame.corr is deprecated. In a future version, it will default to False. Select only valid columns or specify the value of numeric_only to silence this warning.\n",
      "  bc_data.drop('id',axis=1).corr(method='spearman')\n"
     ]
    },
    {
     "data": {
      "text/html": [
       "<div>\n",
       "<style scoped>\n",
       "    .dataframe tbody tr th:only-of-type {\n",
       "        vertical-align: middle;\n",
       "    }\n",
       "\n",
       "    .dataframe tbody tr th {\n",
       "        vertical-align: top;\n",
       "    }\n",
       "\n",
       "    .dataframe thead th {\n",
       "        text-align: right;\n",
       "    }\n",
       "</style>\n",
       "<table border=\"1\" class=\"dataframe\">\n",
       "  <thead>\n",
       "    <tr style=\"text-align: right;\">\n",
       "      <th></th>\n",
       "      <th>Clump_Thickness</th>\n",
       "      <th>Cell_Size_Uniformity</th>\n",
       "      <th>Cell_Shape_Uniformity</th>\n",
       "      <th>Marginal_Adhesion</th>\n",
       "      <th>Single_Epi_Cell_Size</th>\n",
       "      <th>Bare_Nuclei</th>\n",
       "      <th>Bland_Chromatin</th>\n",
       "      <th>Normal_Nucleoli</th>\n",
       "      <th>Mitoses</th>\n",
       "    </tr>\n",
       "  </thead>\n",
       "  <tbody>\n",
       "    <tr>\n",
       "      <th>Clump_Thickness</th>\n",
       "      <td>1.000000</td>\n",
       "      <td>0.560428</td>\n",
       "      <td>0.541110</td>\n",
       "      <td>0.470575</td>\n",
       "      <td>0.493262</td>\n",
       "      <td>0.538937</td>\n",
       "      <td>0.473369</td>\n",
       "      <td>0.481638</td>\n",
       "      <td>0.342135</td>\n",
       "    </tr>\n",
       "    <tr>\n",
       "      <th>Cell_Size_Uniformity</th>\n",
       "      <td>0.560428</td>\n",
       "      <td>1.000000</td>\n",
       "      <td>0.856110</td>\n",
       "      <td>0.719441</td>\n",
       "      <td>0.747843</td>\n",
       "      <td>0.709490</td>\n",
       "      <td>0.684476</td>\n",
       "      <td>0.740366</td>\n",
       "      <td>0.438833</td>\n",
       "    </tr>\n",
       "    <tr>\n",
       "      <th>Cell_Shape_Uniformity</th>\n",
       "      <td>0.541110</td>\n",
       "      <td>0.856110</td>\n",
       "      <td>1.000000</td>\n",
       "      <td>0.653586</td>\n",
       "      <td>0.681495</td>\n",
       "      <td>0.672642</td>\n",
       "      <td>0.639142</td>\n",
       "      <td>0.674534</td>\n",
       "      <td>0.422812</td>\n",
       "    </tr>\n",
       "    <tr>\n",
       "      <th>Marginal_Adhesion</th>\n",
       "      <td>0.470575</td>\n",
       "      <td>0.719441</td>\n",
       "      <td>0.653586</td>\n",
       "      <td>1.000000</td>\n",
       "      <td>0.583684</td>\n",
       "      <td>0.677139</td>\n",
       "      <td>0.546275</td>\n",
       "      <td>0.571755</td>\n",
       "      <td>0.361011</td>\n",
       "    </tr>\n",
       "    <tr>\n",
       "      <th>Single_Epi_Cell_Size</th>\n",
       "      <td>0.493262</td>\n",
       "      <td>0.747843</td>\n",
       "      <td>0.681495</td>\n",
       "      <td>0.583684</td>\n",
       "      <td>1.000000</td>\n",
       "      <td>0.608908</td>\n",
       "      <td>0.574954</td>\n",
       "      <td>0.607366</td>\n",
       "      <td>0.385280</td>\n",
       "    </tr>\n",
       "    <tr>\n",
       "      <th>Bare_Nuclei</th>\n",
       "      <td>0.538937</td>\n",
       "      <td>0.709490</td>\n",
       "      <td>0.672642</td>\n",
       "      <td>0.677139</td>\n",
       "      <td>0.608908</td>\n",
       "      <td>1.000000</td>\n",
       "      <td>0.584451</td>\n",
       "      <td>0.600037</td>\n",
       "      <td>0.414837</td>\n",
       "    </tr>\n",
       "    <tr>\n",
       "      <th>Bland_Chromatin</th>\n",
       "      <td>0.473369</td>\n",
       "      <td>0.684476</td>\n",
       "      <td>0.639142</td>\n",
       "      <td>0.546275</td>\n",
       "      <td>0.574954</td>\n",
       "      <td>0.584451</td>\n",
       "      <td>1.000000</td>\n",
       "      <td>0.560669</td>\n",
       "      <td>0.372083</td>\n",
       "    </tr>\n",
       "    <tr>\n",
       "      <th>Normal_Nucleoli</th>\n",
       "      <td>0.481638</td>\n",
       "      <td>0.740366</td>\n",
       "      <td>0.674534</td>\n",
       "      <td>0.571755</td>\n",
       "      <td>0.607366</td>\n",
       "      <td>0.600037</td>\n",
       "      <td>0.560669</td>\n",
       "      <td>1.000000</td>\n",
       "      <td>0.372774</td>\n",
       "    </tr>\n",
       "    <tr>\n",
       "      <th>Mitoses</th>\n",
       "      <td>0.342135</td>\n",
       "      <td>0.438833</td>\n",
       "      <td>0.422812</td>\n",
       "      <td>0.361011</td>\n",
       "      <td>0.385280</td>\n",
       "      <td>0.414837</td>\n",
       "      <td>0.372083</td>\n",
       "      <td>0.372774</td>\n",
       "      <td>1.000000</td>\n",
       "    </tr>\n",
       "  </tbody>\n",
       "</table>\n",
       "</div>"
      ],
      "text/plain": [
       "                       Clump_Thickness  Cell_Size_Uniformity  \\\n",
       "Clump_Thickness               1.000000              0.560428   \n",
       "Cell_Size_Uniformity          0.560428              1.000000   \n",
       "Cell_Shape_Uniformity         0.541110              0.856110   \n",
       "Marginal_Adhesion             0.470575              0.719441   \n",
       "Single_Epi_Cell_Size          0.493262              0.747843   \n",
       "Bare_Nuclei                   0.538937              0.709490   \n",
       "Bland_Chromatin               0.473369              0.684476   \n",
       "Normal_Nucleoli               0.481638              0.740366   \n",
       "Mitoses                       0.342135              0.438833   \n",
       "\n",
       "                       Cell_Shape_Uniformity  Marginal_Adhesion  \\\n",
       "Clump_Thickness                     0.541110           0.470575   \n",
       "Cell_Size_Uniformity                0.856110           0.719441   \n",
       "Cell_Shape_Uniformity               1.000000           0.653586   \n",
       "Marginal_Adhesion                   0.653586           1.000000   \n",
       "Single_Epi_Cell_Size                0.681495           0.583684   \n",
       "Bare_Nuclei                         0.672642           0.677139   \n",
       "Bland_Chromatin                     0.639142           0.546275   \n",
       "Normal_Nucleoli                     0.674534           0.571755   \n",
       "Mitoses                             0.422812           0.361011   \n",
       "\n",
       "                       Single_Epi_Cell_Size  Bare_Nuclei  Bland_Chromatin  \\\n",
       "Clump_Thickness                    0.493262     0.538937         0.473369   \n",
       "Cell_Size_Uniformity               0.747843     0.709490         0.684476   \n",
       "Cell_Shape_Uniformity              0.681495     0.672642         0.639142   \n",
       "Marginal_Adhesion                  0.583684     0.677139         0.546275   \n",
       "Single_Epi_Cell_Size               1.000000     0.608908         0.574954   \n",
       "Bare_Nuclei                        0.608908     1.000000         0.584451   \n",
       "Bland_Chromatin                    0.574954     0.584451         1.000000   \n",
       "Normal_Nucleoli                    0.607366     0.600037         0.560669   \n",
       "Mitoses                            0.385280     0.414837         0.372083   \n",
       "\n",
       "                       Normal_Nucleoli   Mitoses  \n",
       "Clump_Thickness               0.481638  0.342135  \n",
       "Cell_Size_Uniformity          0.740366  0.438833  \n",
       "Cell_Shape_Uniformity         0.674534  0.422812  \n",
       "Marginal_Adhesion             0.571755  0.361011  \n",
       "Single_Epi_Cell_Size          0.607366  0.385280  \n",
       "Bare_Nuclei                   0.600037  0.414837  \n",
       "Bland_Chromatin               0.560669  0.372083  \n",
       "Normal_Nucleoli               1.000000  0.372774  \n",
       "Mitoses                       0.372774  1.000000  "
      ]
     },
     "execution_count": 46,
     "metadata": {},
     "output_type": "execute_result"
    }
   ],
   "source": [
    "#feature spearman rank correlation matrix\n",
    "bc_data.drop('id',axis=1).corr(method='spearman')"
   ]
  },
  {
   "cell_type": "markdown",
   "id": "9a23a33c",
   "metadata": {},
   "source": [
    "By all three metrics depicted above, 'Cell_Size_Uniformity' and 'Cell_Shape_Uniformity' have the strongest positive correlation. Furthermore, these two features also have significant correlation with other features which indicates they may be important to consider while modelling."
   ]
  }
 ],
 "metadata": {
  "kernelspec": {
   "display_name": "Python 3 (ipykernel)",
   "language": "python",
   "name": "python3"
  },
  "language_info": {
   "codemirror_mode": {
    "name": "ipython",
    "version": 3
   },
   "file_extension": ".py",
   "mimetype": "text/x-python",
   "name": "python",
   "nbconvert_exporter": "python",
   "pygments_lexer": "ipython3",
   "version": "3.9.7"
  }
 },
 "nbformat": 4,
 "nbformat_minor": 5
}
