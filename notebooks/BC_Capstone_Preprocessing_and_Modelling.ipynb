{
 "cells": [
  {
   "cell_type": "markdown",
   "id": "8d9106c0",
   "metadata": {},
   "source": [
    "# Predicting Breast Cancer - Preprocessing and Modelling"
   ]
  },
  {
   "cell_type": "markdown",
   "id": "61801181",
   "metadata": {},
   "source": [
    "## Capstone Project Two: Springboard Data Science Career Track \n",
    "\n",
    "### Notebook by Manthan Desai"
   ]
  },
  {
   "cell_type": "markdown",
   "id": "02537e15",
   "metadata": {},
   "source": [
    "## Introduction:"
   ]
  },
  {
   "cell_type": "markdown",
   "id": "6c6b15d0",
   "metadata": {},
   "source": [
    "## 1. Problem Statement:"
   ]
  },
  {
   "cell_type": "markdown",
   "id": "32fa7dc4",
   "metadata": {},
   "source": [
    "Breast cancer is an increasingly common and dangerous disease for women that forms in the cells of the breast. Nearly 12% of women worldwide are affected by the disease. Early detection remains vital for successful treatment of the disease and improved outcomes. Machine learning algorithms can help improve the accuracy of breast cancer detection by analyzing large-scale datasets for relevant trends and most important features. \n",
    "\n",
    "In the context of this problem, how can tumors be classified as benign or malignant with a minimum accuracy of 80% based on nine features that describe the tumor?"
   ]
  },
  {
   "cell_type": "markdown",
   "id": "87905ad9",
   "metadata": {},
   "source": [
    "## 2. The Data:"
   ]
  },
  {
   "cell_type": "markdown",
   "id": "0a5bedb0",
   "metadata": {},
   "source": [
    "The dataset is acquired from OpenML.org\n",
    "(https://www.openml.org/search?type=data&sort=runs&status=active&qualities.NumberOfInstances=between_10000_100000&id=251). \n",
    "\n",
    "The dataset is comprised of the follwing fields:\n",
    "\n",
    " - id - Patient ID\n",
    " - Clump_Thickness - Indicates grouping of cancer cells in multilayer (Values range from 1-10).\n",
    " - Cell_Size_Uniformity - Indicates metastasis to lymph nodes (Values range from 1-10).\n",
    " - Cell_Shape_Uniformity - Identifies cancerous cells of varying size (Values range from 1-10).\n",
    " - Marginal_Adhesion - Quantifies loss of adhesion in cells (Values range from 1-10).\n",
    " - Single_Epi_Cell_Size - Quantifies the size of the epithelial cells (Values range from 1-10).\n",
    " - Bare_Nuclei - Quantifies the presence of bare nuclei in the cells (Values range from 1-10).\n",
    " - Bland_Chromatin - Quantifies the presence of bland chromatin in the cells (Values range from 1-10).\n",
    " - Normal Nucleoli - Quantifies the presence of normal nucleoli in the cells (Values range from 1-10).\n",
    " - Mitoses - Quantifies the stage of Mitoses in the cells (Values range from 1-10).\n",
    " - Class - The target variable that qualifies tumors as malignant (1) or benign (0) "
   ]
  },
  {
   "cell_type": "markdown",
   "id": "8e7b85b5",
   "metadata": {},
   "source": [
    "## 3. Library Imports and Load the Data"
   ]
  },
  {
   "cell_type": "code",
   "execution_count": 1,
   "id": "53d1726c",
   "metadata": {},
   "outputs": [],
   "source": [
    "import pandas as pd\n",
    "import numpy as np\n",
    "import os\n",
    "import matplotlib.pyplot as plt\n",
    "import seaborn as sns\n",
    "from sklearn import __version__ as sklearn_version\n",
    "from sklearn.model_selection import train_test_split, cross_validate, GridSearchCV, learning_curve\n",
    "from sklearn.linear_model import LogisticRegression\n",
    "from sklearn.ensemble import RandomForestClassifier\n",
    "import xgboost as xgb\n",
    "from sklearn.metrics import accuracy_score\n",
    "from sklearn.model_selection import cross_val_score\n",
    "from sklearn.metrics import classification_report, confusion_matrix, roc_curve\n",
    "\n",
    "#ignore warning messages to ensure clean outputs\n",
    "import warnings\n",
    "warnings.filterwarnings('ignore')"
   ]
  },
  {
   "cell_type": "code",
   "execution_count": 2,
   "id": "e8223e84",
   "metadata": {},
   "outputs": [],
   "source": [
    "bc_data = pd.read_csv('../data/bc_data_cleaned.csv')"
   ]
  },
  {
   "cell_type": "code",
   "execution_count": 3,
   "id": "a7cb717f",
   "metadata": {},
   "outputs": [
    {
     "name": "stdout",
     "output_type": "stream",
     "text": [
      "<class 'pandas.core.frame.DataFrame'>\n",
      "RangeIndex: 39317 entries, 0 to 39316\n",
      "Data columns (total 11 columns):\n",
      " #   Column                 Non-Null Count  Dtype  \n",
      "---  ------                 --------------  -----  \n",
      " 0   id                     39317 non-null  int64  \n",
      " 1   Clump_Thickness        39317 non-null  float64\n",
      " 2   Cell_Size_Uniformity   39317 non-null  float64\n",
      " 3   Cell_Shape_Uniformity  39317 non-null  float64\n",
      " 4   Marginal_Adhesion      39317 non-null  float64\n",
      " 5   Single_Epi_Cell_Size   39317 non-null  float64\n",
      " 6   Bare_Nuclei            39317 non-null  float64\n",
      " 7   Bland_Chromatin        39317 non-null  float64\n",
      " 8   Normal_Nucleoli        39317 non-null  float64\n",
      " 9   Mitoses                39317 non-null  float64\n",
      " 10  Class                  39317 non-null  object \n",
      "dtypes: float64(9), int64(1), object(1)\n",
      "memory usage: 3.3+ MB\n"
     ]
    }
   ],
   "source": [
    "bc_data.info()"
   ]
  },
  {
   "cell_type": "code",
   "execution_count": 4,
   "id": "93cd880f",
   "metadata": {},
   "outputs": [
    {
     "data": {
      "text/html": [
       "<div>\n",
       "<style scoped>\n",
       "    .dataframe tbody tr th:only-of-type {\n",
       "        vertical-align: middle;\n",
       "    }\n",
       "\n",
       "    .dataframe tbody tr th {\n",
       "        vertical-align: top;\n",
       "    }\n",
       "\n",
       "    .dataframe thead th {\n",
       "        text-align: right;\n",
       "    }\n",
       "</style>\n",
       "<table border=\"1\" class=\"dataframe\">\n",
       "  <thead>\n",
       "    <tr style=\"text-align: right;\">\n",
       "      <th></th>\n",
       "      <th>Clump_Thickness</th>\n",
       "      <th>Cell_Size_Uniformity</th>\n",
       "      <th>Cell_Shape_Uniformity</th>\n",
       "      <th>Marginal_Adhesion</th>\n",
       "      <th>Single_Epi_Cell_Size</th>\n",
       "      <th>Bare_Nuclei</th>\n",
       "      <th>Bland_Chromatin</th>\n",
       "      <th>Normal_Nucleoli</th>\n",
       "      <th>Mitoses</th>\n",
       "      <th>Class</th>\n",
       "    </tr>\n",
       "    <tr>\n",
       "      <th>id</th>\n",
       "      <th></th>\n",
       "      <th></th>\n",
       "      <th></th>\n",
       "      <th></th>\n",
       "      <th></th>\n",
       "      <th></th>\n",
       "      <th></th>\n",
       "      <th></th>\n",
       "      <th></th>\n",
       "      <th></th>\n",
       "    </tr>\n",
       "  </thead>\n",
       "  <tbody>\n",
       "    <tr>\n",
       "      <th>1</th>\n",
       "      <td>7.581819</td>\n",
       "      <td>9.745087</td>\n",
       "      <td>1.000000</td>\n",
       "      <td>4.503410</td>\n",
       "      <td>7.039930</td>\n",
       "      <td>10.000000</td>\n",
       "      <td>4.412282</td>\n",
       "      <td>10.000000</td>\n",
       "      <td>5.055266</td>\n",
       "      <td>malignant</td>\n",
       "    </tr>\n",
       "    <tr>\n",
       "      <th>2</th>\n",
       "      <td>5.210921</td>\n",
       "      <td>8.169596</td>\n",
       "      <td>7.841875</td>\n",
       "      <td>6.033275</td>\n",
       "      <td>4.269619</td>\n",
       "      <td>10.000000</td>\n",
       "      <td>4.236312</td>\n",
       "      <td>4.845350</td>\n",
       "      <td>1.000000</td>\n",
       "      <td>malignant</td>\n",
       "    </tr>\n",
       "    <tr>\n",
       "      <th>3</th>\n",
       "      <td>4.000000</td>\n",
       "      <td>4.594296</td>\n",
       "      <td>2.330380</td>\n",
       "      <td>2.000000</td>\n",
       "      <td>3.000000</td>\n",
       "      <td>1.000000</td>\n",
       "      <td>10.701823</td>\n",
       "      <td>1.101305</td>\n",
       "      <td>1.000000</td>\n",
       "      <td>benign</td>\n",
       "    </tr>\n",
       "    <tr>\n",
       "      <th>4</th>\n",
       "      <td>2.428871</td>\n",
       "      <td>1.000000</td>\n",
       "      <td>1.000000</td>\n",
       "      <td>1.000000</td>\n",
       "      <td>4.099291</td>\n",
       "      <td>1.000000</td>\n",
       "      <td>2.000000</td>\n",
       "      <td>1.000000</td>\n",
       "      <td>1.000000</td>\n",
       "      <td>benign</td>\n",
       "    </tr>\n",
       "    <tr>\n",
       "      <th>5</th>\n",
       "      <td>8.855971</td>\n",
       "      <td>2.697539</td>\n",
       "      <td>6.047068</td>\n",
       "      <td>3.301891</td>\n",
       "      <td>3.000000</td>\n",
       "      <td>1.000000</td>\n",
       "      <td>5.297592</td>\n",
       "      <td>4.104791</td>\n",
       "      <td>3.115741</td>\n",
       "      <td>malignant</td>\n",
       "    </tr>\n",
       "    <tr>\n",
       "      <th>...</th>\n",
       "      <td>...</td>\n",
       "      <td>...</td>\n",
       "      <td>...</td>\n",
       "      <td>...</td>\n",
       "      <td>...</td>\n",
       "      <td>...</td>\n",
       "      <td>...</td>\n",
       "      <td>...</td>\n",
       "      <td>...</td>\n",
       "      <td>...</td>\n",
       "    </tr>\n",
       "    <tr>\n",
       "      <th>39362</th>\n",
       "      <td>9.927819</td>\n",
       "      <td>9.356578</td>\n",
       "      <td>8.735863</td>\n",
       "      <td>9.857325</td>\n",
       "      <td>7.899676</td>\n",
       "      <td>10.000000</td>\n",
       "      <td>2.000000</td>\n",
       "      <td>7.783836</td>\n",
       "      <td>3.000000</td>\n",
       "      <td>malignant</td>\n",
       "    </tr>\n",
       "    <tr>\n",
       "      <th>39363</th>\n",
       "      <td>4.781275</td>\n",
       "      <td>1.000000</td>\n",
       "      <td>1.000000</td>\n",
       "      <td>1.000000</td>\n",
       "      <td>2.000000</td>\n",
       "      <td>1.000000</td>\n",
       "      <td>3.000000</td>\n",
       "      <td>1.000000</td>\n",
       "      <td>1.000000</td>\n",
       "      <td>benign</td>\n",
       "    </tr>\n",
       "    <tr>\n",
       "      <th>39364</th>\n",
       "      <td>5.479501</td>\n",
       "      <td>9.688672</td>\n",
       "      <td>2.000000</td>\n",
       "      <td>3.415991</td>\n",
       "      <td>5.915206</td>\n",
       "      <td>10.000000</td>\n",
       "      <td>7.930997</td>\n",
       "      <td>5.689254</td>\n",
       "      <td>5.650542</td>\n",
       "      <td>malignant</td>\n",
       "    </tr>\n",
       "    <tr>\n",
       "      <th>39365</th>\n",
       "      <td>4.000000</td>\n",
       "      <td>1.000000</td>\n",
       "      <td>1.000000</td>\n",
       "      <td>1.000000</td>\n",
       "      <td>2.000000</td>\n",
       "      <td>2.071265</td>\n",
       "      <td>3.000000</td>\n",
       "      <td>1.000000</td>\n",
       "      <td>1.000000</td>\n",
       "      <td>benign</td>\n",
       "    </tr>\n",
       "    <tr>\n",
       "      <th>39366</th>\n",
       "      <td>9.761903</td>\n",
       "      <td>9.817482</td>\n",
       "      <td>4.279460</td>\n",
       "      <td>9.337890</td>\n",
       "      <td>10.617945</td>\n",
       "      <td>5.960952</td>\n",
       "      <td>7.666130</td>\n",
       "      <td>10.000000</td>\n",
       "      <td>1.000000</td>\n",
       "      <td>malignant</td>\n",
       "    </tr>\n",
       "  </tbody>\n",
       "</table>\n",
       "<p>39317 rows × 10 columns</p>\n",
       "</div>"
      ],
      "text/plain": [
       "       Clump_Thickness  Cell_Size_Uniformity  Cell_Shape_Uniformity  \\\n",
       "id                                                                    \n",
       "1             7.581819              9.745087               1.000000   \n",
       "2             5.210921              8.169596               7.841875   \n",
       "3             4.000000              4.594296               2.330380   \n",
       "4             2.428871              1.000000               1.000000   \n",
       "5             8.855971              2.697539               6.047068   \n",
       "...                ...                   ...                    ...   \n",
       "39362         9.927819              9.356578               8.735863   \n",
       "39363         4.781275              1.000000               1.000000   \n",
       "39364         5.479501              9.688672               2.000000   \n",
       "39365         4.000000              1.000000               1.000000   \n",
       "39366         9.761903              9.817482               4.279460   \n",
       "\n",
       "       Marginal_Adhesion  Single_Epi_Cell_Size  Bare_Nuclei  Bland_Chromatin  \\\n",
       "id                                                                             \n",
       "1               4.503410              7.039930    10.000000         4.412282   \n",
       "2               6.033275              4.269619    10.000000         4.236312   \n",
       "3               2.000000              3.000000     1.000000        10.701823   \n",
       "4               1.000000              4.099291     1.000000         2.000000   \n",
       "5               3.301891              3.000000     1.000000         5.297592   \n",
       "...                  ...                   ...          ...              ...   \n",
       "39362           9.857325              7.899676    10.000000         2.000000   \n",
       "39363           1.000000              2.000000     1.000000         3.000000   \n",
       "39364           3.415991              5.915206    10.000000         7.930997   \n",
       "39365           1.000000              2.000000     2.071265         3.000000   \n",
       "39366           9.337890             10.617945     5.960952         7.666130   \n",
       "\n",
       "       Normal_Nucleoli   Mitoses      Class  \n",
       "id                                           \n",
       "1            10.000000  5.055266  malignant  \n",
       "2             4.845350  1.000000  malignant  \n",
       "3             1.101305  1.000000     benign  \n",
       "4             1.000000  1.000000     benign  \n",
       "5             4.104791  3.115741  malignant  \n",
       "...                ...       ...        ...  \n",
       "39362         7.783836  3.000000  malignant  \n",
       "39363         1.000000  1.000000     benign  \n",
       "39364         5.689254  5.650542  malignant  \n",
       "39365         1.000000  1.000000     benign  \n",
       "39366        10.000000  1.000000  malignant  \n",
       "\n",
       "[39317 rows x 10 columns]"
      ]
     },
     "execution_count": 4,
     "metadata": {},
     "output_type": "execute_result"
    }
   ],
   "source": [
    "bc_data.set_index('id')"
   ]
  },
  {
   "cell_type": "code",
   "execution_count": 5,
   "id": "e1b015e6",
   "metadata": {},
   "outputs": [
    {
     "data": {
      "text/plain": [
       "benign       25796\n",
       "malignant    13521\n",
       "Name: Class, dtype: int64"
      ]
     },
     "execution_count": 5,
     "metadata": {},
     "output_type": "execute_result"
    }
   ],
   "source": [
    "bc_data['Class'].value_counts()"
   ]
  },
  {
   "cell_type": "code",
   "execution_count": 6,
   "id": "4fc1560f",
   "metadata": {
    "scrolled": true
   },
   "outputs": [
    {
     "data": {
      "text/html": [
       "<div>\n",
       "<style scoped>\n",
       "    .dataframe tbody tr th:only-of-type {\n",
       "        vertical-align: middle;\n",
       "    }\n",
       "\n",
       "    .dataframe tbody tr th {\n",
       "        vertical-align: top;\n",
       "    }\n",
       "\n",
       "    .dataframe thead th {\n",
       "        text-align: right;\n",
       "    }\n",
       "</style>\n",
       "<table border=\"1\" class=\"dataframe\">\n",
       "  <thead>\n",
       "    <tr style=\"text-align: right;\">\n",
       "      <th></th>\n",
       "      <th>id</th>\n",
       "      <th>Clump_Thickness</th>\n",
       "      <th>Cell_Size_Uniformity</th>\n",
       "      <th>Cell_Shape_Uniformity</th>\n",
       "      <th>Marginal_Adhesion</th>\n",
       "      <th>Single_Epi_Cell_Size</th>\n",
       "      <th>Bare_Nuclei</th>\n",
       "      <th>Bland_Chromatin</th>\n",
       "      <th>Normal_Nucleoli</th>\n",
       "      <th>Mitoses</th>\n",
       "      <th>Class</th>\n",
       "    </tr>\n",
       "  </thead>\n",
       "  <tbody>\n",
       "    <tr>\n",
       "      <th>0</th>\n",
       "      <td>1</td>\n",
       "      <td>7.581819</td>\n",
       "      <td>9.745087</td>\n",
       "      <td>1.000000</td>\n",
       "      <td>4.503410</td>\n",
       "      <td>7.039930</td>\n",
       "      <td>10.0</td>\n",
       "      <td>4.412282</td>\n",
       "      <td>10.000000</td>\n",
       "      <td>5.055266</td>\n",
       "      <td>1</td>\n",
       "    </tr>\n",
       "    <tr>\n",
       "      <th>1</th>\n",
       "      <td>2</td>\n",
       "      <td>5.210921</td>\n",
       "      <td>8.169596</td>\n",
       "      <td>7.841875</td>\n",
       "      <td>6.033275</td>\n",
       "      <td>4.269619</td>\n",
       "      <td>10.0</td>\n",
       "      <td>4.236312</td>\n",
       "      <td>4.845350</td>\n",
       "      <td>1.000000</td>\n",
       "      <td>1</td>\n",
       "    </tr>\n",
       "    <tr>\n",
       "      <th>2</th>\n",
       "      <td>3</td>\n",
       "      <td>4.000000</td>\n",
       "      <td>4.594296</td>\n",
       "      <td>2.330380</td>\n",
       "      <td>2.000000</td>\n",
       "      <td>3.000000</td>\n",
       "      <td>1.0</td>\n",
       "      <td>10.701823</td>\n",
       "      <td>1.101305</td>\n",
       "      <td>1.000000</td>\n",
       "      <td>0</td>\n",
       "    </tr>\n",
       "    <tr>\n",
       "      <th>3</th>\n",
       "      <td>4</td>\n",
       "      <td>2.428871</td>\n",
       "      <td>1.000000</td>\n",
       "      <td>1.000000</td>\n",
       "      <td>1.000000</td>\n",
       "      <td>4.099291</td>\n",
       "      <td>1.0</td>\n",
       "      <td>2.000000</td>\n",
       "      <td>1.000000</td>\n",
       "      <td>1.000000</td>\n",
       "      <td>0</td>\n",
       "    </tr>\n",
       "    <tr>\n",
       "      <th>4</th>\n",
       "      <td>5</td>\n",
       "      <td>8.855971</td>\n",
       "      <td>2.697539</td>\n",
       "      <td>6.047068</td>\n",
       "      <td>3.301891</td>\n",
       "      <td>3.000000</td>\n",
       "      <td>1.0</td>\n",
       "      <td>5.297592</td>\n",
       "      <td>4.104791</td>\n",
       "      <td>3.115741</td>\n",
       "      <td>1</td>\n",
       "    </tr>\n",
       "  </tbody>\n",
       "</table>\n",
       "</div>"
      ],
      "text/plain": [
       "   id  Clump_Thickness  Cell_Size_Uniformity  Cell_Shape_Uniformity  \\\n",
       "0   1         7.581819              9.745087               1.000000   \n",
       "1   2         5.210921              8.169596               7.841875   \n",
       "2   3         4.000000              4.594296               2.330380   \n",
       "3   4         2.428871              1.000000               1.000000   \n",
       "4   5         8.855971              2.697539               6.047068   \n",
       "\n",
       "   Marginal_Adhesion  Single_Epi_Cell_Size  Bare_Nuclei  Bland_Chromatin  \\\n",
       "0           4.503410              7.039930         10.0         4.412282   \n",
       "1           6.033275              4.269619         10.0         4.236312   \n",
       "2           2.000000              3.000000          1.0        10.701823   \n",
       "3           1.000000              4.099291          1.0         2.000000   \n",
       "4           3.301891              3.000000          1.0         5.297592   \n",
       "\n",
       "   Normal_Nucleoli   Mitoses  Class  \n",
       "0        10.000000  5.055266      1  \n",
       "1         4.845350  1.000000      1  \n",
       "2         1.101305  1.000000      0  \n",
       "3         1.000000  1.000000      0  \n",
       "4         4.104791  3.115741      1  "
      ]
     },
     "execution_count": 6,
     "metadata": {},
     "output_type": "execute_result"
    }
   ],
   "source": [
    "#convert Class value columns to 0: benign, 1: malignant\n",
    "bc_data['Class'] = bc_data['Class'].map({'malignant': 1, 'benign': 0})\n",
    "bc_data.head()"
   ]
  },
  {
   "cell_type": "markdown",
   "id": "9fcaf0ac",
   "metadata": {},
   "source": [
    "The data does not require scaling because it has already been standardized to values 1-10 for each feature. There are no features that require one-hot encoding since each is numeric."
   ]
  },
  {
   "cell_type": "markdown",
   "id": "8052df14",
   "metadata": {},
   "source": [
    "## 4. Train/test splitting of the data"
   ]
  },
  {
   "cell_type": "code",
   "execution_count": 7,
   "id": "553f31e9",
   "metadata": {},
   "outputs": [],
   "source": [
    "X = bc_data.drop(['id','Class'], axis=1)\n",
    "y = bc_data['Class']\n",
    "X_train, X_test, y_train, y_test = train_test_split(X, y, test_size=0.25, random_state=100)"
   ]
  },
  {
   "cell_type": "code",
   "execution_count": 8,
   "id": "215be048",
   "metadata": {},
   "outputs": [
    {
     "data": {
      "text/plain": [
       "((29487, 9), (9830, 9))"
      ]
     },
     "execution_count": 8,
     "metadata": {},
     "output_type": "execute_result"
    }
   ],
   "source": [
    "X_train.shape, X_test.shape"
   ]
  },
  {
   "cell_type": "code",
   "execution_count": 9,
   "id": "2283f763",
   "metadata": {},
   "outputs": [
    {
     "data": {
      "text/plain": [
       "((29487,), (9830,))"
      ]
     },
     "execution_count": 9,
     "metadata": {},
     "output_type": "execute_result"
    }
   ],
   "source": [
    "y_train.shape, y_test.shape"
   ]
  },
  {
   "cell_type": "markdown",
   "id": "c2c827f9",
   "metadata": {},
   "source": [
    "## 5: First Model - Logistic Regression"
   ]
  },
  {
   "cell_type": "code",
   "execution_count": 10,
   "id": "cb6dfaab",
   "metadata": {},
   "outputs": [],
   "source": [
    "log_model = LogisticRegression(penalty = 'l2', C = 10,random_state = 100).fit(X_train,y_train)\n",
    "y_train_pred_log = log_model.predict(X_train)\n",
    "y_test_pred_log = log_model.predict(X_test)"
   ]
  },
  {
   "cell_type": "code",
   "execution_count": 11,
   "id": "279de03b",
   "metadata": {},
   "outputs": [
    {
     "name": "stdout",
     "output_type": "stream",
     "text": [
      "[[6309  114]\n",
      " [  92 3315]]\n",
      "0.9790437436419125\n"
     ]
    }
   ],
   "source": [
    "#Confusion Matrix\n",
    "cnf_matrix= confusion_matrix(y_test,y_test_pred_log)\n",
    "print(cnf_matrix)\n",
    "accuracy_log= log_model.score(X_test,y_test)\n",
    "print(accuracy_log)"
   ]
  },
  {
   "cell_type": "code",
   "execution_count": 12,
   "id": "9a395e13",
   "metadata": {},
   "outputs": [
    {
     "name": "stdout",
     "output_type": "stream",
     "text": [
      "[0.99779793 0.99689173 0.99737168 0.99726729 0.99828364]\n",
      "Mean cross validation test score: 0.9975224538853098\n",
      "Mean cross validation train score: 0.9977749543735079\n",
      "Standard deviation in cv test scores: 0.0004776891397368129\n"
     ]
    }
   ],
   "source": [
    "#Cross Validation\n",
    "cv_scores_test= cross_val_score(log_model,X_test,y_test,cv=5,scoring='roc_auc')\n",
    "cv_scores_train= cross_val_score(log_model,X_train,y_train,cv=5,scoring='roc_auc')\n",
    "print(cv_scores_test)\n",
    "cv_scores_test_log = cv_scores_test.mean()\n",
    "cv_scores_train_log = cv_scores_train.mean()\n",
    "cv_scores_std_test_log = cv_scores_test.std()\n",
    "print ('Mean cross validation test score: ' +str(cv_scores_test_log))\n",
    "print ('Mean cross validation train score: ' +str(cv_scores_train_log))\n",
    "print ('Standard deviation in cv test scores: ' +str(cv_scores_std_test_log))"
   ]
  },
  {
   "cell_type": "code",
   "execution_count": 13,
   "id": "e74c2220",
   "metadata": {},
   "outputs": [
    {
     "name": "stdout",
     "output_type": "stream",
     "text": [
      "Classification Report On Test Dataset\n",
      "              precision    recall  f1-score   support\n",
      "\n",
      "           0       0.99      0.98      0.98      6423\n",
      "           1       0.97      0.97      0.97      3407\n",
      "\n",
      "    accuracy                           0.98      9830\n",
      "   macro avg       0.98      0.98      0.98      9830\n",
      "weighted avg       0.98      0.98      0.98      9830\n",
      "\n"
     ]
    }
   ],
   "source": [
    "#classification score\n",
    "print('Classification Report On Test Dataset')\n",
    "print(classification_report(y_test,y_test_pred_log))"
   ]
  },
  {
   "cell_type": "code",
   "execution_count": 14,
   "id": "162cfea6",
   "metadata": {},
   "outputs": [
    {
     "data": {
      "image/png": "[encoded data removed]",
      "text/plain": [
       "<Figure size 640x480 with 1 Axes>"
      ]
     },
     "metadata": {},
     "output_type": "display_data"
    }
   ],
   "source": [
    "#plotting roc curve\n",
    "y_pred_proba = log_model.predict_proba(X_test)[::,1]\n",
    "fpr, tpr, _ = roc_curve(y_test,  y_pred_proba)\n",
    "\n",
    "plt.plot(fpr,tpr)\n",
    "plt.plot([0, 1], [0, 1], 'r', linewidth=4)\n",
    "plt.ylabel('True Positive Rate')\n",
    "plt.xlabel('False Positive Rate')\n",
    "plt.title('Logistic Regression ROC Curve for the Test Dataset')\n",
    "plt.show()"
   ]
  },
  {
   "cell_type": "markdown",
   "id": "2ca60199",
   "metadata": {},
   "source": [
    "## 6: Second Model - Random Forest"
   ]
  },
  {
   "cell_type": "code",
   "execution_count": 15,
   "id": "17e5bcdf",
   "metadata": {},
   "outputs": [],
   "source": [
    "rf_model = RandomForestClassifier(bootstrap=True,n_estimators=100,criterion='entropy').fit(X_train,y_train)\n",
    "y_train_pred_rf = rf_model.predict(X_train)\n",
    "y_test_pred_rf = rf_model.predict(X_test)"
   ]
  },
  {
   "cell_type": "code",
   "execution_count": 16,
   "id": "974f0851",
   "metadata": {},
   "outputs": [
    {
     "name": "stdout",
     "output_type": "stream",
     "text": [
      "[[6325   98]\n",
      " [  53 3354]]\n",
      "0.9846388606307223\n"
     ]
    }
   ],
   "source": [
    "#Confusion Matrix\n",
    "cnf_matrix = confusion_matrix(y_test, y_test_pred_rf)\n",
    "print(cnf_matrix)\n",
    "accuracy_rf=rf_model.score(X_test,y_test)\n",
    "print(accuracy_rf)"
   ]
  },
  {
   "cell_type": "code",
   "execution_count": 17,
   "id": "fc87230b",
   "metadata": {},
   "outputs": [
    {
     "name": "stdout",
     "output_type": "stream",
     "text": [
      "[0.9976088  0.9982516  0.99809618 0.99807637 0.99870102]\n",
      "Mean cross validation test score: 0.9981467956217296\n",
      "Mean cross validation train score: 0.9985817953681204\n",
      "Standard deviation in cv test scores: 0.00035074388105368757\n"
     ]
    }
   ],
   "source": [
    "#Cross Validation\n",
    "cv_scores_test= cross_val_score(rf_model,X_test,y_test,cv=5,scoring='roc_auc')\n",
    "cv_scores_train= cross_val_score(rf_model,X_train,y_train,cv=5,scoring='roc_auc')\n",
    "print(cv_scores_test)\n",
    "cv_scores_test_rf = cv_scores_test.mean()\n",
    "cv_scores_train_rf = cv_scores_train.mean()\n",
    "cv_scores_std_test_rf = cv_scores_test.std()\n",
    "print ('Mean cross validation test score: ' + str(cv_scores_test_rf))\n",
    "print ('Mean cross validation train score: ' + str(cv_scores_train_rf))\n",
    "print ('Standard deviation in cv test scores: ' + str(cv_scores_std_test_rf))"
   ]
  },
  {
   "cell_type": "code",
   "execution_count": 18,
   "id": "7be3c2c7",
   "metadata": {},
   "outputs": [
    {
     "name": "stdout",
     "output_type": "stream",
     "text": [
      "Classification Report on Test Dataset\n",
      "              precision    recall  f1-score   support\n",
      "\n",
      "           0       0.99      0.98      0.99      6423\n",
      "           1       0.97      0.98      0.98      3407\n",
      "\n",
      "    accuracy                           0.98      9830\n",
      "   macro avg       0.98      0.98      0.98      9830\n",
      "weighted avg       0.98      0.98      0.98      9830\n",
      "\n"
     ]
    }
   ],
   "source": [
    "#classification score\n",
    "print('Classification Report on Test Dataset')\n",
    "print(classification_report(y_test,y_test_pred_rf))"
   ]
  },
  {
   "cell_type": "code",
   "execution_count": 19,
   "id": "1941a5f6",
   "metadata": {},
   "outputs": [
    {
     "data": {
      "image/png": "[encoded data removed]",
      "text/plain": [
       "<Figure size 640x480 with 1 Axes>"
      ]
     },
     "metadata": {},
     "output_type": "display_data"
    }
   ],
   "source": [
    "#plotting roc curve\n",
    "y_pred_proba = rf_model.predict_proba(X_test)[::,1]\n",
    "fpr, tpr, _ = roc_curve(y_test,  y_pred_proba)\n",
    "\n",
    "plt.plot(fpr,tpr)\n",
    "plt.plot([0, 1], [0, 1], 'r', linewidth=4)\n",
    "plt.ylabel('True Positive Rate')\n",
    "plt.xlabel('False Positive Rate')\n",
    "plt.title('Random Forest ROC Curve for the Test Dataset')\n",
    "plt.show()"
   ]
  },
  {
   "cell_type": "markdown",
   "id": "d018fb57",
   "metadata": {},
   "source": [
    "#### Random Forest feature importance"
   ]
  },
  {
   "cell_type": "code",
   "execution_count": 20,
   "id": "4b302e55",
   "metadata": {},
   "outputs": [
    {
     "data": {
      "text/plain": [
       "Text(0.5, 1.0, 'Random Forest Feature Importance')"
      ]
     },
     "execution_count": 20,
     "metadata": {},
     "output_type": "execute_result"
    },
    {
     "data": {
      "image/png": "[encoded data removed]",
      "text/plain": [
       "<Figure size 640x480 with 1 Axes>"
      ]
     },
     "metadata": {},
     "output_type": "display_data"
    }
   ],
   "source": [
    "sorted_idx = rf_model.feature_importances_.argsort()\n",
    "plt.barh(X.columns, rf_model.feature_importances_[sorted_idx])\n",
    "plt.xlabel(\"Importance\")\n",
    "plt.ylabel('Features')\n",
    "plt.title('Random Forest Feature Importance')"
   ]
  },
  {
   "cell_type": "markdown",
   "id": "058f7354",
   "metadata": {},
   "source": [
    "By all metrics, the models are performing exceptionally well (>0.98 accuracy on test dataset). This raises some questions about the state of the dataset, chief among them being if there are colinear features that lead to overfitting. Therefore, by obtaining the feature importance, we can remove the most important feature from the dataset and refit the model to see its effect."
   ]
  },
  {
   "cell_type": "markdown",
   "id": "c9f1088f",
   "metadata": {},
   "source": [
    "#### Reapply random forest model on data without the most important feature (Mitoses)"
   ]
  },
  {
   "cell_type": "code",
   "execution_count": 21,
   "id": "9b880366",
   "metadata": {},
   "outputs": [],
   "source": [
    "X = bc_data.drop(['id','Class', 'Mitoses'], axis=1)\n",
    "y = bc_data['Class']\n",
    "X_train, X_test, y_train, y_test = train_test_split(X, y, test_size=0.25, random_state=100)"
   ]
  },
  {
   "cell_type": "code",
   "execution_count": 22,
   "id": "dbf17fc3",
   "metadata": {},
   "outputs": [],
   "source": [
    "rf_model2 = RandomForestClassifier(bootstrap=True,n_estimators=100,criterion='entropy').fit(X_train,y_train)\n",
    "y_train_pred_rf = rf_model2.predict(X_train)\n",
    "y_test_pred_rf = rf_model2.predict(X_test)"
   ]
  },
  {
   "cell_type": "code",
   "execution_count": 23,
   "id": "c3856be3",
   "metadata": {},
   "outputs": [
    {
     "name": "stdout",
     "output_type": "stream",
     "text": [
      "[[6303  120]\n",
      " [  57 3350]]\n",
      "0.9819938962360122\n"
     ]
    }
   ],
   "source": [
    "#Confusion Matrix\n",
    "cnf_matrix = confusion_matrix(y_test, y_test_pred_rf)\n",
    "print(cnf_matrix)\n",
    "accuracy_rf=rf_model2.score(X_test,y_test)\n",
    "print(accuracy_rf)"
   ]
  },
  {
   "cell_type": "code",
   "execution_count": 24,
   "id": "a8d5207d",
   "metadata": {},
   "outputs": [
    {
     "name": "stdout",
     "output_type": "stream",
     "text": [
      "Classification Report on Test Dataset\n",
      "              precision    recall  f1-score   support\n",
      "\n",
      "           0       0.99      0.98      0.99      6423\n",
      "           1       0.97      0.98      0.97      3407\n",
      "\n",
      "    accuracy                           0.98      9830\n",
      "   macro avg       0.98      0.98      0.98      9830\n",
      "weighted avg       0.98      0.98      0.98      9830\n",
      "\n"
     ]
    }
   ],
   "source": [
    "#classification score\n",
    "print('Classification Report on Test Dataset')\n",
    "print(classification_report(y_test,y_test_pred_rf))"
   ]
  },
  {
   "cell_type": "markdown",
   "id": "5cae559a",
   "metadata": {},
   "source": [
    "Removing the most important feature from the dataset did not impact the model performance, suggesting the likelihood of colinearity among the features."
   ]
  },
  {
   "cell_type": "markdown",
   "id": "5624b01b",
   "metadata": {},
   "source": [
    "## 7: Third Model - XGBoost"
   ]
  },
  {
   "cell_type": "code",
   "execution_count": 25,
   "id": "f7f54204",
   "metadata": {},
   "outputs": [],
   "source": [
    "X = bc_data.drop(['id','Class'], axis=1)\n",
    "y = bc_data['Class']\n",
    "X_train, X_test, y_train, y_test = train_test_split(X, y, test_size=0.25, random_state=100)"
   ]
  },
  {
   "cell_type": "code",
   "execution_count": 26,
   "id": "dc34e040",
   "metadata": {},
   "outputs": [],
   "source": [
    "xgb_classifier = xgb.XGBClassifier().fit(X_train, y_train)\n",
    "y_train_pred_xgb = xgb_classifier.predict(X_train)\n",
    "y_test_pred_xgb = xgb_classifier.predict(X_test)"
   ]
  },
  {
   "cell_type": "code",
   "execution_count": 27,
   "id": "2bb24702",
   "metadata": {},
   "outputs": [
    {
     "name": "stdout",
     "output_type": "stream",
     "text": [
      "[[6329   94]\n",
      " [  49 3358]]\n",
      "0.9854526958290946\n"
     ]
    }
   ],
   "source": [
    "#Confusion Matrix\n",
    "cnf_matrix = confusion_matrix(y_test, y_test_pred_xgb)\n",
    "print(cnf_matrix)\n",
    "accuracy_xgb = xgb_classifier.score(X_test,y_test)\n",
    "print(accuracy_xgb)"
   ]
  },
  {
   "cell_type": "code",
   "execution_count": 28,
   "id": "a9ce79ef",
   "metadata": {},
   "outputs": [
    {
     "name": "stdout",
     "output_type": "stream",
     "text": [
      "[0.99870641 0.99823217 0.99838187 0.99843666 0.99869131]\n",
      "Mean cross validation test score: 0.998489685420861\n",
      "Mean cross validation train score: 0.9989520113866794\n",
      "Standard deviation in cv test scores: 0.00018350672315885916\n"
     ]
    }
   ],
   "source": [
    "#Cross Validation\n",
    "cv_scores_test= cross_val_score(xgb_classifier,X_test,y_test,cv=5,scoring='roc_auc')\n",
    "cv_scores_train= cross_val_score(xgb_classifier,X_train,y_train,cv=5,scoring='roc_auc')\n",
    "print(cv_scores_test)\n",
    "cv_scores_test_xgb = cv_scores_test.mean()\n",
    "cv_scores_train_xgb = cv_scores_train.mean()\n",
    "cv_scores_std_test_xgb = cv_scores_test.std()\n",
    "print ('Mean cross validation test score: ' + str(cv_scores_test_xgb))\n",
    "print ('Mean cross validation train score: ' + str(cv_scores_train_xgb))\n",
    "print ('Standard deviation in cv test scores: ' + str(cv_scores_std_test_xgb))"
   ]
  },
  {
   "cell_type": "markdown",
   "id": "d4008010",
   "metadata": {},
   "source": [
    "#### XGBoost Feature Importance"
   ]
  },
  {
   "cell_type": "code",
   "execution_count": 29,
   "id": "bea45c88",
   "metadata": {},
   "outputs": [
    {
     "data": {
      "text/plain": [
       "Text(0.5, 1.0, 'XGBoost Feature Importance')"
      ]
     },
     "execution_count": 29,
     "metadata": {},
     "output_type": "execute_result"
    },
    {
     "data": {
      "image/png": "[encoded data removed]",
      "text/plain": [
       "<Figure size 640x480 with 1 Axes>"
      ]
     },
     "metadata": {},
     "output_type": "display_data"
    }
   ],
   "source": [
    "sorted_idx = xgb_classifier.feature_importances_.argsort()\n",
    "plt.barh(X.columns, xgb_classifier.feature_importances_[sorted_idx])\n",
    "plt.xlabel(\"Importance\")\n",
    "plt.ylabel('Features')\n",
    "plt.title('XGBoost Feature Importance')"
   ]
  },
  {
   "cell_type": "markdown",
   "id": "5f1544f1",
   "metadata": {},
   "source": [
    "## 8: Model Comparison"
   ]
  },
  {
   "cell_type": "code",
   "execution_count": 30,
   "id": "9ee9762d",
   "metadata": {},
   "outputs": [
    {
     "name": "stdout",
     "output_type": "stream",
     "text": [
      "             Algorithm  Model accuracy score\n",
      "0  Logistic Regression              0.979044\n",
      "1        Random Forest              0.981994\n",
      "2       Gradient Boost              0.985453\n"
     ]
    },
    {
     "data": {
      "text/html": [
       "<div>\n",
       "<style scoped>\n",
       "    .dataframe tbody tr th:only-of-type {\n",
       "        vertical-align: middle;\n",
       "    }\n",
       "\n",
       "    .dataframe tbody tr th {\n",
       "        vertical-align: top;\n",
       "    }\n",
       "\n",
       "    .dataframe thead th {\n",
       "        text-align: right;\n",
       "    }\n",
       "</style>\n",
       "<table border=\"1\" class=\"dataframe\">\n",
       "  <thead>\n",
       "    <tr style=\"text-align: right;\">\n",
       "      <th></th>\n",
       "      <th>Algorithm</th>\n",
       "      <th>ROC-AUC train score</th>\n",
       "      <th>ROC-AUC test score</th>\n",
       "    </tr>\n",
       "  </thead>\n",
       "  <tbody>\n",
       "    <tr>\n",
       "      <th>0</th>\n",
       "      <td>Logistic Regression</td>\n",
       "      <td>0.997775</td>\n",
       "      <td>0.997522</td>\n",
       "    </tr>\n",
       "    <tr>\n",
       "      <th>1</th>\n",
       "      <td>Random Forest</td>\n",
       "      <td>0.998582</td>\n",
       "      <td>0.998147</td>\n",
       "    </tr>\n",
       "    <tr>\n",
       "      <th>2</th>\n",
       "      <td>Gradient Boost</td>\n",
       "      <td>0.998952</td>\n",
       "      <td>0.998490</td>\n",
       "    </tr>\n",
       "  </tbody>\n",
       "</table>\n",
       "</div>"
      ],
      "text/plain": [
       "             Algorithm  ROC-AUC train score  ROC-AUC test score\n",
       "0  Logistic Regression             0.997775            0.997522\n",
       "1        Random Forest             0.998582            0.998147\n",
       "2       Gradient Boost             0.998952            0.998490"
      ]
     },
     "execution_count": 30,
     "metadata": {},
     "output_type": "execute_result"
    }
   ],
   "source": [
    "labels = ['Logistic Regression','Random Forest','Gradient Boost']\n",
    "score_test= [cv_scores_test_log,cv_scores_test_rf,cv_scores_test_xgb]\n",
    "score_train= [cv_scores_train_log,cv_scores_train_rf,cv_scores_train_xgb]\n",
    "accuracy_scores = [accuracy_log,accuracy_rf,accuracy_xgb]\n",
    "\n",
    "score_tab_acc = pd.DataFrame(list(zip(labels, accuracy_scores)), columns =['Algorithm', 'Model accuracy score']) \n",
    "\n",
    "score_tab = pd.DataFrame(list(zip(labels, score_train, score_test)), \n",
    "                         columns =['Algorithm', 'ROC-AUC train score', 'ROC-AUC test score' ]) \n",
    "print(score_tab_acc)\n",
    "\n",
    "score_tab"
   ]
  },
  {
   "cell_type": "code",
   "execution_count": 31,
   "id": "7b8cccb6",
   "metadata": {},
   "outputs": [
    {
     "data": {
      "image/png": "[encoded data removed]",
      "text/plain": [
       "<Figure size 600x400 with 1 Axes>"
      ]
     },
     "metadata": {},
     "output_type": "display_data"
    }
   ],
   "source": [
    "#plotting the accuracy scores:\n",
    "index=[1,2,3]\n",
    "index_acc=[1.2,2.2,3.2]\n",
    "\n",
    "plt.figure(figsize=(6,4))\n",
    "plt.bar(index_acc,accuracy_scores,color='coral',alpha=0.8,label='Accuracy score',edgecolor='k',width=0.3)\n",
    "\n",
    "plt.xlabel('Models',fontsize=15)\n",
    "plt.ylabel ('Model accuracy scores',fontsize=15)\n",
    "plt.title('Comparison of the algorithms',fontsize=15)\n",
    "plt.xticks([1,2,3], labels)\n",
    "plt.show()"
   ]
  },
  {
   "cell_type": "code",
   "execution_count": 32,
   "id": "39f14978",
   "metadata": {},
   "outputs": [
    {
     "data": {
      "image/png": "[encoded data removed]",
      "text/plain": [
       "<Figure size 600x400 with 1 Axes>"
      ]
     },
     "metadata": {},
     "output_type": "display_data"
    }
   ],
   "source": [
    "#plotting and comparing ROC-AUC train/test scores\n",
    "index=[1,2,3]\n",
    "index_acc=[1.2,2.2,3.2]\n",
    "\n",
    "plt.figure(figsize=(6,4))\n",
    "plt.bar(index,score_train,color='b',alpha=0.6,label='Training score',edgecolor='k',width=0.2)\n",
    "plt.bar(index_acc,score_test,color='cyan',alpha=0.8,label='Test score',edgecolor='k',width=0.2)\n",
    "\n",
    "plt.xlabel('Models',fontsize=15)\n",
    "plt.ylabel ('ROC-AUC scores',fontsize=15)\n",
    "plt.title('Comparison of the algorithms',fontsize=15)\n",
    "plt.xticks([1,2,3], labels)\n",
    "plt.legend()\n",
    "plt.show()"
   ]
  },
  {
   "cell_type": "markdown",
   "id": "4520c16f",
   "metadata": {},
   "source": [
    "## Conclusions"
   ]
  },
  {
   "cell_type": "markdown",
   "id": "52a30b9a",
   "metadata": {},
   "source": [
    "- To classify the ~39000 tumor entries in the dataset as benign or malignant, I used all nine major features from the dataset to train the following models:\n",
    "    - Logistic Regression\n",
    "    - Random Forest\n",
    "    - XGBoost\n",
    "    \n",
    "- By Random Forest and XGBoost models, the most important feature in the dataset was 'mitoses', followed by 'Normal_Nucleoli' and 'Bland Chromatin'. However, upon removing 'Mitoses' and refitting the random forest model to the new dataset, there was no major drop in test dataset accuracy.\n",
    "\n",
    "- Evaluating the performance of a model by training and testing on the same dataset can lead to the overfitting. Hence the model evaluation is based on splitting the dataset into train and validation set. But the performance of the prediction result depends upon the random choice of the pair of (train,validation) set. Inorder to overcome that, the Cross-Validation procedure is used where under the k-fold CV approach, the training set is split into k smaller sets, where a model is trained using k-1 of the folds as training data and the model is validated on the remaining part.\n",
    "\n",
    "- I evaluated each model in terms of model accuracy score, and 'ROC-AUC' score for both the training and test data, and plotted them. Among the three models, there isn't a significant difference in performance. Each model has unrealistically high scores which suggests the presence of data leakage and other fundamental issues with the dataset, such as:\n",
    "    - The dataset is missing many key features that can directly influence the outcome of the target variable such as the time passed since initial prognosis, Tumor stage, etc.\n",
    "    - The dataset is also static, i.e, the data is collected at a fixed point in time as opposed to a collection over a period of time. This robs us of understanding the progression of the tumor and therefore comparing each tumor on an even scale. With the current dataset, it is possible that entries which are classified as malignant tumor are derived from individuals already diagnosed and in the later stages of cancer.\n",
    "\n",
    "- These fundamental issues with the dataset defeat the purpose of machine learning in this instance, because we want to be able to use ML models as supplement to the real-world situations, i.e, being able to predict potential malignant tumors before they are diagnosed by the doctors. While we can fit models to this dataset and achieve high accuracy results, there isn't many obvious real world utility."
   ]
  }
 ],
 "metadata": {
  "kernelspec": {
   "display_name": "Python 3 (ipykernel)",
   "language": "python",
   "name": "python3"
  },
  "language_info": {
   "codemirror_mode": {
    "name": "ipython",
    "version": 3
   },
   "file_extension": ".py",
   "mimetype": "text/x-python",
   "name": "python",
   "nbconvert_exporter": "python",
   "pygments_lexer": "ipython3",
   "version": "3.9.7"
  }
 },
 "nbformat": 4,
 "nbformat_minor": 5
}
