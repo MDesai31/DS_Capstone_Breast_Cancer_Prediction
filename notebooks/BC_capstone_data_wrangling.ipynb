{
 "cells": [
  {
   "cell_type": "markdown",
   "id": "5b1fb6b6",
   "metadata": {},
   "source": [
    "# Predicting Breast Cancer - Data Wrangling"
   ]
  },
  {
   "cell_type": "markdown",
   "id": "bd263051",
   "metadata": {},
   "source": [
    "## Capstone Project Two: Springboard Data Science Career Track \n",
    "\n",
    "### Notebook by Manthan Desai"
   ]
  },
  {
   "cell_type": "markdown",
   "id": "e13e9fe9",
   "metadata": {},
   "source": [
    "## Introduction:"
   ]
  },
  {
   "cell_type": "markdown",
   "id": "e2f4b582",
   "metadata": {},
   "source": [
    "## 1. Problem Statement:"
   ]
  },
  {
   "cell_type": "markdown",
   "id": "f6bec77b",
   "metadata": {},
   "source": [
    "Breast cancer is an increasingly common and dangerous disease for women that forms in the cells of the breast. Nearly 12% of women worldwide are affected by the disease. Early detection remains vital for successful treatment of the disease and improved outcomes. Machine learning algorithms can help improve the accuracy of breast cancer detection by analyzing large-scale datasets for relevant trends and most important features. \n",
    "\n",
    "In the context of this problem, how can tumors be classified as benign or malignant with a minimum accuracy of 80% based on nine features that describe the tumor?"
   ]
  },
  {
   "cell_type": "markdown",
   "id": "589e064f",
   "metadata": {},
   "source": [
    "## 2. The Data:"
   ]
  },
  {
   "cell_type": "markdown",
   "id": "630dceea",
   "metadata": {},
   "source": [
    "The dataset is acquired from OpenML.org\n",
    "(https://www.openml.org/search?type=data&sort=runs&status=active&qualities.NumberOfInstances=between_10000_100000&id=251). \n",
    "\n",
    "The dataset is comprised of the follwing fields:\n",
    "\n",
    " - id - Patient ID\n",
    " - Clump_Thickness - Indicates grouping of cancer cells in multilayer (Values range from 1-10).\n",
    " - Cell_Size_Uniformity - Indicates metastasis to lymph nodes (Values range from 1-10).\n",
    " - Cell_Shape_Uniformity - Identifies cancerous cells of varying size (Values range from 1-10).\n",
    " - Marginal_Adhesion - Quantifies loss of adhesion in cells (Values range from 1-10).\n",
    " - Single_Epi_Cell_Size - Quantifies the size of the epithelial cells (Values range from 1-10).\n",
    " - Bare_Nuclei - Quantifies the presence of bare nuclei in the cells (Values range from 1-10).\n",
    " - Bland_Chromatin - Quantifies the presence of bland chromatin in the cells (Values range from 1-10).\n",
    " - Normal Nucleoli - Quantifies the presence of normal nucleoli in the cells (Values range from 1-10).\n",
    " - Mitoses - Quantifies the stage of Mitoses in the cells (Values range from 1-10).\n",
    " - Class - The target variable that qualifies tumors as malignant (1) or benign (0) "
   ]
  },
  {
   "cell_type": "markdown",
   "id": "2992b72a",
   "metadata": {},
   "source": [
    "## 3. Library Imports"
   ]
  },
  {
   "cell_type": "code",
   "execution_count": 1,
   "id": "75182bd7",
   "metadata": {},
   "outputs": [],
   "source": [
    "import os\n",
    "import pandas as pd\n",
    "import numpy as np\n",
    "\n",
    "from library.sb_utils import save_file"
   ]
  },
  {
   "cell_type": "markdown",
   "id": "93839874",
   "metadata": {},
   "source": [
    "## 4. Data Collection"
   ]
  },
  {
   "cell_type": "code",
   "execution_count": 2,
   "id": "e1cbc113",
   "metadata": {},
   "outputs": [],
   "source": [
    "bc_data = pd.read_csv('../raw_data/breast_cancer_dataset.csv')"
   ]
  },
  {
   "cell_type": "code",
   "execution_count": 3,
   "id": "b93b448b",
   "metadata": {},
   "outputs": [
    {
     "data": {
      "text/html": [
       "<div>\n",
       "<style scoped>\n",
       "    .dataframe tbody tr th:only-of-type {\n",
       "        vertical-align: middle;\n",
       "    }\n",
       "\n",
       "    .dataframe tbody tr th {\n",
       "        vertical-align: top;\n",
       "    }\n",
       "\n",
       "    .dataframe thead th {\n",
       "        text-align: right;\n",
       "    }\n",
       "</style>\n",
       "<table border=\"1\" class=\"dataframe\">\n",
       "  <thead>\n",
       "    <tr style=\"text-align: right;\">\n",
       "      <th></th>\n",
       "      <th>id</th>\n",
       "      <th>Clump_Thickness</th>\n",
       "      <th>Cell_Size_Uniformity</th>\n",
       "      <th>Cell_Shape_Uniformity</th>\n",
       "      <th>Marginal_Adhesion</th>\n",
       "      <th>Single_Epi_Cell_Size</th>\n",
       "      <th>Bare_Nuclei</th>\n",
       "      <th>Bland_Chromatin</th>\n",
       "      <th>Normal_Nucleoli</th>\n",
       "      <th>Mitoses</th>\n",
       "      <th>Class</th>\n",
       "    </tr>\n",
       "  </thead>\n",
       "  <tbody>\n",
       "    <tr>\n",
       "      <th>0</th>\n",
       "      <td>1</td>\n",
       "      <td>7.581819</td>\n",
       "      <td>9.745087</td>\n",
       "      <td>1.000000</td>\n",
       "      <td>4.503410</td>\n",
       "      <td>7.039930</td>\n",
       "      <td>10.0</td>\n",
       "      <td>4.412282</td>\n",
       "      <td>10.000000</td>\n",
       "      <td>5.055266</td>\n",
       "      <td>malignant</td>\n",
       "    </tr>\n",
       "    <tr>\n",
       "      <th>1</th>\n",
       "      <td>2</td>\n",
       "      <td>5.210921</td>\n",
       "      <td>8.169596</td>\n",
       "      <td>7.841875</td>\n",
       "      <td>6.033275</td>\n",
       "      <td>4.269619</td>\n",
       "      <td>10.0</td>\n",
       "      <td>4.236312</td>\n",
       "      <td>4.845350</td>\n",
       "      <td>1.000000</td>\n",
       "      <td>malignant</td>\n",
       "    </tr>\n",
       "    <tr>\n",
       "      <th>2</th>\n",
       "      <td>3</td>\n",
       "      <td>4.000000</td>\n",
       "      <td>4.594296</td>\n",
       "      <td>2.330380</td>\n",
       "      <td>2.000000</td>\n",
       "      <td>3.000000</td>\n",
       "      <td>1.0</td>\n",
       "      <td>10.701823</td>\n",
       "      <td>1.101305</td>\n",
       "      <td>1.000000</td>\n",
       "      <td>benign</td>\n",
       "    </tr>\n",
       "    <tr>\n",
       "      <th>3</th>\n",
       "      <td>4</td>\n",
       "      <td>2.428871</td>\n",
       "      <td>1.000000</td>\n",
       "      <td>1.000000</td>\n",
       "      <td>1.000000</td>\n",
       "      <td>4.099291</td>\n",
       "      <td>1.0</td>\n",
       "      <td>2.000000</td>\n",
       "      <td>1.000000</td>\n",
       "      <td>1.000000</td>\n",
       "      <td>benign</td>\n",
       "    </tr>\n",
       "    <tr>\n",
       "      <th>4</th>\n",
       "      <td>5</td>\n",
       "      <td>8.855971</td>\n",
       "      <td>2.697539</td>\n",
       "      <td>6.047068</td>\n",
       "      <td>3.301891</td>\n",
       "      <td>3.000000</td>\n",
       "      <td>1.0</td>\n",
       "      <td>5.297592</td>\n",
       "      <td>4.104791</td>\n",
       "      <td>3.115741</td>\n",
       "      <td>malignant</td>\n",
       "    </tr>\n",
       "  </tbody>\n",
       "</table>\n",
       "</div>"
      ],
      "text/plain": [
       "   id  Clump_Thickness  Cell_Size_Uniformity  Cell_Shape_Uniformity  \\\n",
       "0   1         7.581819              9.745087               1.000000   \n",
       "1   2         5.210921              8.169596               7.841875   \n",
       "2   3         4.000000              4.594296               2.330380   \n",
       "3   4         2.428871              1.000000               1.000000   \n",
       "4   5         8.855971              2.697539               6.047068   \n",
       "\n",
       "   Marginal_Adhesion  Single_Epi_Cell_Size  Bare_Nuclei  Bland_Chromatin  \\\n",
       "0           4.503410              7.039930         10.0         4.412282   \n",
       "1           6.033275              4.269619         10.0         4.236312   \n",
       "2           2.000000              3.000000          1.0        10.701823   \n",
       "3           1.000000              4.099291          1.0         2.000000   \n",
       "4           3.301891              3.000000          1.0         5.297592   \n",
       "\n",
       "   Normal_Nucleoli   Mitoses      Class  \n",
       "0        10.000000  5.055266  malignant  \n",
       "1         4.845350  1.000000  malignant  \n",
       "2         1.101305  1.000000     benign  \n",
       "3         1.000000  1.000000     benign  \n",
       "4         4.104791  3.115741  malignant  "
      ]
     },
     "execution_count": 3,
     "metadata": {},
     "output_type": "execute_result"
    }
   ],
   "source": [
    "bc_data.head()"
   ]
  },
  {
   "cell_type": "markdown",
   "id": "3bde0e2d",
   "metadata": {},
   "source": [
    "## 5. Data Definition"
   ]
  },
  {
   "cell_type": "code",
   "execution_count": 4,
   "id": "17320bad",
   "metadata": {},
   "outputs": [
    {
     "data": {
      "text/plain": [
       "Index(['id', 'Clump_Thickness', 'Cell_Size_Uniformity',\n",
       "       'Cell_Shape_Uniformity', 'Marginal_Adhesion', 'Single_Epi_Cell_Size',\n",
       "       'Bare_Nuclei', 'Bland_Chromatin', 'Normal_Nucleoli', 'Mitoses',\n",
       "       'Class'],\n",
       "      dtype='object')"
      ]
     },
     "execution_count": 4,
     "metadata": {},
     "output_type": "execute_result"
    }
   ],
   "source": [
    "bc_data.columns"
   ]
  },
  {
   "cell_type": "code",
   "execution_count": 5,
   "id": "4e2de3c9",
   "metadata": {},
   "outputs": [
    {
     "data": {
      "text/plain": [
       "id                         int64\n",
       "Clump_Thickness          float64\n",
       "Cell_Size_Uniformity     float64\n",
       "Cell_Shape_Uniformity    float64\n",
       "Marginal_Adhesion        float64\n",
       "Single_Epi_Cell_Size     float64\n",
       "Bare_Nuclei              float64\n",
       "Bland_Chromatin          float64\n",
       "Normal_Nucleoli          float64\n",
       "Mitoses                  float64\n",
       "Class                     object\n",
       "dtype: object"
      ]
     },
     "execution_count": 5,
     "metadata": {},
     "output_type": "execute_result"
    }
   ],
   "source": [
    "bc_data.dtypes"
   ]
  },
  {
   "cell_type": "code",
   "execution_count": 6,
   "id": "31c40a75",
   "metadata": {},
   "outputs": [
    {
     "data": {
      "text/html": [
       "<div>\n",
       "<style scoped>\n",
       "    .dataframe tbody tr th:only-of-type {\n",
       "        vertical-align: middle;\n",
       "    }\n",
       "\n",
       "    .dataframe tbody tr th {\n",
       "        vertical-align: top;\n",
       "    }\n",
       "\n",
       "    .dataframe thead th {\n",
       "        text-align: right;\n",
       "    }\n",
       "</style>\n",
       "<table border=\"1\" class=\"dataframe\">\n",
       "  <thead>\n",
       "    <tr style=\"text-align: right;\">\n",
       "      <th></th>\n",
       "      <th>count</th>\n",
       "      <th>mean</th>\n",
       "      <th>std</th>\n",
       "      <th>min</th>\n",
       "      <th>25%</th>\n",
       "      <th>50%</th>\n",
       "      <th>75%</th>\n",
       "      <th>max</th>\n",
       "    </tr>\n",
       "  </thead>\n",
       "  <tbody>\n",
       "    <tr>\n",
       "      <th>id</th>\n",
       "      <td>39366.0</td>\n",
       "      <td>19683.500000</td>\n",
       "      <td>11364.129685</td>\n",
       "      <td>1.000000</td>\n",
       "      <td>9842.250000</td>\n",
       "      <td>19683.5</td>\n",
       "      <td>29524.750000</td>\n",
       "      <td>39366.000000</td>\n",
       "    </tr>\n",
       "    <tr>\n",
       "      <th>Clump_Thickness</th>\n",
       "      <td>39366.0</td>\n",
       "      <td>4.394013</td>\n",
       "      <td>2.812104</td>\n",
       "      <td>0.735460</td>\n",
       "      <td>2.243989</td>\n",
       "      <td>4.0</td>\n",
       "      <td>5.630522</td>\n",
       "      <td>13.717991</td>\n",
       "    </tr>\n",
       "    <tr>\n",
       "      <th>Cell_Size_Uniformity</th>\n",
       "      <td>39366.0</td>\n",
       "      <td>3.130070</td>\n",
       "      <td>3.039493</td>\n",
       "      <td>0.564014</td>\n",
       "      <td>1.000000</td>\n",
       "      <td>1.0</td>\n",
       "      <td>4.553797</td>\n",
       "      <td>10.933095</td>\n",
       "    </tr>\n",
       "    <tr>\n",
       "      <th>Cell_Shape_Uniformity</th>\n",
       "      <td>39366.0</td>\n",
       "      <td>3.203657</td>\n",
       "      <td>2.975983</td>\n",
       "      <td>1.000000</td>\n",
       "      <td>1.000000</td>\n",
       "      <td>1.0</td>\n",
       "      <td>4.966335</td>\n",
       "      <td>12.604289</td>\n",
       "    </tr>\n",
       "    <tr>\n",
       "      <th>Marginal_Adhesion</th>\n",
       "      <td>39366.0</td>\n",
       "      <td>2.827221</td>\n",
       "      <td>2.872543</td>\n",
       "      <td>1.000000</td>\n",
       "      <td>1.000000</td>\n",
       "      <td>1.0</td>\n",
       "      <td>3.551935</td>\n",
       "      <td>11.158505</td>\n",
       "    </tr>\n",
       "    <tr>\n",
       "      <th>Single_Epi_Cell_Size</th>\n",
       "      <td>39366.0</td>\n",
       "      <td>3.209844</td>\n",
       "      <td>2.220422</td>\n",
       "      <td>1.000000</td>\n",
       "      <td>2.000000</td>\n",
       "      <td>2.0</td>\n",
       "      <td>4.003072</td>\n",
       "      <td>14.414889</td>\n",
       "    </tr>\n",
       "    <tr>\n",
       "      <th>Bare_Nuclei</th>\n",
       "      <td>39366.0</td>\n",
       "      <td>3.497453</td>\n",
       "      <td>3.619992</td>\n",
       "      <td>-0.117818</td>\n",
       "      <td>1.000000</td>\n",
       "      <td>1.0</td>\n",
       "      <td>6.333434</td>\n",
       "      <td>13.160789</td>\n",
       "    </tr>\n",
       "    <tr>\n",
       "      <th>Bland_Chromatin</th>\n",
       "      <td>39366.0</td>\n",
       "      <td>3.409142</td>\n",
       "      <td>2.422371</td>\n",
       "      <td>1.000000</td>\n",
       "      <td>2.000000</td>\n",
       "      <td>3.0</td>\n",
       "      <td>4.561324</td>\n",
       "      <td>12.005376</td>\n",
       "    </tr>\n",
       "    <tr>\n",
       "      <th>Normal_Nucleoli</th>\n",
       "      <td>39366.0</td>\n",
       "      <td>2.894595</td>\n",
       "      <td>3.069489</td>\n",
       "      <td>0.758343</td>\n",
       "      <td>1.000000</td>\n",
       "      <td>1.0</td>\n",
       "      <td>3.797023</td>\n",
       "      <td>10.700432</td>\n",
       "    </tr>\n",
       "    <tr>\n",
       "      <th>Mitoses</th>\n",
       "      <td>39366.0</td>\n",
       "      <td>1.591809</td>\n",
       "      <td>1.706766</td>\n",
       "      <td>1.000000</td>\n",
       "      <td>1.000000</td>\n",
       "      <td>1.0</td>\n",
       "      <td>1.000000</td>\n",
       "      <td>12.044924</td>\n",
       "    </tr>\n",
       "  </tbody>\n",
       "</table>\n",
       "</div>"
      ],
      "text/plain": [
       "                         count          mean           std       min  \\\n",
       "id                     39366.0  19683.500000  11364.129685  1.000000   \n",
       "Clump_Thickness        39366.0      4.394013      2.812104  0.735460   \n",
       "Cell_Size_Uniformity   39366.0      3.130070      3.039493  0.564014   \n",
       "Cell_Shape_Uniformity  39366.0      3.203657      2.975983  1.000000   \n",
       "Marginal_Adhesion      39366.0      2.827221      2.872543  1.000000   \n",
       "Single_Epi_Cell_Size   39366.0      3.209844      2.220422  1.000000   \n",
       "Bare_Nuclei            39366.0      3.497453      3.619992 -0.117818   \n",
       "Bland_Chromatin        39366.0      3.409142      2.422371  1.000000   \n",
       "Normal_Nucleoli        39366.0      2.894595      3.069489  0.758343   \n",
       "Mitoses                39366.0      1.591809      1.706766  1.000000   \n",
       "\n",
       "                               25%      50%           75%           max  \n",
       "id                     9842.250000  19683.5  29524.750000  39366.000000  \n",
       "Clump_Thickness           2.243989      4.0      5.630522     13.717991  \n",
       "Cell_Size_Uniformity      1.000000      1.0      4.553797     10.933095  \n",
       "Cell_Shape_Uniformity     1.000000      1.0      4.966335     12.604289  \n",
       "Marginal_Adhesion         1.000000      1.0      3.551935     11.158505  \n",
       "Single_Epi_Cell_Size      2.000000      2.0      4.003072     14.414889  \n",
       "Bare_Nuclei               1.000000      1.0      6.333434     13.160789  \n",
       "Bland_Chromatin           2.000000      3.0      4.561324     12.005376  \n",
       "Normal_Nucleoli           1.000000      1.0      3.797023     10.700432  \n",
       "Mitoses                   1.000000      1.0      1.000000     12.044924  "
      ]
     },
     "execution_count": 6,
     "metadata": {},
     "output_type": "execute_result"
    }
   ],
   "source": [
    "#Check the summary statisitcs\n",
    "bc_data.describe().T"
   ]
  },
  {
   "cell_type": "code",
   "execution_count": 7,
   "id": "4f914d18",
   "metadata": {},
   "outputs": [
    {
     "data": {
      "text/plain": [
       "Clump_Thickness          12.982531\n",
       "Cell_Size_Uniformity     10.369081\n",
       "Cell_Shape_Uniformity    11.604289\n",
       "Marginal_Adhesion        10.158505\n",
       "Single_Epi_Cell_Size     13.414889\n",
       "Bare_Nuclei              13.278607\n",
       "Bland_Chromatin          11.005376\n",
       "Normal_Nucleoli           9.942089\n",
       "Mitoses                  11.044924\n",
       "dtype: float64"
      ]
     },
     "execution_count": 7,
     "metadata": {},
     "output_type": "execute_result"
    }
   ],
   "source": [
    "#Calculate the range of the dataframe\n",
    "df_max = bc_data.drop(['id','Class'],axis=1).max()\n",
    "df_min = bc_data.drop(['id','Class'],axis=1).min()\n",
    "df_range = df_max - df_min\n",
    "df_range"
   ]
  },
  {
   "cell_type": "code",
   "execution_count": 8,
   "id": "0ea21794",
   "metadata": {},
   "outputs": [
    {
     "data": {
      "text/plain": [
       "Clump_Thickness          4.0\n",
       "Cell_Size_Uniformity     1.0\n",
       "Cell_Shape_Uniformity    1.0\n",
       "Marginal_Adhesion        1.0\n",
       "Single_Epi_Cell_Size     2.0\n",
       "Bare_Nuclei              1.0\n",
       "Bland_Chromatin          3.0\n",
       "Normal_Nucleoli          1.0\n",
       "Mitoses                  1.0\n",
       "dtype: float64"
      ]
     },
     "execution_count": 8,
     "metadata": {},
     "output_type": "execute_result"
    }
   ],
   "source": [
    "#Calculate the median of the dataframe\n",
    "bc_data.drop(['id','Class'],axis=1).median()"
   ]
  },
  {
   "cell_type": "code",
   "execution_count": 9,
   "id": "4ee09734",
   "metadata": {},
   "outputs": [
    {
     "data": {
      "text/html": [
       "<div>\n",
       "<style scoped>\n",
       "    .dataframe tbody tr th:only-of-type {\n",
       "        vertical-align: middle;\n",
       "    }\n",
       "\n",
       "    .dataframe tbody tr th {\n",
       "        vertical-align: top;\n",
       "    }\n",
       "\n",
       "    .dataframe thead th {\n",
       "        text-align: right;\n",
       "    }\n",
       "</style>\n",
       "<table border=\"1\" class=\"dataframe\">\n",
       "  <thead>\n",
       "    <tr style=\"text-align: right;\">\n",
       "      <th></th>\n",
       "      <th>0</th>\n",
       "    </tr>\n",
       "  </thead>\n",
       "  <tbody>\n",
       "    <tr>\n",
       "      <th>Clump_Thickness</th>\n",
       "      <td>1.0</td>\n",
       "    </tr>\n",
       "    <tr>\n",
       "      <th>Cell_Size_Uniformity</th>\n",
       "      <td>1.0</td>\n",
       "    </tr>\n",
       "    <tr>\n",
       "      <th>Cell_Shape_Uniformity</th>\n",
       "      <td>1.0</td>\n",
       "    </tr>\n",
       "    <tr>\n",
       "      <th>Marginal_Adhesion</th>\n",
       "      <td>1.0</td>\n",
       "    </tr>\n",
       "    <tr>\n",
       "      <th>Single_Epi_Cell_Size</th>\n",
       "      <td>2.0</td>\n",
       "    </tr>\n",
       "    <tr>\n",
       "      <th>Bare_Nuclei</th>\n",
       "      <td>1.0</td>\n",
       "    </tr>\n",
       "    <tr>\n",
       "      <th>Bland_Chromatin</th>\n",
       "      <td>3.0</td>\n",
       "    </tr>\n",
       "    <tr>\n",
       "      <th>Normal_Nucleoli</th>\n",
       "      <td>1.0</td>\n",
       "    </tr>\n",
       "    <tr>\n",
       "      <th>Mitoses</th>\n",
       "      <td>1.0</td>\n",
       "    </tr>\n",
       "  </tbody>\n",
       "</table>\n",
       "</div>"
      ],
      "text/plain": [
       "                         0\n",
       "Clump_Thickness        1.0\n",
       "Cell_Size_Uniformity   1.0\n",
       "Cell_Shape_Uniformity  1.0\n",
       "Marginal_Adhesion      1.0\n",
       "Single_Epi_Cell_Size   2.0\n",
       "Bare_Nuclei            1.0\n",
       "Bland_Chromatin        3.0\n",
       "Normal_Nucleoli        1.0\n",
       "Mitoses                1.0"
      ]
     },
     "execution_count": 9,
     "metadata": {},
     "output_type": "execute_result"
    }
   ],
   "source": [
    "#Calculate the mode of the dataframe\n",
    "bc_data.drop(['id','Class'],axis=1).mode().T"
   ]
  },
  {
   "cell_type": "code",
   "execution_count": 10,
   "id": "5b074a12",
   "metadata": {
    "scrolled": true
   },
   "outputs": [
    {
     "data": {
      "text/plain": [
       "id                       39366\n",
       "Clump_Thickness          26387\n",
       "Cell_Size_Uniformity     17780\n",
       "Cell_Shape_Uniformity    16030\n",
       "Marginal_Adhesion        13232\n",
       "Single_Epi_Cell_Size     10910\n",
       "Bare_Nuclei               8561\n",
       "Bland_Chromatin          11991\n",
       "Normal_Nucleoli          11095\n",
       "Mitoses                   2988\n",
       "Class                        2\n",
       "dtype: int64"
      ]
     },
     "execution_count": 10,
     "metadata": {},
     "output_type": "execute_result"
    }
   ],
   "source": [
    "bc_data.nunique()"
   ]
  },
  {
   "cell_type": "markdown",
   "id": "aff25252",
   "metadata": {},
   "source": [
    "## 6. Data Cleaning"
   ]
  },
  {
   "cell_type": "markdown",
   "id": "4d605bc0",
   "metadata": {},
   "source": [
    "### Check for missing values:"
   ]
  },
  {
   "cell_type": "code",
   "execution_count": 11,
   "id": "b380fb77",
   "metadata": {},
   "outputs": [
    {
     "data": {
      "text/plain": [
       "id                       0\n",
       "Clump_Thickness          0\n",
       "Cell_Size_Uniformity     0\n",
       "Cell_Shape_Uniformity    0\n",
       "Marginal_Adhesion        0\n",
       "Single_Epi_Cell_Size     0\n",
       "Bare_Nuclei              0\n",
       "Bland_Chromatin          0\n",
       "Normal_Nucleoli          0\n",
       "Mitoses                  0\n",
       "Class                    0\n",
       "dtype: int64"
      ]
     },
     "execution_count": 11,
     "metadata": {},
     "output_type": "execute_result"
    }
   ],
   "source": [
    "bc_data.isnull().sum()"
   ]
  },
  {
   "cell_type": "markdown",
   "id": "26714523",
   "metadata": {},
   "source": [
    "### Check for outliers (invalid data): "
   ]
  },
  {
   "cell_type": "markdown",
   "id": "d1c67d3e",
   "metadata": {},
   "source": [
    "Additional Information provided with the dataset indicates that the domains of 'Clump_Thickness', 'Cell_Size_Uniformity', 'Cell_Shape_Uniformity', 'Marginal_Adhesion', 'Single_Epi_Cell_Size', 'Bare_Nuclei', 'Bland_Chromatin', 'Normal_Nucleoli', 'Mitoses' are between 1-10. \n",
    "\n",
    "Therefore, the dataset needs to checked for invalid outliers, defined to be values below 1 or greater than 10. "
   ]
  },
  {
   "cell_type": "code",
   "execution_count": 12,
   "id": "cb65ef14",
   "metadata": {},
   "outputs": [],
   "source": [
    "#min outliers are values < 1\n",
    "def check_min_outlier(column_name):\n",
    "    return len(bc_data[bc_data[column_name]<1])"
   ]
  },
  {
   "cell_type": "code",
   "execution_count": 13,
   "id": "6668e7b2",
   "metadata": {},
   "outputs": [
    {
     "name": "stdout",
     "output_type": "stream",
     "text": [
      "Number of min outliers in Clump_Thickness:  3\n",
      "Number of min outliers in Cell_Size_Uniformity:  8\n",
      "Number of min outliers in Cell_Shape_Uniformity:  0\n",
      "Number of min outliers in Marginal_Adhesion:  0\n",
      "Number of min outliers in Single_Epi_Cell_Size:  0\n",
      "Number of min outliers in Bare_Nuclei:  35\n",
      "Number of min outliers in Bland_Chromatin:  0\n",
      "Number of min outliers in Normal_Nucleoli:  3\n",
      "Number of min outliers in Mitoses:  0\n"
     ]
    }
   ],
   "source": [
    "print('Number of min outliers in Clump_Thickness: ', check_min_outlier('Clump_Thickness'))\n",
    "print('Number of min outliers in Cell_Size_Uniformity: ', check_min_outlier('Cell_Size_Uniformity'))\n",
    "print('Number of min outliers in Cell_Shape_Uniformity: ', check_min_outlier('Cell_Shape_Uniformity'))\n",
    "print('Number of min outliers in Marginal_Adhesion: ', check_min_outlier('Marginal_Adhesion'))\n",
    "print('Number of min outliers in Single_Epi_Cell_Size: ', check_min_outlier('Single_Epi_Cell_Size'))\n",
    "print('Number of min outliers in Bare_Nuclei: ', check_min_outlier('Bare_Nuclei'))\n",
    "print('Number of min outliers in Bland_Chromatin: ', check_min_outlier('Bland_Chromatin'))\n",
    "print('Number of min outliers in Normal_Nucleoli: ', check_min_outlier('Normal_Nucleoli'))\n",
    "print('Number of min outliers in Mitoses: ', check_min_outlier('Mitoses'))"
   ]
  },
  {
   "cell_type": "code",
   "execution_count": 14,
   "id": "6dacfba1",
   "metadata": {},
   "outputs": [],
   "source": [
    "#min outliers are values > 10\n",
    "def check_max_outlier(column_name):\n",
    "    return len(bc_data[bc_data[column_name]>10])"
   ]
  },
  {
   "cell_type": "code",
   "execution_count": 15,
   "id": "82dcb06a",
   "metadata": {},
   "outputs": [
    {
     "name": "stdout",
     "output_type": "stream",
     "text": [
      "Number of max outliers in Clump_Thickness:  1329\n",
      "Number of max outliers in Cell_Size_Uniformity:  1597\n",
      "Number of max outliers in Cell_Shape_Uniformity:  1212\n",
      "Number of max outliers in Marginal_Adhesion:  1343\n",
      "Number of max outliers in Single_Epi_Cell_Size:  510\n",
      "Number of max outliers in Bare_Nuclei:  69\n",
      "Number of max outliers in Bland_Chromatin:  184\n",
      "Number of max outliers in Normal_Nucleoli:  11\n",
      "Number of max outliers in Mitoses:  261\n"
     ]
    }
   ],
   "source": [
    "print('Number of max outliers in Clump_Thickness: ', check_max_outlier('Clump_Thickness'))\n",
    "print('Number of max outliers in Cell_Size_Uniformity: ', check_max_outlier('Cell_Size_Uniformity'))\n",
    "print('Number of max outliers in Cell_Shape_Uniformity: ', check_max_outlier('Cell_Shape_Uniformity'))\n",
    "print('Number of max outliers in Marginal_Adhesion: ', check_max_outlier('Marginal_Adhesion'))\n",
    "print('Number of max outliers in Single_Epi_Cell_Size: ', check_max_outlier('Single_Epi_Cell_Size'))\n",
    "print('Number of max outliers in Bare_Nuclei: ', check_max_outlier('Bare_Nuclei'))\n",
    "print('Number of max outliers in Bland_Chromatin: ', check_max_outlier('Bland_Chromatin'))\n",
    "print('Number of max outliers in Normal_Nucleoli: ', check_max_outlier('Normal_Nucleoli'))\n",
    "print('Number of max outliers in Mitoses: ', check_max_outlier('Mitoses'))"
   ]
  },
  {
   "cell_type": "markdown",
   "id": "8c8dcc82",
   "metadata": {},
   "source": [
    "Based on the results of these queries, there is a signficant subset of the dataset with max outliers. Removing all max outliers from the dataset would remove close to 5000 entries or about 13% of the data. That is too much data to remove from the classification problem without compromising the integrity of the results of this project.\n",
    "\n",
    "There is a small number of min outliers and removing them doesn't alter the significance of the results."
   ]
  },
  {
   "cell_type": "code",
   "execution_count": 16,
   "id": "a752b31b",
   "metadata": {},
   "outputs": [],
   "source": [
    "def remove_min_outliers(column_name):\n",
    "    return (bc_data[bc_data[column_name]>=1])"
   ]
  },
  {
   "cell_type": "code",
   "execution_count": 17,
   "id": "7d3d3ed2",
   "metadata": {},
   "outputs": [],
   "source": [
    "bc_data = remove_min_outliers('Clump_Thickness')\n",
    "bc_data = remove_min_outliers('Cell_Size_Uniformity')\n",
    "bc_data = remove_min_outliers('Cell_Shape_Uniformity')\n",
    "bc_data = remove_min_outliers('Marginal_Adhesion')\n",
    "bc_data = remove_min_outliers('Single_Epi_Cell_Size')\n",
    "bc_data = remove_min_outliers('Bare_Nuclei')\n",
    "bc_data = remove_min_outliers('Bland_Chromatin')\n",
    "bc_data = remove_min_outliers('Normal_Nucleoli')\n",
    "bc_data = remove_min_outliers('Mitoses')"
   ]
  },
  {
   "cell_type": "code",
   "execution_count": 18,
   "id": "2671af98",
   "metadata": {},
   "outputs": [
    {
     "name": "stdout",
     "output_type": "stream",
     "text": [
      "Number of min outliers in Clump_Thickness:  0\n",
      "Number of min outliers in Cell_Size_Uniformity:  0\n",
      "Number of min outliers in Cell_Shape_Uniformity:  0\n",
      "Number of min outliers in Marginal_Adhesion:  0\n",
      "Number of min outliers in Single_Epi_Cell_Size:  0\n",
      "Number of min outliers in Bare_Nuclei:  0\n",
      "Number of min outliers in Bland_Chromatin:  0\n",
      "Number of min outliers in Normal_Nucleoli:  0\n",
      "Number of min outliers in Mitoses:  0\n"
     ]
    }
   ],
   "source": [
    "print('Number of min outliers in Clump_Thickness: ', check_min_outlier('Clump_Thickness'))\n",
    "print('Number of min outliers in Cell_Size_Uniformity: ', check_min_outlier('Cell_Size_Uniformity'))\n",
    "print('Number of min outliers in Cell_Shape_Uniformity: ', check_min_outlier('Cell_Shape_Uniformity'))\n",
    "print('Number of min outliers in Marginal_Adhesion: ', check_min_outlier('Marginal_Adhesion'))\n",
    "print('Number of min outliers in Single_Epi_Cell_Size: ', check_min_outlier('Single_Epi_Cell_Size'))\n",
    "print('Number of min outliers in Bare_Nuclei: ', check_min_outlier('Bare_Nuclei'))\n",
    "print('Number of min outliers in Bland_Chromatin: ', check_min_outlier('Bland_Chromatin'))\n",
    "print('Number of min outliers in Normal_Nucleoli: ', check_min_outlier('Normal_Nucleoli'))\n",
    "print('Number of min outliers in Mitoses: ', check_min_outlier('Mitoses'))"
   ]
  },
  {
   "cell_type": "code",
   "execution_count": 19,
   "id": "5bd39bf2",
   "metadata": {
    "scrolled": true
   },
   "outputs": [
    {
     "data": {
      "text/html": [
       "<div>\n",
       "<style scoped>\n",
       "    .dataframe tbody tr th:only-of-type {\n",
       "        vertical-align: middle;\n",
       "    }\n",
       "\n",
       "    .dataframe tbody tr th {\n",
       "        vertical-align: top;\n",
       "    }\n",
       "\n",
       "    .dataframe thead th {\n",
       "        text-align: right;\n",
       "    }\n",
       "</style>\n",
       "<table border=\"1\" class=\"dataframe\">\n",
       "  <thead>\n",
       "    <tr style=\"text-align: right;\">\n",
       "      <th></th>\n",
       "      <th>count</th>\n",
       "      <th>mean</th>\n",
       "      <th>std</th>\n",
       "      <th>min</th>\n",
       "      <th>25%</th>\n",
       "      <th>50%</th>\n",
       "      <th>75%</th>\n",
       "      <th>max</th>\n",
       "    </tr>\n",
       "  </thead>\n",
       "  <tbody>\n",
       "    <tr>\n",
       "      <th>id</th>\n",
       "      <td>39317.0</td>\n",
       "      <td>19680.358649</td>\n",
       "      <td>11363.605788</td>\n",
       "      <td>1.0</td>\n",
       "      <td>9839.000000</td>\n",
       "      <td>19679.0</td>\n",
       "      <td>29520.000000</td>\n",
       "      <td>39366.000000</td>\n",
       "    </tr>\n",
       "    <tr>\n",
       "      <th>Clump_Thickness</th>\n",
       "      <td>39317.0</td>\n",
       "      <td>4.393465</td>\n",
       "      <td>2.811865</td>\n",
       "      <td>1.0</td>\n",
       "      <td>2.244085</td>\n",
       "      <td>4.0</td>\n",
       "      <td>5.629741</td>\n",
       "      <td>13.717991</td>\n",
       "    </tr>\n",
       "    <tr>\n",
       "      <th>Cell_Size_Uniformity</th>\n",
       "      <td>39317.0</td>\n",
       "      <td>3.129445</td>\n",
       "      <td>3.039286</td>\n",
       "      <td>1.0</td>\n",
       "      <td>1.000000</td>\n",
       "      <td>1.0</td>\n",
       "      <td>4.553463</td>\n",
       "      <td>10.933095</td>\n",
       "    </tr>\n",
       "    <tr>\n",
       "      <th>Cell_Shape_Uniformity</th>\n",
       "      <td>39317.0</td>\n",
       "      <td>3.203115</td>\n",
       "      <td>2.975756</td>\n",
       "      <td>1.0</td>\n",
       "      <td>1.000000</td>\n",
       "      <td>1.0</td>\n",
       "      <td>4.965623</td>\n",
       "      <td>12.604289</td>\n",
       "    </tr>\n",
       "    <tr>\n",
       "      <th>Marginal_Adhesion</th>\n",
       "      <td>39317.0</td>\n",
       "      <td>2.826947</td>\n",
       "      <td>2.872436</td>\n",
       "      <td>1.0</td>\n",
       "      <td>1.000000</td>\n",
       "      <td>1.0</td>\n",
       "      <td>3.551612</td>\n",
       "      <td>11.158505</td>\n",
       "    </tr>\n",
       "    <tr>\n",
       "      <th>Single_Epi_Cell_Size</th>\n",
       "      <td>39317.0</td>\n",
       "      <td>3.209550</td>\n",
       "      <td>2.220396</td>\n",
       "      <td>1.0</td>\n",
       "      <td>2.000000</td>\n",
       "      <td>2.0</td>\n",
       "      <td>4.002653</td>\n",
       "      <td>14.414889</td>\n",
       "    </tr>\n",
       "    <tr>\n",
       "      <th>Bare_Nuclei</th>\n",
       "      <td>39317.0</td>\n",
       "      <td>3.500404</td>\n",
       "      <td>3.620691</td>\n",
       "      <td>1.0</td>\n",
       "      <td>1.000000</td>\n",
       "      <td>1.0</td>\n",
       "      <td>6.338096</td>\n",
       "      <td>13.160789</td>\n",
       "    </tr>\n",
       "    <tr>\n",
       "      <th>Bland_Chromatin</th>\n",
       "      <td>39317.0</td>\n",
       "      <td>3.408230</td>\n",
       "      <td>2.421583</td>\n",
       "      <td>1.0</td>\n",
       "      <td>2.000000</td>\n",
       "      <td>3.0</td>\n",
       "      <td>4.559898</td>\n",
       "      <td>12.005376</td>\n",
       "    </tr>\n",
       "    <tr>\n",
       "      <th>Normal_Nucleoli</th>\n",
       "      <td>39317.0</td>\n",
       "      <td>2.894197</td>\n",
       "      <td>3.069320</td>\n",
       "      <td>1.0</td>\n",
       "      <td>1.000000</td>\n",
       "      <td>1.0</td>\n",
       "      <td>3.793476</td>\n",
       "      <td>10.700432</td>\n",
       "    </tr>\n",
       "    <tr>\n",
       "      <th>Mitoses</th>\n",
       "      <td>39317.0</td>\n",
       "      <td>1.591045</td>\n",
       "      <td>1.705605</td>\n",
       "      <td>1.0</td>\n",
       "      <td>1.000000</td>\n",
       "      <td>1.0</td>\n",
       "      <td>1.000000</td>\n",
       "      <td>12.044924</td>\n",
       "    </tr>\n",
       "  </tbody>\n",
       "</table>\n",
       "</div>"
      ],
      "text/plain": [
       "                         count          mean           std  min          25%  \\\n",
       "id                     39317.0  19680.358649  11363.605788  1.0  9839.000000   \n",
       "Clump_Thickness        39317.0      4.393465      2.811865  1.0     2.244085   \n",
       "Cell_Size_Uniformity   39317.0      3.129445      3.039286  1.0     1.000000   \n",
       "Cell_Shape_Uniformity  39317.0      3.203115      2.975756  1.0     1.000000   \n",
       "Marginal_Adhesion      39317.0      2.826947      2.872436  1.0     1.000000   \n",
       "Single_Epi_Cell_Size   39317.0      3.209550      2.220396  1.0     2.000000   \n",
       "Bare_Nuclei            39317.0      3.500404      3.620691  1.0     1.000000   \n",
       "Bland_Chromatin        39317.0      3.408230      2.421583  1.0     2.000000   \n",
       "Normal_Nucleoli        39317.0      2.894197      3.069320  1.0     1.000000   \n",
       "Mitoses                39317.0      1.591045      1.705605  1.0     1.000000   \n",
       "\n",
       "                           50%           75%           max  \n",
       "id                     19679.0  29520.000000  39366.000000  \n",
       "Clump_Thickness            4.0      5.629741     13.717991  \n",
       "Cell_Size_Uniformity       1.0      4.553463     10.933095  \n",
       "Cell_Shape_Uniformity      1.0      4.965623     12.604289  \n",
       "Marginal_Adhesion          1.0      3.551612     11.158505  \n",
       "Single_Epi_Cell_Size       2.0      4.002653     14.414889  \n",
       "Bare_Nuclei                1.0      6.338096     13.160789  \n",
       "Bland_Chromatin            3.0      4.559898     12.005376  \n",
       "Normal_Nucleoli            1.0      3.793476     10.700432  \n",
       "Mitoses                    1.0      1.000000     12.044924  "
      ]
     },
     "execution_count": 19,
     "metadata": {},
     "output_type": "execute_result"
    }
   ],
   "source": [
    "bc_data.describe().T"
   ]
  },
  {
   "cell_type": "code",
   "execution_count": 20,
   "id": "e389cb96",
   "metadata": {},
   "outputs": [
    {
     "name": "stdout",
     "output_type": "stream",
     "text": [
      "A file already exists with this name.\n",
      "\n",
      "Do you want to overwrite? (Y/N)y\n",
      "Writing file.  \"../data\\bc_data_cleaned.csv\"\n"
     ]
    }
   ],
   "source": [
    "#save the cleaned dataframe as csv for the next steps\n",
    "datapath = '../data'\n",
    "save_file(bc_data, 'bc_data_cleaned.csv', datapath)"
   ]
  }
 ],
 "metadata": {
  "kernelspec": {
   "display_name": "Python 3 (ipykernel)",
   "language": "python",
   "name": "python3"
  },
  "language_info": {
   "codemirror_mode": {
    "name": "ipython",
    "version": 3
   },
   "file_extension": ".py",
   "mimetype": "text/x-python",
   "name": "python",
   "nbconvert_exporter": "python",
   "pygments_lexer": "ipython3",
   "version": "3.9.7"
  }
 },
 "nbformat": 4,
 "nbformat_minor": 5
}
